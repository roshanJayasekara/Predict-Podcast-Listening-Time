{
 "cells": [
  {
   "cell_type": "code",
   "execution_count": 1,
   "id": "793e1d44",
   "metadata": {
    "_cell_guid": "b1076dfc-b9ad-4769-8c92-a6c4dae69d19",
    "_uuid": "8f2839f25d086af736a60e9eeb907d3b93b6e0e5",
    "execution": {
     "iopub.execute_input": "2025-04-05T08:12:53.192767Z",
     "iopub.status.busy": "2025-04-05T08:12:53.192365Z",
     "iopub.status.idle": "2025-04-05T08:12:54.268348Z",
     "shell.execute_reply": "2025-04-05T08:12:54.267060Z"
    },
    "papermill": {
     "duration": 1.086452,
     "end_time": "2025-04-05T08:12:54.270309",
     "exception": false,
     "start_time": "2025-04-05T08:12:53.183857",
     "status": "completed"
    },
    "tags": []
   },
   "outputs": [
    {
     "name": "stdout",
     "output_type": "stream",
     "text": [
      "/kaggle/input/playground-series-s5e4/sample_submission.csv\n",
      "/kaggle/input/playground-series-s5e4/train.csv\n",
      "/kaggle/input/playground-series-s5e4/test.csv\n"
     ]
    }
   ],
   "source": [
    "# This Python 3 environment comes with many helpful analytics libraries installed\n",
    "# It is defined by the kaggle/python Docker image: https://github.com/kaggle/docker-python\n",
    "# For example, here's several helpful packages to load\n",
    "\n",
    "import numpy as np # linear algebra\n",
    "import pandas as pd # data processing, CSV file I/O (e.g. pd.read_csv)\n",
    "\n",
    "# Input data files are available in the read-only \"../input/\" directory\n",
    "# For example, running this (by clicking run or pressing Shift+Enter) will list all files under the input directory\n",
    "\n",
    "import os\n",
    "for dirname, _, filenames in os.walk('/kaggle/input'):\n",
    "    for filename in filenames:\n",
    "        print(os.path.join(dirname, filename))\n",
    "\n",
    "# You can write up to 20GB to the current directory (/kaggle/working/) that gets preserved as output when you create a version using \"Save & Run All\" \n",
    "# You can also write temporary files to /kaggle/temp/, but they won't be saved outside of the current session"
   ]
  },
  {
   "cell_type": "code",
   "execution_count": 2,
   "id": "9881a407",
   "metadata": {
    "execution": {
     "iopub.execute_input": "2025-04-05T08:12:54.285327Z",
     "iopub.status.busy": "2025-04-05T08:12:54.284835Z",
     "iopub.status.idle": "2025-04-05T08:12:57.039481Z",
     "shell.execute_reply": "2025-04-05T08:12:57.038408Z"
    },
    "papermill": {
     "duration": 2.764154,
     "end_time": "2025-04-05T08:12:57.041453",
     "exception": false,
     "start_time": "2025-04-05T08:12:54.277299",
     "status": "completed"
    },
    "tags": []
   },
   "outputs": [],
   "source": [
    "df_train = pd.read_csv(\"/kaggle/input/playground-series-s5e4/train.csv\")\n",
    "df_test = pd.read_csv(\"/kaggle/input/playground-series-s5e4/test.csv\")\n",
    "df_sample = pd.read_csv(\"/kaggle/input/playground-series-s5e4/sample_submission.csv\")"
   ]
  },
  {
   "cell_type": "code",
   "execution_count": 3,
   "id": "52f9560d",
   "metadata": {
    "execution": {
     "iopub.execute_input": "2025-04-05T08:12:57.056790Z",
     "iopub.status.busy": "2025-04-05T08:12:57.056394Z",
     "iopub.status.idle": "2025-04-05T08:12:57.091490Z",
     "shell.execute_reply": "2025-04-05T08:12:57.090371Z"
    },
    "papermill": {
     "duration": 0.044739,
     "end_time": "2025-04-05T08:12:57.093407",
     "exception": false,
     "start_time": "2025-04-05T08:12:57.048668",
     "status": "completed"
    },
    "tags": []
   },
   "outputs": [
    {
     "name": "stderr",
     "output_type": "stream",
     "text": [
      "/usr/local/lib/python3.10/dist-packages/pandas/io/formats/format.py:1458: RuntimeWarning: invalid value encountered in greater\n",
      "  has_large_values = (abs_vals > 1e6).any()\n",
      "/usr/local/lib/python3.10/dist-packages/pandas/io/formats/format.py:1459: RuntimeWarning: invalid value encountered in less\n",
      "  has_small_values = ((abs_vals < 10 ** (-self.digits)) & (abs_vals > 0)).any()\n",
      "/usr/local/lib/python3.10/dist-packages/pandas/io/formats/format.py:1459: RuntimeWarning: invalid value encountered in greater\n",
      "  has_small_values = ((abs_vals < 10 ** (-self.digits)) & (abs_vals > 0)).any()\n"
     ]
    },
    {
     "data": {
      "text/html": [
       "<div>\n",
       "<style scoped>\n",
       "    .dataframe tbody tr th:only-of-type {\n",
       "        vertical-align: middle;\n",
       "    }\n",
       "\n",
       "    .dataframe tbody tr th {\n",
       "        vertical-align: top;\n",
       "    }\n",
       "\n",
       "    .dataframe thead th {\n",
       "        text-align: right;\n",
       "    }\n",
       "</style>\n",
       "<table border=\"1\" class=\"dataframe\">\n",
       "  <thead>\n",
       "    <tr style=\"text-align: right;\">\n",
       "      <th></th>\n",
       "      <th>id</th>\n",
       "      <th>Podcast_Name</th>\n",
       "      <th>Episode_Title</th>\n",
       "      <th>Episode_Length_minutes</th>\n",
       "      <th>Genre</th>\n",
       "      <th>Host_Popularity_percentage</th>\n",
       "      <th>Publication_Day</th>\n",
       "      <th>Publication_Time</th>\n",
       "      <th>Guest_Popularity_percentage</th>\n",
       "      <th>Number_of_Ads</th>\n",
       "      <th>Episode_Sentiment</th>\n",
       "      <th>Listening_Time_minutes</th>\n",
       "    </tr>\n",
       "  </thead>\n",
       "  <tbody>\n",
       "    <tr>\n",
       "      <th>0</th>\n",
       "      <td>0</td>\n",
       "      <td>Mystery Matters</td>\n",
       "      <td>Episode 98</td>\n",
       "      <td>NaN</td>\n",
       "      <td>True Crime</td>\n",
       "      <td>74.81</td>\n",
       "      <td>Thursday</td>\n",
       "      <td>Night</td>\n",
       "      <td>NaN</td>\n",
       "      <td>0.0</td>\n",
       "      <td>Positive</td>\n",
       "      <td>31.41998</td>\n",
       "    </tr>\n",
       "    <tr>\n",
       "      <th>1</th>\n",
       "      <td>1</td>\n",
       "      <td>Joke Junction</td>\n",
       "      <td>Episode 26</td>\n",
       "      <td>119.80</td>\n",
       "      <td>Comedy</td>\n",
       "      <td>66.95</td>\n",
       "      <td>Saturday</td>\n",
       "      <td>Afternoon</td>\n",
       "      <td>75.95</td>\n",
       "      <td>2.0</td>\n",
       "      <td>Negative</td>\n",
       "      <td>88.01241</td>\n",
       "    </tr>\n",
       "    <tr>\n",
       "      <th>2</th>\n",
       "      <td>2</td>\n",
       "      <td>Study Sessions</td>\n",
       "      <td>Episode 16</td>\n",
       "      <td>73.90</td>\n",
       "      <td>Education</td>\n",
       "      <td>69.97</td>\n",
       "      <td>Tuesday</td>\n",
       "      <td>Evening</td>\n",
       "      <td>8.97</td>\n",
       "      <td>0.0</td>\n",
       "      <td>Negative</td>\n",
       "      <td>44.92531</td>\n",
       "    </tr>\n",
       "    <tr>\n",
       "      <th>3</th>\n",
       "      <td>3</td>\n",
       "      <td>Digital Digest</td>\n",
       "      <td>Episode 45</td>\n",
       "      <td>67.17</td>\n",
       "      <td>Technology</td>\n",
       "      <td>57.22</td>\n",
       "      <td>Monday</td>\n",
       "      <td>Morning</td>\n",
       "      <td>78.70</td>\n",
       "      <td>2.0</td>\n",
       "      <td>Positive</td>\n",
       "      <td>46.27824</td>\n",
       "    </tr>\n",
       "    <tr>\n",
       "      <th>4</th>\n",
       "      <td>4</td>\n",
       "      <td>Mind &amp; Body</td>\n",
       "      <td>Episode 86</td>\n",
       "      <td>110.51</td>\n",
       "      <td>Health</td>\n",
       "      <td>80.07</td>\n",
       "      <td>Monday</td>\n",
       "      <td>Afternoon</td>\n",
       "      <td>58.68</td>\n",
       "      <td>3.0</td>\n",
       "      <td>Neutral</td>\n",
       "      <td>75.61031</td>\n",
       "    </tr>\n",
       "  </tbody>\n",
       "</table>\n",
       "</div>"
      ],
      "text/plain": [
       "   id     Podcast_Name Episode_Title  Episode_Length_minutes       Genre  \\\n",
       "0   0  Mystery Matters    Episode 98                     NaN  True Crime   \n",
       "1   1    Joke Junction    Episode 26                  119.80      Comedy   \n",
       "2   2   Study Sessions    Episode 16                   73.90   Education   \n",
       "3   3   Digital Digest    Episode 45                   67.17  Technology   \n",
       "4   4      Mind & Body    Episode 86                  110.51      Health   \n",
       "\n",
       "   Host_Popularity_percentage Publication_Day Publication_Time  \\\n",
       "0                       74.81        Thursday            Night   \n",
       "1                       66.95        Saturday        Afternoon   \n",
       "2                       69.97         Tuesday          Evening   \n",
       "3                       57.22          Monday          Morning   \n",
       "4                       80.07          Monday        Afternoon   \n",
       "\n",
       "   Guest_Popularity_percentage  Number_of_Ads Episode_Sentiment  \\\n",
       "0                          NaN            0.0          Positive   \n",
       "1                        75.95            2.0          Negative   \n",
       "2                         8.97            0.0          Negative   \n",
       "3                        78.70            2.0          Positive   \n",
       "4                        58.68            3.0           Neutral   \n",
       "\n",
       "   Listening_Time_minutes  \n",
       "0                31.41998  \n",
       "1                88.01241  \n",
       "2                44.92531  \n",
       "3                46.27824  \n",
       "4                75.61031  "
      ]
     },
     "execution_count": 3,
     "metadata": {},
     "output_type": "execute_result"
    }
   ],
   "source": [
    "df_train.head()"
   ]
  },
  {
   "cell_type": "code",
   "execution_count": 4,
   "id": "c0d4c490",
   "metadata": {
    "execution": {
     "iopub.execute_input": "2025-04-05T08:12:57.108728Z",
     "iopub.status.busy": "2025-04-05T08:12:57.108316Z",
     "iopub.status.idle": "2025-04-05T08:12:57.124429Z",
     "shell.execute_reply": "2025-04-05T08:12:57.123127Z"
    },
    "papermill": {
     "duration": 0.026158,
     "end_time": "2025-04-05T08:12:57.126706",
     "exception": false,
     "start_time": "2025-04-05T08:12:57.100548",
     "status": "completed"
    },
    "tags": []
   },
   "outputs": [
    {
     "name": "stderr",
     "output_type": "stream",
     "text": [
      "/usr/local/lib/python3.10/dist-packages/pandas/io/formats/format.py:1458: RuntimeWarning: invalid value encountered in greater\n",
      "  has_large_values = (abs_vals > 1e6).any()\n",
      "/usr/local/lib/python3.10/dist-packages/pandas/io/formats/format.py:1459: RuntimeWarning: invalid value encountered in less\n",
      "  has_small_values = ((abs_vals < 10 ** (-self.digits)) & (abs_vals > 0)).any()\n",
      "/usr/local/lib/python3.10/dist-packages/pandas/io/formats/format.py:1459: RuntimeWarning: invalid value encountered in greater\n",
      "  has_small_values = ((abs_vals < 10 ** (-self.digits)) & (abs_vals > 0)).any()\n"
     ]
    },
    {
     "data": {
      "text/html": [
       "<div>\n",
       "<style scoped>\n",
       "    .dataframe tbody tr th:only-of-type {\n",
       "        vertical-align: middle;\n",
       "    }\n",
       "\n",
       "    .dataframe tbody tr th {\n",
       "        vertical-align: top;\n",
       "    }\n",
       "\n",
       "    .dataframe thead th {\n",
       "        text-align: right;\n",
       "    }\n",
       "</style>\n",
       "<table border=\"1\" class=\"dataframe\">\n",
       "  <thead>\n",
       "    <tr style=\"text-align: right;\">\n",
       "      <th></th>\n",
       "      <th>id</th>\n",
       "      <th>Podcast_Name</th>\n",
       "      <th>Episode_Title</th>\n",
       "      <th>Episode_Length_minutes</th>\n",
       "      <th>Genre</th>\n",
       "      <th>Host_Popularity_percentage</th>\n",
       "      <th>Publication_Day</th>\n",
       "      <th>Publication_Time</th>\n",
       "      <th>Guest_Popularity_percentage</th>\n",
       "      <th>Number_of_Ads</th>\n",
       "      <th>Episode_Sentiment</th>\n",
       "    </tr>\n",
       "  </thead>\n",
       "  <tbody>\n",
       "    <tr>\n",
       "      <th>0</th>\n",
       "      <td>750000</td>\n",
       "      <td>Educational Nuggets</td>\n",
       "      <td>Episode 73</td>\n",
       "      <td>78.96</td>\n",
       "      <td>Education</td>\n",
       "      <td>38.11</td>\n",
       "      <td>Saturday</td>\n",
       "      <td>Evening</td>\n",
       "      <td>53.33</td>\n",
       "      <td>1.0</td>\n",
       "      <td>Neutral</td>\n",
       "    </tr>\n",
       "    <tr>\n",
       "      <th>1</th>\n",
       "      <td>750001</td>\n",
       "      <td>Sound Waves</td>\n",
       "      <td>Episode 23</td>\n",
       "      <td>27.87</td>\n",
       "      <td>Music</td>\n",
       "      <td>71.29</td>\n",
       "      <td>Sunday</td>\n",
       "      <td>Morning</td>\n",
       "      <td>NaN</td>\n",
       "      <td>0.0</td>\n",
       "      <td>Neutral</td>\n",
       "    </tr>\n",
       "    <tr>\n",
       "      <th>2</th>\n",
       "      <td>750002</td>\n",
       "      <td>Joke Junction</td>\n",
       "      <td>Episode 11</td>\n",
       "      <td>69.10</td>\n",
       "      <td>Comedy</td>\n",
       "      <td>67.89</td>\n",
       "      <td>Friday</td>\n",
       "      <td>Evening</td>\n",
       "      <td>97.51</td>\n",
       "      <td>0.0</td>\n",
       "      <td>Positive</td>\n",
       "    </tr>\n",
       "    <tr>\n",
       "      <th>3</th>\n",
       "      <td>750003</td>\n",
       "      <td>Comedy Corner</td>\n",
       "      <td>Episode 73</td>\n",
       "      <td>115.39</td>\n",
       "      <td>Comedy</td>\n",
       "      <td>23.40</td>\n",
       "      <td>Sunday</td>\n",
       "      <td>Morning</td>\n",
       "      <td>51.75</td>\n",
       "      <td>2.0</td>\n",
       "      <td>Positive</td>\n",
       "    </tr>\n",
       "    <tr>\n",
       "      <th>4</th>\n",
       "      <td>750004</td>\n",
       "      <td>Life Lessons</td>\n",
       "      <td>Episode 50</td>\n",
       "      <td>72.32</td>\n",
       "      <td>Lifestyle</td>\n",
       "      <td>58.10</td>\n",
       "      <td>Wednesday</td>\n",
       "      <td>Morning</td>\n",
       "      <td>11.30</td>\n",
       "      <td>2.0</td>\n",
       "      <td>Neutral</td>\n",
       "    </tr>\n",
       "  </tbody>\n",
       "</table>\n",
       "</div>"
      ],
      "text/plain": [
       "       id         Podcast_Name Episode_Title  Episode_Length_minutes  \\\n",
       "0  750000  Educational Nuggets    Episode 73                   78.96   \n",
       "1  750001          Sound Waves    Episode 23                   27.87   \n",
       "2  750002        Joke Junction    Episode 11                   69.10   \n",
       "3  750003        Comedy Corner    Episode 73                  115.39   \n",
       "4  750004         Life Lessons    Episode 50                   72.32   \n",
       "\n",
       "       Genre  Host_Popularity_percentage Publication_Day Publication_Time  \\\n",
       "0  Education                       38.11        Saturday          Evening   \n",
       "1      Music                       71.29          Sunday          Morning   \n",
       "2     Comedy                       67.89          Friday          Evening   \n",
       "3     Comedy                       23.40          Sunday          Morning   \n",
       "4  Lifestyle                       58.10       Wednesday          Morning   \n",
       "\n",
       "   Guest_Popularity_percentage  Number_of_Ads Episode_Sentiment  \n",
       "0                        53.33            1.0           Neutral  \n",
       "1                          NaN            0.0           Neutral  \n",
       "2                        97.51            0.0          Positive  \n",
       "3                        51.75            2.0          Positive  \n",
       "4                        11.30            2.0           Neutral  "
      ]
     },
     "execution_count": 4,
     "metadata": {},
     "output_type": "execute_result"
    }
   ],
   "source": [
    "df_test.head()"
   ]
  },
  {
   "cell_type": "code",
   "execution_count": 5,
   "id": "31a1d64a",
   "metadata": {
    "execution": {
     "iopub.execute_input": "2025-04-05T08:12:57.146505Z",
     "iopub.status.busy": "2025-04-05T08:12:57.146077Z",
     "iopub.status.idle": "2025-04-05T08:12:57.155311Z",
     "shell.execute_reply": "2025-04-05T08:12:57.154314Z"
    },
    "papermill": {
     "duration": 0.021197,
     "end_time": "2025-04-05T08:12:57.156950",
     "exception": false,
     "start_time": "2025-04-05T08:12:57.135753",
     "status": "completed"
    },
    "tags": []
   },
   "outputs": [
    {
     "data": {
      "text/html": [
       "<div>\n",
       "<style scoped>\n",
       "    .dataframe tbody tr th:only-of-type {\n",
       "        vertical-align: middle;\n",
       "    }\n",
       "\n",
       "    .dataframe tbody tr th {\n",
       "        vertical-align: top;\n",
       "    }\n",
       "\n",
       "    .dataframe thead th {\n",
       "        text-align: right;\n",
       "    }\n",
       "</style>\n",
       "<table border=\"1\" class=\"dataframe\">\n",
       "  <thead>\n",
       "    <tr style=\"text-align: right;\">\n",
       "      <th></th>\n",
       "      <th>id</th>\n",
       "      <th>Listening_Time_minutes</th>\n",
       "    </tr>\n",
       "  </thead>\n",
       "  <tbody>\n",
       "    <tr>\n",
       "      <th>0</th>\n",
       "      <td>750000</td>\n",
       "      <td>45.437</td>\n",
       "    </tr>\n",
       "    <tr>\n",
       "      <th>1</th>\n",
       "      <td>750001</td>\n",
       "      <td>45.437</td>\n",
       "    </tr>\n",
       "    <tr>\n",
       "      <th>2</th>\n",
       "      <td>750002</td>\n",
       "      <td>45.437</td>\n",
       "    </tr>\n",
       "    <tr>\n",
       "      <th>3</th>\n",
       "      <td>750003</td>\n",
       "      <td>45.437</td>\n",
       "    </tr>\n",
       "    <tr>\n",
       "      <th>4</th>\n",
       "      <td>750004</td>\n",
       "      <td>45.437</td>\n",
       "    </tr>\n",
       "  </tbody>\n",
       "</table>\n",
       "</div>"
      ],
      "text/plain": [
       "       id  Listening_Time_minutes\n",
       "0  750000                  45.437\n",
       "1  750001                  45.437\n",
       "2  750002                  45.437\n",
       "3  750003                  45.437\n",
       "4  750004                  45.437"
      ]
     },
     "execution_count": 5,
     "metadata": {},
     "output_type": "execute_result"
    }
   ],
   "source": [
    "df_sample.head()"
   ]
  },
  {
   "cell_type": "code",
   "execution_count": 6,
   "id": "ea1235a9",
   "metadata": {
    "execution": {
     "iopub.execute_input": "2025-04-05T08:12:57.173009Z",
     "iopub.status.busy": "2025-04-05T08:12:57.172602Z",
     "iopub.status.idle": "2025-04-05T08:12:57.434901Z",
     "shell.execute_reply": "2025-04-05T08:12:57.433416Z"
    },
    "papermill": {
     "duration": 0.272402,
     "end_time": "2025-04-05T08:12:57.436836",
     "exception": false,
     "start_time": "2025-04-05T08:12:57.164434",
     "status": "completed"
    },
    "tags": []
   },
   "outputs": [
    {
     "name": "stdout",
     "output_type": "stream",
     "text": [
      "<class 'pandas.core.frame.DataFrame'>\n",
      "RangeIndex: 750000 entries, 0 to 749999\n",
      "Data columns (total 12 columns):\n",
      " #   Column                       Non-Null Count   Dtype  \n",
      "---  ------                       --------------   -----  \n",
      " 0   id                           750000 non-null  int64  \n",
      " 1   Podcast_Name                 750000 non-null  object \n",
      " 2   Episode_Title                750000 non-null  object \n",
      " 3   Episode_Length_minutes       662907 non-null  float64\n",
      " 4   Genre                        750000 non-null  object \n",
      " 5   Host_Popularity_percentage   750000 non-null  float64\n",
      " 6   Publication_Day              750000 non-null  object \n",
      " 7   Publication_Time             750000 non-null  object \n",
      " 8   Guest_Popularity_percentage  603970 non-null  float64\n",
      " 9   Number_of_Ads                749999 non-null  float64\n",
      " 10  Episode_Sentiment            750000 non-null  object \n",
      " 11  Listening_Time_minutes       750000 non-null  float64\n",
      "dtypes: float64(5), int64(1), object(6)\n",
      "memory usage: 68.7+ MB\n"
     ]
    }
   ],
   "source": [
    "df_train.info()"
   ]
  },
  {
   "cell_type": "code",
   "execution_count": 7,
   "id": "1e2aab5d",
   "metadata": {
    "execution": {
     "iopub.execute_input": "2025-04-05T08:12:57.453053Z",
     "iopub.status.busy": "2025-04-05T08:12:57.452646Z",
     "iopub.status.idle": "2025-04-05T08:12:58.296543Z",
     "shell.execute_reply": "2025-04-05T08:12:58.295249Z"
    },
    "papermill": {
     "duration": 0.853973,
     "end_time": "2025-04-05T08:12:58.298391",
     "exception": false,
     "start_time": "2025-04-05T08:12:57.444418",
     "status": "completed"
    },
    "tags": []
   },
   "outputs": [
    {
     "name": "stderr",
     "output_type": "stream",
     "text": [
      "/usr/local/lib/python3.10/dist-packages/pandas/io/formats/format.py:1458: RuntimeWarning: invalid value encountered in greater\n",
      "  has_large_values = (abs_vals > 1e6).any()\n",
      "/usr/local/lib/python3.10/dist-packages/pandas/io/formats/format.py:1459: RuntimeWarning: invalid value encountered in less\n",
      "  has_small_values = ((abs_vals < 10 ** (-self.digits)) & (abs_vals > 0)).any()\n",
      "/usr/local/lib/python3.10/dist-packages/pandas/io/formats/format.py:1459: RuntimeWarning: invalid value encountered in greater\n",
      "  has_small_values = ((abs_vals < 10 ** (-self.digits)) & (abs_vals > 0)).any()\n"
     ]
    },
    {
     "data": {
      "text/html": [
       "<div>\n",
       "<style scoped>\n",
       "    .dataframe tbody tr th:only-of-type {\n",
       "        vertical-align: middle;\n",
       "    }\n",
       "\n",
       "    .dataframe tbody tr th {\n",
       "        vertical-align: top;\n",
       "    }\n",
       "\n",
       "    .dataframe thead th {\n",
       "        text-align: right;\n",
       "    }\n",
       "</style>\n",
       "<table border=\"1\" class=\"dataframe\">\n",
       "  <thead>\n",
       "    <tr style=\"text-align: right;\">\n",
       "      <th></th>\n",
       "      <th>id</th>\n",
       "      <th>Podcast_Name</th>\n",
       "      <th>Episode_Title</th>\n",
       "      <th>Episode_Length_minutes</th>\n",
       "      <th>Genre</th>\n",
       "      <th>Host_Popularity_percentage</th>\n",
       "      <th>Publication_Day</th>\n",
       "      <th>Publication_Time</th>\n",
       "      <th>Guest_Popularity_percentage</th>\n",
       "      <th>Number_of_Ads</th>\n",
       "      <th>Episode_Sentiment</th>\n",
       "      <th>Listening_Time_minutes</th>\n",
       "    </tr>\n",
       "  </thead>\n",
       "  <tbody>\n",
       "    <tr>\n",
       "      <th>count</th>\n",
       "      <td>750000.000000</td>\n",
       "      <td>750000</td>\n",
       "      <td>750000</td>\n",
       "      <td>662907.000000</td>\n",
       "      <td>750000</td>\n",
       "      <td>750000.000000</td>\n",
       "      <td>750000</td>\n",
       "      <td>750000</td>\n",
       "      <td>603970.000000</td>\n",
       "      <td>749999.000000</td>\n",
       "      <td>750000</td>\n",
       "      <td>750000.000000</td>\n",
       "    </tr>\n",
       "    <tr>\n",
       "      <th>unique</th>\n",
       "      <td>NaN</td>\n",
       "      <td>48</td>\n",
       "      <td>100</td>\n",
       "      <td>NaN</td>\n",
       "      <td>10</td>\n",
       "      <td>NaN</td>\n",
       "      <td>7</td>\n",
       "      <td>4</td>\n",
       "      <td>NaN</td>\n",
       "      <td>NaN</td>\n",
       "      <td>3</td>\n",
       "      <td>NaN</td>\n",
       "    </tr>\n",
       "    <tr>\n",
       "      <th>top</th>\n",
       "      <td>NaN</td>\n",
       "      <td>Tech Talks</td>\n",
       "      <td>Episode 71</td>\n",
       "      <td>NaN</td>\n",
       "      <td>Sports</td>\n",
       "      <td>NaN</td>\n",
       "      <td>Sunday</td>\n",
       "      <td>Night</td>\n",
       "      <td>NaN</td>\n",
       "      <td>NaN</td>\n",
       "      <td>Neutral</td>\n",
       "      <td>NaN</td>\n",
       "    </tr>\n",
       "    <tr>\n",
       "      <th>freq</th>\n",
       "      <td>NaN</td>\n",
       "      <td>22847</td>\n",
       "      <td>10515</td>\n",
       "      <td>NaN</td>\n",
       "      <td>87606</td>\n",
       "      <td>NaN</td>\n",
       "      <td>115946</td>\n",
       "      <td>196849</td>\n",
       "      <td>NaN</td>\n",
       "      <td>NaN</td>\n",
       "      <td>251291</td>\n",
       "      <td>NaN</td>\n",
       "    </tr>\n",
       "    <tr>\n",
       "      <th>mean</th>\n",
       "      <td>374999.500000</td>\n",
       "      <td>NaN</td>\n",
       "      <td>NaN</td>\n",
       "      <td>64.504738</td>\n",
       "      <td>NaN</td>\n",
       "      <td>59.859901</td>\n",
       "      <td>NaN</td>\n",
       "      <td>NaN</td>\n",
       "      <td>52.236449</td>\n",
       "      <td>1.348855</td>\n",
       "      <td>NaN</td>\n",
       "      <td>45.437406</td>\n",
       "    </tr>\n",
       "    <tr>\n",
       "      <th>std</th>\n",
       "      <td>216506.495284</td>\n",
       "      <td>NaN</td>\n",
       "      <td>NaN</td>\n",
       "      <td>32.969603</td>\n",
       "      <td>NaN</td>\n",
       "      <td>22.873098</td>\n",
       "      <td>NaN</td>\n",
       "      <td>NaN</td>\n",
       "      <td>28.451241</td>\n",
       "      <td>1.151130</td>\n",
       "      <td>NaN</td>\n",
       "      <td>27.138306</td>\n",
       "    </tr>\n",
       "    <tr>\n",
       "      <th>min</th>\n",
       "      <td>0.000000</td>\n",
       "      <td>NaN</td>\n",
       "      <td>NaN</td>\n",
       "      <td>0.000000</td>\n",
       "      <td>NaN</td>\n",
       "      <td>1.300000</td>\n",
       "      <td>NaN</td>\n",
       "      <td>NaN</td>\n",
       "      <td>0.000000</td>\n",
       "      <td>0.000000</td>\n",
       "      <td>NaN</td>\n",
       "      <td>0.000000</td>\n",
       "    </tr>\n",
       "    <tr>\n",
       "      <th>25%</th>\n",
       "      <td>187499.750000</td>\n",
       "      <td>NaN</td>\n",
       "      <td>NaN</td>\n",
       "      <td>35.730000</td>\n",
       "      <td>NaN</td>\n",
       "      <td>39.410000</td>\n",
       "      <td>NaN</td>\n",
       "      <td>NaN</td>\n",
       "      <td>28.380000</td>\n",
       "      <td>0.000000</td>\n",
       "      <td>NaN</td>\n",
       "      <td>23.178350</td>\n",
       "    </tr>\n",
       "    <tr>\n",
       "      <th>50%</th>\n",
       "      <td>374999.500000</td>\n",
       "      <td>NaN</td>\n",
       "      <td>NaN</td>\n",
       "      <td>63.840000</td>\n",
       "      <td>NaN</td>\n",
       "      <td>60.050000</td>\n",
       "      <td>NaN</td>\n",
       "      <td>NaN</td>\n",
       "      <td>53.580000</td>\n",
       "      <td>1.000000</td>\n",
       "      <td>NaN</td>\n",
       "      <td>43.379460</td>\n",
       "    </tr>\n",
       "    <tr>\n",
       "      <th>75%</th>\n",
       "      <td>562499.250000</td>\n",
       "      <td>NaN</td>\n",
       "      <td>NaN</td>\n",
       "      <td>94.070000</td>\n",
       "      <td>NaN</td>\n",
       "      <td>79.530000</td>\n",
       "      <td>NaN</td>\n",
       "      <td>NaN</td>\n",
       "      <td>76.600000</td>\n",
       "      <td>2.000000</td>\n",
       "      <td>NaN</td>\n",
       "      <td>64.811580</td>\n",
       "    </tr>\n",
       "    <tr>\n",
       "      <th>max</th>\n",
       "      <td>749999.000000</td>\n",
       "      <td>NaN</td>\n",
       "      <td>NaN</td>\n",
       "      <td>325.240000</td>\n",
       "      <td>NaN</td>\n",
       "      <td>119.460000</td>\n",
       "      <td>NaN</td>\n",
       "      <td>NaN</td>\n",
       "      <td>119.910000</td>\n",
       "      <td>103.910000</td>\n",
       "      <td>NaN</td>\n",
       "      <td>119.970000</td>\n",
       "    </tr>\n",
       "  </tbody>\n",
       "</table>\n",
       "</div>"
      ],
      "text/plain": [
       "                   id Podcast_Name Episode_Title  Episode_Length_minutes  \\\n",
       "count   750000.000000       750000        750000           662907.000000   \n",
       "unique            NaN           48           100                     NaN   \n",
       "top               NaN   Tech Talks    Episode 71                     NaN   \n",
       "freq              NaN        22847         10515                     NaN   \n",
       "mean    374999.500000          NaN           NaN               64.504738   \n",
       "std     216506.495284          NaN           NaN               32.969603   \n",
       "min          0.000000          NaN           NaN                0.000000   \n",
       "25%     187499.750000          NaN           NaN               35.730000   \n",
       "50%     374999.500000          NaN           NaN               63.840000   \n",
       "75%     562499.250000          NaN           NaN               94.070000   \n",
       "max     749999.000000          NaN           NaN              325.240000   \n",
       "\n",
       "         Genre  Host_Popularity_percentage Publication_Day Publication_Time  \\\n",
       "count   750000               750000.000000          750000           750000   \n",
       "unique      10                         NaN               7                4   \n",
       "top     Sports                         NaN          Sunday            Night   \n",
       "freq     87606                         NaN          115946           196849   \n",
       "mean       NaN                   59.859901             NaN              NaN   \n",
       "std        NaN                   22.873098             NaN              NaN   \n",
       "min        NaN                    1.300000             NaN              NaN   \n",
       "25%        NaN                   39.410000             NaN              NaN   \n",
       "50%        NaN                   60.050000             NaN              NaN   \n",
       "75%        NaN                   79.530000             NaN              NaN   \n",
       "max        NaN                  119.460000             NaN              NaN   \n",
       "\n",
       "        Guest_Popularity_percentage  Number_of_Ads Episode_Sentiment  \\\n",
       "count                 603970.000000  749999.000000            750000   \n",
       "unique                          NaN            NaN                 3   \n",
       "top                             NaN            NaN           Neutral   \n",
       "freq                            NaN            NaN            251291   \n",
       "mean                      52.236449       1.348855               NaN   \n",
       "std                       28.451241       1.151130               NaN   \n",
       "min                        0.000000       0.000000               NaN   \n",
       "25%                       28.380000       0.000000               NaN   \n",
       "50%                       53.580000       1.000000               NaN   \n",
       "75%                       76.600000       2.000000               NaN   \n",
       "max                      119.910000     103.910000               NaN   \n",
       "\n",
       "        Listening_Time_minutes  \n",
       "count            750000.000000  \n",
       "unique                     NaN  \n",
       "top                        NaN  \n",
       "freq                       NaN  \n",
       "mean                 45.437406  \n",
       "std                  27.138306  \n",
       "min                   0.000000  \n",
       "25%                  23.178350  \n",
       "50%                  43.379460  \n",
       "75%                  64.811580  \n",
       "max                 119.970000  "
      ]
     },
     "execution_count": 7,
     "metadata": {},
     "output_type": "execute_result"
    }
   ],
   "source": [
    "df_train.describe(include=\"all\")"
   ]
  },
  {
   "cell_type": "code",
   "execution_count": 8,
   "id": "7b1658fb",
   "metadata": {
    "execution": {
     "iopub.execute_input": "2025-04-05T08:12:58.316222Z",
     "iopub.status.busy": "2025-04-05T08:12:58.315896Z",
     "iopub.status.idle": "2025-04-05T08:12:58.553866Z",
     "shell.execute_reply": "2025-04-05T08:12:58.552714Z"
    },
    "papermill": {
     "duration": 0.249365,
     "end_time": "2025-04-05T08:12:58.555898",
     "exception": false,
     "start_time": "2025-04-05T08:12:58.306533",
     "status": "completed"
    },
    "tags": []
   },
   "outputs": [
    {
     "data": {
      "text/plain": [
       "id                                  0\n",
       "Podcast_Name                        0\n",
       "Episode_Title                       0\n",
       "Episode_Length_minutes          87093\n",
       "Genre                               0\n",
       "Host_Popularity_percentage          0\n",
       "Publication_Day                     0\n",
       "Publication_Time                    0\n",
       "Guest_Popularity_percentage    146030\n",
       "Number_of_Ads                       1\n",
       "Episode_Sentiment                   0\n",
       "Listening_Time_minutes              0\n",
       "dtype: int64"
      ]
     },
     "execution_count": 8,
     "metadata": {},
     "output_type": "execute_result"
    }
   ],
   "source": [
    "df_train.isna().sum()"
   ]
  },
  {
   "cell_type": "code",
   "execution_count": 9,
   "id": "801831da",
   "metadata": {
    "execution": {
     "iopub.execute_input": "2025-04-05T08:12:58.573346Z",
     "iopub.status.busy": "2025-04-05T08:12:58.572811Z",
     "iopub.status.idle": "2025-04-05T08:12:58.592330Z",
     "shell.execute_reply": "2025-04-05T08:12:58.590895Z"
    },
    "papermill": {
     "duration": 0.030086,
     "end_time": "2025-04-05T08:12:58.593986",
     "exception": false,
     "start_time": "2025-04-05T08:12:58.563900",
     "status": "completed"
    },
    "tags": []
   },
   "outputs": [
    {
     "name": "stderr",
     "output_type": "stream",
     "text": [
      "/usr/local/lib/python3.10/dist-packages/pandas/io/formats/format.py:1458: RuntimeWarning: invalid value encountered in greater\n",
      "  has_large_values = (abs_vals > 1e6).any()\n",
      "/usr/local/lib/python3.10/dist-packages/pandas/io/formats/format.py:1459: RuntimeWarning: invalid value encountered in less\n",
      "  has_small_values = ((abs_vals < 10 ** (-self.digits)) & (abs_vals > 0)).any()\n",
      "/usr/local/lib/python3.10/dist-packages/pandas/io/formats/format.py:1459: RuntimeWarning: invalid value encountered in greater\n",
      "  has_small_values = ((abs_vals < 10 ** (-self.digits)) & (abs_vals > 0)).any()\n"
     ]
    },
    {
     "data": {
      "text/html": [
       "<div>\n",
       "<style scoped>\n",
       "    .dataframe tbody tr th:only-of-type {\n",
       "        vertical-align: middle;\n",
       "    }\n",
       "\n",
       "    .dataframe tbody tr th {\n",
       "        vertical-align: top;\n",
       "    }\n",
       "\n",
       "    .dataframe thead th {\n",
       "        text-align: right;\n",
       "    }\n",
       "</style>\n",
       "<table border=\"1\" class=\"dataframe\">\n",
       "  <thead>\n",
       "    <tr style=\"text-align: right;\">\n",
       "      <th></th>\n",
       "      <th>id</th>\n",
       "      <th>Podcast_Name</th>\n",
       "      <th>Episode_Title</th>\n",
       "      <th>Episode_Length_minutes</th>\n",
       "      <th>Genre</th>\n",
       "      <th>Host_Popularity_percentage</th>\n",
       "      <th>Publication_Day</th>\n",
       "      <th>Publication_Time</th>\n",
       "      <th>Guest_Popularity_percentage</th>\n",
       "      <th>Number_of_Ads</th>\n",
       "      <th>Episode_Sentiment</th>\n",
       "      <th>Listening_Time_minutes</th>\n",
       "    </tr>\n",
       "  </thead>\n",
       "  <tbody>\n",
       "    <tr>\n",
       "      <th>247170</th>\n",
       "      <td>247170</td>\n",
       "      <td>Game Day</td>\n",
       "      <td>Episode 33</td>\n",
       "      <td>35.66</td>\n",
       "      <td>Sports</td>\n",
       "      <td>27.35</td>\n",
       "      <td>Friday</td>\n",
       "      <td>Evening</td>\n",
       "      <td>49.87</td>\n",
       "      <td>NaN</td>\n",
       "      <td>Negative</td>\n",
       "      <td>23.94516</td>\n",
       "    </tr>\n",
       "  </tbody>\n",
       "</table>\n",
       "</div>"
      ],
      "text/plain": [
       "            id Podcast_Name Episode_Title  Episode_Length_minutes   Genre  \\\n",
       "247170  247170     Game Day    Episode 33                   35.66  Sports   \n",
       "\n",
       "        Host_Popularity_percentage Publication_Day Publication_Time  \\\n",
       "247170                       27.35          Friday          Evening   \n",
       "\n",
       "        Guest_Popularity_percentage  Number_of_Ads Episode_Sentiment  \\\n",
       "247170                        49.87            NaN          Negative   \n",
       "\n",
       "        Listening_Time_minutes  \n",
       "247170                23.94516  "
      ]
     },
     "execution_count": 9,
     "metadata": {},
     "output_type": "execute_result"
    }
   ],
   "source": [
    "df_train[df_train[\"Number_of_Ads\"].isna()]"
   ]
  },
  {
   "cell_type": "code",
   "execution_count": 10,
   "id": "cd32a01f",
   "metadata": {
    "execution": {
     "iopub.execute_input": "2025-04-05T08:12:58.611437Z",
     "iopub.status.busy": "2025-04-05T08:12:58.610996Z",
     "iopub.status.idle": "2025-04-05T08:12:58.698630Z",
     "shell.execute_reply": "2025-04-05T08:12:58.697506Z"
    },
    "papermill": {
     "duration": 0.098223,
     "end_time": "2025-04-05T08:12:58.700413",
     "exception": false,
     "start_time": "2025-04-05T08:12:58.602190",
     "status": "completed"
    },
    "tags": []
   },
   "outputs": [
    {
     "data": {
      "text/plain": [
       "id                                 0\n",
       "Podcast_Name                       0\n",
       "Episode_Title                      0\n",
       "Episode_Length_minutes         28736\n",
       "Genre                              0\n",
       "Host_Popularity_percentage         0\n",
       "Publication_Day                    0\n",
       "Publication_Time                   0\n",
       "Guest_Popularity_percentage    48832\n",
       "Number_of_Ads                      0\n",
       "Episode_Sentiment                  0\n",
       "dtype: int64"
      ]
     },
     "execution_count": 10,
     "metadata": {},
     "output_type": "execute_result"
    }
   ],
   "source": [
    "df_test.isna().sum()"
   ]
  },
  {
   "cell_type": "code",
   "execution_count": 11,
   "id": "db9ef97f",
   "metadata": {
    "execution": {
     "iopub.execute_input": "2025-04-05T08:12:58.718539Z",
     "iopub.status.busy": "2025-04-05T08:12:58.718167Z",
     "iopub.status.idle": "2025-04-05T08:12:59.311163Z",
     "shell.execute_reply": "2025-04-05T08:12:59.310188Z"
    },
    "papermill": {
     "duration": 0.60435,
     "end_time": "2025-04-05T08:12:59.313164",
     "exception": false,
     "start_time": "2025-04-05T08:12:58.708814",
     "status": "completed"
    },
    "tags": []
   },
   "outputs": [],
   "source": [
    "df_train['Guest_Popularity_percentage'] = df_train.groupby(by= ['Podcast_Name'])['Guest_Popularity_percentage'].transform(\n",
    "    lambda x: x.fillna(x.mean())\n",
    ")\n",
    "\n",
    "df_train['Episode_Length_minutes'] = df_train.groupby(by= ['Podcast_Name'])['Episode_Length_minutes'].transform(\n",
    "    lambda x: x.fillna(x.mean())\n",
    ")\n",
    "\n",
    "df_train['Number_of_Ads'] = df_train.groupby(by= ['Podcast_Name'])['Number_of_Ads'].transform(\n",
    "    lambda x: x.fillna(x.mean())\n",
    ")"
   ]
  },
  {
   "cell_type": "code",
   "execution_count": 12,
   "id": "4d5b66ea",
   "metadata": {
    "execution": {
     "iopub.execute_input": "2025-04-05T08:12:59.330743Z",
     "iopub.status.busy": "2025-04-05T08:12:59.330374Z",
     "iopub.status.idle": "2025-04-05T08:12:59.710484Z",
     "shell.execute_reply": "2025-04-05T08:12:59.709388Z"
    },
    "papermill": {
     "duration": 0.391074,
     "end_time": "2025-04-05T08:12:59.712525",
     "exception": false,
     "start_time": "2025-04-05T08:12:59.321451",
     "status": "completed"
    },
    "tags": []
   },
   "outputs": [],
   "source": [
    "df_test['Guest_Popularity_percentage'] = df_train.groupby(by= ['Podcast_Name'])['Guest_Popularity_percentage'].transform(\n",
    "    lambda x: x.fillna(x.mean())\n",
    ")\n",
    "\n",
    "df_test['Episode_Length_minutes'] = df_train.groupby(by= ['Podcast_Name'])['Episode_Length_minutes'].transform(\n",
    "    lambda x: x.fillna(x.mean())\n",
    ")"
   ]
  },
  {
   "cell_type": "code",
   "execution_count": 13,
   "id": "11660b47",
   "metadata": {
    "execution": {
     "iopub.execute_input": "2025-04-05T08:12:59.731237Z",
     "iopub.status.busy": "2025-04-05T08:12:59.730877Z",
     "iopub.status.idle": "2025-04-05T08:13:00.131622Z",
     "shell.execute_reply": "2025-04-05T08:13:00.130518Z"
    },
    "papermill": {
     "duration": 0.412128,
     "end_time": "2025-04-05T08:13:00.133434",
     "exception": false,
     "start_time": "2025-04-05T08:12:59.721306",
     "status": "completed"
    },
    "tags": []
   },
   "outputs": [
    {
     "data": {
      "text/plain": [
       "<Axes: xlabel='Publication_Day'>"
      ]
     },
     "execution_count": 13,
     "metadata": {},
     "output_type": "execute_result"
    },
    {
     "data": {
      "image/png": "[encoded data removed]",
      "text/plain": [
       "<Figure size 640x480 with 1 Axes>"
      ]
     },
     "metadata": {},
     "output_type": "display_data"
    }
   ],
   "source": [
    "df_train[\"Publication_Day\"].value_counts().plot(kind= \"bar\")"
   ]
  },
  {
   "cell_type": "code",
   "execution_count": 14,
   "id": "fadca56e",
   "metadata": {
    "execution": {
     "iopub.execute_input": "2025-04-05T08:13:00.152660Z",
     "iopub.status.busy": "2025-04-05T08:13:00.152271Z",
     "iopub.status.idle": "2025-04-05T08:13:00.393035Z",
     "shell.execute_reply": "2025-04-05T08:13:00.391898Z"
    },
    "papermill": {
     "duration": 0.252648,
     "end_time": "2025-04-05T08:13:00.394998",
     "exception": false,
     "start_time": "2025-04-05T08:13:00.142350",
     "status": "completed"
    },
    "tags": []
   },
   "outputs": [
    {
     "data": {
      "text/plain": [
       "<Axes: xlabel='Publication_Time'>"
      ]
     },
     "execution_count": 14,
     "metadata": {},
     "output_type": "execute_result"
    },
    {
     "data": {
      "image/png": "[encoded data removed]",
      "text/plain": [
       "<Figure size 640x480 with 1 Axes>"
      ]
     },
     "metadata": {},
     "output_type": "display_data"
    }
   ],
   "source": [
    "df_train[\"Publication_Time\"].value_counts().plot(kind= \"bar\")"
   ]
  },
  {
   "cell_type": "code",
   "execution_count": 15,
   "id": "49f86654",
   "metadata": {
    "execution": {
     "iopub.execute_input": "2025-04-05T08:13:00.415367Z",
     "iopub.status.busy": "2025-04-05T08:13:00.414949Z",
     "iopub.status.idle": "2025-04-05T08:13:00.421723Z",
     "shell.execute_reply": "2025-04-05T08:13:00.420812Z"
    },
    "papermill": {
     "duration": 0.018751,
     "end_time": "2025-04-05T08:13:00.423399",
     "exception": false,
     "start_time": "2025-04-05T08:13:00.404648",
     "status": "completed"
    },
    "tags": []
   },
   "outputs": [
    {
     "data": {
      "text/plain": [
       "Index(['id', 'Podcast_Name', 'Episode_Title', 'Episode_Length_minutes',\n",
       "       'Genre', 'Host_Popularity_percentage', 'Publication_Day',\n",
       "       'Publication_Time', 'Guest_Popularity_percentage', 'Number_of_Ads',\n",
       "       'Episode_Sentiment', 'Listening_Time_minutes'],\n",
       "      dtype='object')"
      ]
     },
     "execution_count": 15,
     "metadata": {},
     "output_type": "execute_result"
    }
   ],
   "source": [
    "df_train.dtypes.index"
   ]
  },
  {
   "cell_type": "code",
   "execution_count": 16,
   "id": "673f48c4",
   "metadata": {
    "execution": {
     "iopub.execute_input": "2025-04-05T08:13:00.444024Z",
     "iopub.status.busy": "2025-04-05T08:13:00.443675Z",
     "iopub.status.idle": "2025-04-05T08:13:02.880269Z",
     "shell.execute_reply": "2025-04-05T08:13:02.879265Z"
    },
    "papermill": {
     "duration": 2.448978,
     "end_time": "2025-04-05T08:13:02.882262",
     "exception": false,
     "start_time": "2025-04-05T08:13:00.433284",
     "status": "completed"
    },
    "tags": []
   },
   "outputs": [],
   "source": [
    "df_train['Episode_Number'] = df_train['Episode_Title'].str.extract(r'(\\d+)').astype(int)\n",
    "df_test['Episode_Number'] = df_test['Episode_Title'].str.extract(r'(\\d+)').astype(int)"
   ]
  },
  {
   "cell_type": "code",
   "execution_count": 17,
   "id": "00c75fd4",
   "metadata": {
    "execution": {
     "iopub.execute_input": "2025-04-05T08:13:02.903011Z",
     "iopub.status.busy": "2025-04-05T08:13:02.902635Z",
     "iopub.status.idle": "2025-04-05T08:13:02.965457Z",
     "shell.execute_reply": "2025-04-05T08:13:02.964297Z"
    },
    "papermill": {
     "duration": 0.075113,
     "end_time": "2025-04-05T08:13:02.967225",
     "exception": false,
     "start_time": "2025-04-05T08:13:02.892112",
     "status": "completed"
    },
    "tags": []
   },
   "outputs": [
    {
     "data": {
      "text/plain": [
       "Episode_Title\n",
       "Episode 71    10515\n",
       "Episode 62    10373\n",
       "Episode 31    10292\n",
       "Episode 61     9991\n",
       "Episode 69     9864\n",
       "              ...  \n",
       "Episode 2      5134\n",
       "Episode 25     5117\n",
       "Episode 41     4965\n",
       "Episode 37     4940\n",
       "Episode 95     4838\n",
       "Name: count, Length: 100, dtype: int64"
      ]
     },
     "execution_count": 17,
     "metadata": {},
     "output_type": "execute_result"
    }
   ],
   "source": [
    "df_train[\"Episode_Title\"].value_counts()"
   ]
  },
  {
   "cell_type": "code",
   "execution_count": 18,
   "id": "3fccefaa",
   "metadata": {
    "execution": {
     "iopub.execute_input": "2025-04-05T08:13:02.988152Z",
     "iopub.status.busy": "2025-04-05T08:13:02.987753Z",
     "iopub.status.idle": "2025-04-05T08:13:03.052341Z",
     "shell.execute_reply": "2025-04-05T08:13:03.051090Z"
    },
    "papermill": {
     "duration": 0.077086,
     "end_time": "2025-04-05T08:13:03.054294",
     "exception": false,
     "start_time": "2025-04-05T08:13:02.977208",
     "status": "completed"
    },
    "tags": []
   },
   "outputs": [],
   "source": [
    "df_train.drop(columns= [\"Episode_Title\"],inplace=True)\n",
    "df_test.drop(columns= [\"Episode_Title\"],inplace=True)"
   ]
  },
  {
   "cell_type": "code",
   "execution_count": 19,
   "id": "d4af010d",
   "metadata": {
    "execution": {
     "iopub.execute_input": "2025-04-05T08:13:03.075297Z",
     "iopub.status.busy": "2025-04-05T08:13:03.074857Z",
     "iopub.status.idle": "2025-04-05T08:13:03.081157Z",
     "shell.execute_reply": "2025-04-05T08:13:03.080046Z"
    },
    "papermill": {
     "duration": 0.019046,
     "end_time": "2025-04-05T08:13:03.083164",
     "exception": false,
     "start_time": "2025-04-05T08:13:03.064118",
     "status": "completed"
    },
    "tags": []
   },
   "outputs": [],
   "source": [
    "df_train.set_index(keys = [\"id\"],inplace = True)\n",
    "df_test.set_index(keys = [\"id\"],inplace = True)"
   ]
  },
  {
   "cell_type": "code",
   "execution_count": 20,
   "id": "7870f310",
   "metadata": {
    "execution": {
     "iopub.execute_input": "2025-04-05T08:13:03.104906Z",
     "iopub.status.busy": "2025-04-05T08:13:03.104485Z",
     "iopub.status.idle": "2025-04-05T08:13:03.112167Z",
     "shell.execute_reply": "2025-04-05T08:13:03.111045Z"
    },
    "papermill": {
     "duration": 0.021017,
     "end_time": "2025-04-05T08:13:03.114035",
     "exception": false,
     "start_time": "2025-04-05T08:13:03.093018",
     "status": "completed"
    },
    "tags": []
   },
   "outputs": [
    {
     "data": {
      "text/plain": [
       "Podcast_Name                    object\n",
       "Episode_Length_minutes         float64\n",
       "Genre                           object\n",
       "Host_Popularity_percentage     float64\n",
       "Publication_Day                 object\n",
       "Publication_Time                object\n",
       "Guest_Popularity_percentage    float64\n",
       "Number_of_Ads                  float64\n",
       "Episode_Sentiment               object\n",
       "Listening_Time_minutes         float64\n",
       "Episode_Number                   int64\n",
       "dtype: object"
      ]
     },
     "execution_count": 20,
     "metadata": {},
     "output_type": "execute_result"
    }
   ],
   "source": [
    "df_train.dtypes"
   ]
  },
  {
   "cell_type": "code",
   "execution_count": 21,
   "id": "0bcc94a7",
   "metadata": {
    "execution": {
     "iopub.execute_input": "2025-04-05T08:13:03.136028Z",
     "iopub.status.busy": "2025-04-05T08:13:03.135558Z",
     "iopub.status.idle": "2025-04-05T08:13:03.141225Z",
     "shell.execute_reply": "2025-04-05T08:13:03.140067Z"
    },
    "papermill": {
     "duration": 0.018729,
     "end_time": "2025-04-05T08:13:03.143186",
     "exception": false,
     "start_time": "2025-04-05T08:13:03.124457",
     "status": "completed"
    },
    "tags": []
   },
   "outputs": [],
   "source": [
    "categorical_cols = list(df_train.dtypes[df_train.dtypes ==\"object\"].index)"
   ]
  },
  {
   "cell_type": "code",
   "execution_count": 22,
   "id": "7fd29ff9",
   "metadata": {
    "execution": {
     "iopub.execute_input": "2025-04-05T08:13:03.165030Z",
     "iopub.status.busy": "2025-04-05T08:13:03.164662Z",
     "iopub.status.idle": "2025-04-05T08:13:03.171185Z",
     "shell.execute_reply": "2025-04-05T08:13:03.169898Z"
    },
    "papermill": {
     "duration": 0.019032,
     "end_time": "2025-04-05T08:13:03.172979",
     "exception": false,
     "start_time": "2025-04-05T08:13:03.153947",
     "status": "completed"
    },
    "tags": []
   },
   "outputs": [
    {
     "data": {
      "text/plain": [
       "['Podcast_Name',\n",
       " 'Genre',\n",
       " 'Publication_Day',\n",
       " 'Publication_Time',\n",
       " 'Episode_Sentiment']"
      ]
     },
     "execution_count": 22,
     "metadata": {},
     "output_type": "execute_result"
    }
   ],
   "source": [
    "categorical_cols"
   ]
  },
  {
   "cell_type": "code",
   "execution_count": 23,
   "id": "f10d8cae",
   "metadata": {
    "execution": {
     "iopub.execute_input": "2025-04-05T08:13:03.194031Z",
     "iopub.status.busy": "2025-04-05T08:13:03.193663Z",
     "iopub.status.idle": "2025-04-05T08:13:03.812980Z",
     "shell.execute_reply": "2025-04-05T08:13:03.811919Z"
    },
    "papermill": {
     "duration": 0.632065,
     "end_time": "2025-04-05T08:13:03.814990",
     "exception": false,
     "start_time": "2025-04-05T08:13:03.182925",
     "status": "completed"
    },
    "tags": []
   },
   "outputs": [],
   "source": [
    "df_encoded = pd.get_dummies(df_train, columns=categorical_cols,drop_first= True)\n",
    "df_encoded_test = pd.get_dummies(df_test, columns=categorical_cols,drop_first= True)"
   ]
  },
  {
   "cell_type": "code",
   "execution_count": 24,
   "id": "d8db6b97",
   "metadata": {
    "execution": {
     "iopub.execute_input": "2025-04-05T08:13:03.836324Z",
     "iopub.status.busy": "2025-04-05T08:13:03.835986Z",
     "iopub.status.idle": "2025-04-05T08:13:03.858784Z",
     "shell.execute_reply": "2025-04-05T08:13:03.857816Z"
    },
    "papermill": {
     "duration": 0.034945,
     "end_time": "2025-04-05T08:13:03.860353",
     "exception": false,
     "start_time": "2025-04-05T08:13:03.825408",
     "status": "completed"
    },
    "tags": []
   },
   "outputs": [
    {
     "data": {
      "text/html": [
       "<div>\n",
       "<style scoped>\n",
       "    .dataframe tbody tr th:only-of-type {\n",
       "        vertical-align: middle;\n",
       "    }\n",
       "\n",
       "    .dataframe tbody tr th {\n",
       "        vertical-align: top;\n",
       "    }\n",
       "\n",
       "    .dataframe thead th {\n",
       "        text-align: right;\n",
       "    }\n",
       "</style>\n",
       "<table border=\"1\" class=\"dataframe\">\n",
       "  <thead>\n",
       "    <tr style=\"text-align: right;\">\n",
       "      <th></th>\n",
       "      <th>Episode_Length_minutes</th>\n",
       "      <th>Host_Popularity_percentage</th>\n",
       "      <th>Guest_Popularity_percentage</th>\n",
       "      <th>Number_of_Ads</th>\n",
       "      <th>Listening_Time_minutes</th>\n",
       "      <th>Episode_Number</th>\n",
       "      <th>Podcast_Name_Brain Boost</th>\n",
       "      <th>Podcast_Name_Business Briefs</th>\n",
       "      <th>Podcast_Name_Business Insights</th>\n",
       "      <th>Podcast_Name_Comedy Corner</th>\n",
       "      <th>...</th>\n",
       "      <th>Publication_Day_Saturday</th>\n",
       "      <th>Publication_Day_Sunday</th>\n",
       "      <th>Publication_Day_Thursday</th>\n",
       "      <th>Publication_Day_Tuesday</th>\n",
       "      <th>Publication_Day_Wednesday</th>\n",
       "      <th>Publication_Time_Evening</th>\n",
       "      <th>Publication_Time_Morning</th>\n",
       "      <th>Publication_Time_Night</th>\n",
       "      <th>Episode_Sentiment_Neutral</th>\n",
       "      <th>Episode_Sentiment_Positive</th>\n",
       "    </tr>\n",
       "    <tr>\n",
       "      <th>id</th>\n",
       "      <th></th>\n",
       "      <th></th>\n",
       "      <th></th>\n",
       "      <th></th>\n",
       "      <th></th>\n",
       "      <th></th>\n",
       "      <th></th>\n",
       "      <th></th>\n",
       "      <th></th>\n",
       "      <th></th>\n",
       "      <th></th>\n",
       "      <th></th>\n",
       "      <th></th>\n",
       "      <th></th>\n",
       "      <th></th>\n",
       "      <th></th>\n",
       "      <th></th>\n",
       "      <th></th>\n",
       "      <th></th>\n",
       "      <th></th>\n",
       "      <th></th>\n",
       "    </tr>\n",
       "  </thead>\n",
       "  <tbody>\n",
       "    <tr>\n",
       "      <th>0</th>\n",
       "      <td>64.388461</td>\n",
       "      <td>74.81</td>\n",
       "      <td>52.241037</td>\n",
       "      <td>0.0</td>\n",
       "      <td>31.41998</td>\n",
       "      <td>98</td>\n",
       "      <td>False</td>\n",
       "      <td>False</td>\n",
       "      <td>False</td>\n",
       "      <td>False</td>\n",
       "      <td>...</td>\n",
       "      <td>False</td>\n",
       "      <td>False</td>\n",
       "      <td>True</td>\n",
       "      <td>False</td>\n",
       "      <td>False</td>\n",
       "      <td>False</td>\n",
       "      <td>False</td>\n",
       "      <td>True</td>\n",
       "      <td>False</td>\n",
       "      <td>True</td>\n",
       "    </tr>\n",
       "    <tr>\n",
       "      <th>1</th>\n",
       "      <td>119.800000</td>\n",
       "      <td>66.95</td>\n",
       "      <td>75.950000</td>\n",
       "      <td>2.0</td>\n",
       "      <td>88.01241</td>\n",
       "      <td>26</td>\n",
       "      <td>False</td>\n",
       "      <td>False</td>\n",
       "      <td>False</td>\n",
       "      <td>False</td>\n",
       "      <td>...</td>\n",
       "      <td>True</td>\n",
       "      <td>False</td>\n",
       "      <td>False</td>\n",
       "      <td>False</td>\n",
       "      <td>False</td>\n",
       "      <td>False</td>\n",
       "      <td>False</td>\n",
       "      <td>False</td>\n",
       "      <td>False</td>\n",
       "      <td>False</td>\n",
       "    </tr>\n",
       "    <tr>\n",
       "      <th>2</th>\n",
       "      <td>73.900000</td>\n",
       "      <td>69.97</td>\n",
       "      <td>8.970000</td>\n",
       "      <td>0.0</td>\n",
       "      <td>44.92531</td>\n",
       "      <td>16</td>\n",
       "      <td>False</td>\n",
       "      <td>False</td>\n",
       "      <td>False</td>\n",
       "      <td>False</td>\n",
       "      <td>...</td>\n",
       "      <td>False</td>\n",
       "      <td>False</td>\n",
       "      <td>False</td>\n",
       "      <td>True</td>\n",
       "      <td>False</td>\n",
       "      <td>True</td>\n",
       "      <td>False</td>\n",
       "      <td>False</td>\n",
       "      <td>False</td>\n",
       "      <td>False</td>\n",
       "    </tr>\n",
       "    <tr>\n",
       "      <th>3</th>\n",
       "      <td>67.170000</td>\n",
       "      <td>57.22</td>\n",
       "      <td>78.700000</td>\n",
       "      <td>2.0</td>\n",
       "      <td>46.27824</td>\n",
       "      <td>45</td>\n",
       "      <td>False</td>\n",
       "      <td>False</td>\n",
       "      <td>False</td>\n",
       "      <td>False</td>\n",
       "      <td>...</td>\n",
       "      <td>False</td>\n",
       "      <td>False</td>\n",
       "      <td>False</td>\n",
       "      <td>False</td>\n",
       "      <td>False</td>\n",
       "      <td>False</td>\n",
       "      <td>True</td>\n",
       "      <td>False</td>\n",
       "      <td>False</td>\n",
       "      <td>True</td>\n",
       "    </tr>\n",
       "    <tr>\n",
       "      <th>4</th>\n",
       "      <td>110.510000</td>\n",
       "      <td>80.07</td>\n",
       "      <td>58.680000</td>\n",
       "      <td>3.0</td>\n",
       "      <td>75.61031</td>\n",
       "      <td>86</td>\n",
       "      <td>False</td>\n",
       "      <td>False</td>\n",
       "      <td>False</td>\n",
       "      <td>False</td>\n",
       "      <td>...</td>\n",
       "      <td>False</td>\n",
       "      <td>False</td>\n",
       "      <td>False</td>\n",
       "      <td>False</td>\n",
       "      <td>False</td>\n",
       "      <td>False</td>\n",
       "      <td>False</td>\n",
       "      <td>False</td>\n",
       "      <td>True</td>\n",
       "      <td>False</td>\n",
       "    </tr>\n",
       "  </tbody>\n",
       "</table>\n",
       "<p>5 rows × 73 columns</p>\n",
       "</div>"
      ],
      "text/plain": [
       "    Episode_Length_minutes  Host_Popularity_percentage  \\\n",
       "id                                                       \n",
       "0                64.388461                       74.81   \n",
       "1               119.800000                       66.95   \n",
       "2                73.900000                       69.97   \n",
       "3                67.170000                       57.22   \n",
       "4               110.510000                       80.07   \n",
       "\n",
       "    Guest_Popularity_percentage  Number_of_Ads  Listening_Time_minutes  \\\n",
       "id                                                                       \n",
       "0                     52.241037            0.0                31.41998   \n",
       "1                     75.950000            2.0                88.01241   \n",
       "2                      8.970000            0.0                44.92531   \n",
       "3                     78.700000            2.0                46.27824   \n",
       "4                     58.680000            3.0                75.61031   \n",
       "\n",
       "    Episode_Number  Podcast_Name_Brain Boost  Podcast_Name_Business Briefs  \\\n",
       "id                                                                           \n",
       "0               98                     False                         False   \n",
       "1               26                     False                         False   \n",
       "2               16                     False                         False   \n",
       "3               45                     False                         False   \n",
       "4               86                     False                         False   \n",
       "\n",
       "    Podcast_Name_Business Insights  Podcast_Name_Comedy Corner  ...  \\\n",
       "id                                                              ...   \n",
       "0                            False                       False  ...   \n",
       "1                            False                       False  ...   \n",
       "2                            False                       False  ...   \n",
       "3                            False                       False  ...   \n",
       "4                            False                       False  ...   \n",
       "\n",
       "    Publication_Day_Saturday  Publication_Day_Sunday  \\\n",
       "id                                                     \n",
       "0                      False                   False   \n",
       "1                       True                   False   \n",
       "2                      False                   False   \n",
       "3                      False                   False   \n",
       "4                      False                   False   \n",
       "\n",
       "    Publication_Day_Thursday  Publication_Day_Tuesday  \\\n",
       "id                                                      \n",
       "0                       True                    False   \n",
       "1                      False                    False   \n",
       "2                      False                     True   \n",
       "3                      False                    False   \n",
       "4                      False                    False   \n",
       "\n",
       "    Publication_Day_Wednesday  Publication_Time_Evening  \\\n",
       "id                                                        \n",
       "0                       False                     False   \n",
       "1                       False                     False   \n",
       "2                       False                      True   \n",
       "3                       False                     False   \n",
       "4                       False                     False   \n",
       "\n",
       "    Publication_Time_Morning  Publication_Time_Night  \\\n",
       "id                                                     \n",
       "0                      False                    True   \n",
       "1                      False                   False   \n",
       "2                      False                   False   \n",
       "3                       True                   False   \n",
       "4                      False                   False   \n",
       "\n",
       "    Episode_Sentiment_Neutral  Episode_Sentiment_Positive  \n",
       "id                                                         \n",
       "0                       False                        True  \n",
       "1                       False                       False  \n",
       "2                       False                       False  \n",
       "3                       False                        True  \n",
       "4                        True                       False  \n",
       "\n",
       "[5 rows x 73 columns]"
      ]
     },
     "execution_count": 24,
     "metadata": {},
     "output_type": "execute_result"
    }
   ],
   "source": [
    "df_encoded.head()"
   ]
  },
  {
   "cell_type": "code",
   "execution_count": 25,
   "id": "a5b8ad30",
   "metadata": {
    "execution": {
     "iopub.execute_input": "2025-04-05T08:13:03.882533Z",
     "iopub.status.busy": "2025-04-05T08:13:03.882192Z",
     "iopub.status.idle": "2025-04-05T08:13:03.934593Z",
     "shell.execute_reply": "2025-04-05T08:13:03.933590Z"
    },
    "papermill": {
     "duration": 0.065709,
     "end_time": "2025-04-05T08:13:03.936723",
     "exception": false,
     "start_time": "2025-04-05T08:13:03.871014",
     "status": "completed"
    },
    "tags": []
   },
   "outputs": [],
   "source": [
    "X = df_encoded.drop(['Listening_Time_minutes'], axis=1)\n",
    "y = df_encoded['Listening_Time_minutes']"
   ]
  },
  {
   "cell_type": "code",
   "execution_count": 26,
   "id": "42d962dc",
   "metadata": {
    "execution": {
     "iopub.execute_input": "2025-04-05T08:13:03.959290Z",
     "iopub.status.busy": "2025-04-05T08:13:03.958913Z",
     "iopub.status.idle": "2025-04-05T08:13:05.741127Z",
     "shell.execute_reply": "2025-04-05T08:13:05.739932Z"
    },
    "papermill": {
     "duration": 1.796161,
     "end_time": "2025-04-05T08:13:05.743270",
     "exception": false,
     "start_time": "2025-04-05T08:13:03.947109",
     "status": "completed"
    },
    "tags": []
   },
   "outputs": [],
   "source": [
    "from sklearn.model_selection import train_test_split\n",
    "\n",
    "X_train, X_test, y_train, y_test = train_test_split(X, y, test_size=0.2, random_state=42)"
   ]
  },
  {
   "cell_type": "code",
   "execution_count": 27,
   "id": "ec0518f4",
   "metadata": {
    "execution": {
     "iopub.execute_input": "2025-04-05T08:13:05.765829Z",
     "iopub.status.busy": "2025-04-05T08:13:05.765199Z",
     "iopub.status.idle": "2025-04-05T08:13:05.769826Z",
     "shell.execute_reply": "2025-04-05T08:13:05.768463Z"
    },
    "papermill": {
     "duration": 0.017423,
     "end_time": "2025-04-05T08:13:05.771597",
     "exception": false,
     "start_time": "2025-04-05T08:13:05.754174",
     "status": "completed"
    },
    "tags": []
   },
   "outputs": [],
   "source": [
    "# # Optional: Feature Scaling\n",
    "# scaler = StandardScaler()\n",
    "# X_train_scaled = scaler.fit_transform(X_train)\n",
    "# X_test_scaled = scaler.transform(X_test)"
   ]
  },
  {
   "cell_type": "code",
   "execution_count": 28,
   "id": "61565ee7",
   "metadata": {
    "execution": {
     "iopub.execute_input": "2025-04-05T08:13:05.794133Z",
     "iopub.status.busy": "2025-04-05T08:13:05.793722Z",
     "iopub.status.idle": "2025-04-05T08:31:48.965584Z",
     "shell.execute_reply": "2025-04-05T08:31:48.964425Z"
    },
    "papermill": {
     "duration": 1123.198019,
     "end_time": "2025-04-05T08:31:48.980125",
     "exception": false,
     "start_time": "2025-04-05T08:13:05.782106",
     "status": "completed"
    },
    "tags": []
   },
   "outputs": [
    {
     "name": "stdout",
     "output_type": "stream",
     "text": [
      "RMSE: 12.70350405869086\n",
      "R² Score: 0.7806835822681335\n"
     ]
    }
   ],
   "source": [
    "from sklearn.ensemble import RandomForestRegressor\n",
    "from sklearn.metrics import mean_squared_error, r2_score\n",
    "\n",
    "# Train a model (Random Forest)\n",
    "model = RandomForestRegressor(n_estimators=100, random_state=42)\n",
    "model.fit(X_train, y_train)\n",
    "\n",
    "# Predict and evaluate\n",
    "y_pred = model.predict(X_test)\n",
    "print(\"RMSE:\", mean_squared_error(y_test, y_pred, squared=False))\n",
    "print(\"R² Score:\", r2_score(y_test, y_pred))"
   ]
  },
  {
   "cell_type": "code",
   "execution_count": 29,
   "id": "d0e5d190",
   "metadata": {
    "execution": {
     "iopub.execute_input": "2025-04-05T08:31:49.002621Z",
     "iopub.status.busy": "2025-04-05T08:31:49.002223Z",
     "iopub.status.idle": "2025-04-05T08:32:12.818926Z",
     "shell.execute_reply": "2025-04-05T08:32:12.817683Z"
    },
    "papermill": {
     "duration": 23.829969,
     "end_time": "2025-04-05T08:32:12.820845",
     "exception": false,
     "start_time": "2025-04-05T08:31:48.990876",
     "status": "completed"
    },
    "tags": []
   },
   "outputs": [],
   "source": [
    " y_pred_test = model.predict(df_encoded_test)"
   ]
  },
  {
   "cell_type": "code",
   "execution_count": 30,
   "id": "413e6671",
   "metadata": {
    "execution": {
     "iopub.execute_input": "2025-04-05T08:32:12.843040Z",
     "iopub.status.busy": "2025-04-05T08:32:12.842699Z",
     "iopub.status.idle": "2025-04-05T08:32:12.849249Z",
     "shell.execute_reply": "2025-04-05T08:32:12.848107Z"
    },
    "papermill": {
     "duration": 0.019806,
     "end_time": "2025-04-05T08:32:12.851079",
     "exception": false,
     "start_time": "2025-04-05T08:32:12.831273",
     "status": "completed"
    },
    "tags": []
   },
   "outputs": [],
   "source": [
    "submission = pd.DataFrame(y_pred_test,index = df_encoded_test.index,columns=[\"Listening_Time_minutes\"]).reset_index()"
   ]
  },
  {
   "cell_type": "code",
   "execution_count": 31,
   "id": "97d3b58f",
   "metadata": {
    "execution": {
     "iopub.execute_input": "2025-04-05T08:32:12.873272Z",
     "iopub.status.busy": "2025-04-05T08:32:12.872930Z",
     "iopub.status.idle": "2025-04-05T08:32:12.881947Z",
     "shell.execute_reply": "2025-04-05T08:32:12.881021Z"
    },
    "papermill": {
     "duration": 0.022051,
     "end_time": "2025-04-05T08:32:12.883420",
     "exception": false,
     "start_time": "2025-04-05T08:32:12.861369",
     "status": "completed"
    },
    "tags": []
   },
   "outputs": [
    {
     "data": {
      "text/html": [
       "<div>\n",
       "<style scoped>\n",
       "    .dataframe tbody tr th:only-of-type {\n",
       "        vertical-align: middle;\n",
       "    }\n",
       "\n",
       "    .dataframe tbody tr th {\n",
       "        vertical-align: top;\n",
       "    }\n",
       "\n",
       "    .dataframe thead th {\n",
       "        text-align: right;\n",
       "    }\n",
       "</style>\n",
       "<table border=\"1\" class=\"dataframe\">\n",
       "  <thead>\n",
       "    <tr style=\"text-align: right;\">\n",
       "      <th></th>\n",
       "      <th>id</th>\n",
       "      <th>Listening_Time_minutes</th>\n",
       "    </tr>\n",
       "  </thead>\n",
       "  <tbody>\n",
       "    <tr>\n",
       "      <th>0</th>\n",
       "      <td>750000</td>\n",
       "      <td>45.446854</td>\n",
       "    </tr>\n",
       "    <tr>\n",
       "      <th>1</th>\n",
       "      <td>750001</td>\n",
       "      <td>86.996624</td>\n",
       "    </tr>\n",
       "    <tr>\n",
       "      <th>2</th>\n",
       "      <td>750002</td>\n",
       "      <td>52.955025</td>\n",
       "    </tr>\n",
       "    <tr>\n",
       "      <th>3</th>\n",
       "      <td>750003</td>\n",
       "      <td>47.981564</td>\n",
       "    </tr>\n",
       "    <tr>\n",
       "      <th>4</th>\n",
       "      <td>750004</td>\n",
       "      <td>71.630736</td>\n",
       "    </tr>\n",
       "  </tbody>\n",
       "</table>\n",
       "</div>"
      ],
      "text/plain": [
       "       id  Listening_Time_minutes\n",
       "0  750000               45.446854\n",
       "1  750001               86.996624\n",
       "2  750002               52.955025\n",
       "3  750003               47.981564\n",
       "4  750004               71.630736"
      ]
     },
     "execution_count": 31,
     "metadata": {},
     "output_type": "execute_result"
    }
   ],
   "source": [
    "submission.head()"
   ]
  },
  {
   "cell_type": "code",
   "execution_count": 32,
   "id": "bbe05b5a",
   "metadata": {
    "execution": {
     "iopub.execute_input": "2025-04-05T08:32:12.905708Z",
     "iopub.status.busy": "2025-04-05T08:32:12.905299Z",
     "iopub.status.idle": "2025-04-05T08:32:13.463940Z",
     "shell.execute_reply": "2025-04-05T08:32:13.462715Z"
    },
    "papermill": {
     "duration": 0.571999,
     "end_time": "2025-04-05T08:32:13.465941",
     "exception": false,
     "start_time": "2025-04-05T08:32:12.893942",
     "status": "completed"
    },
    "tags": []
   },
   "outputs": [],
   "source": [
    "submission.to_csv(\"submission.csv\")"
   ]
  },
  {
   "cell_type": "code",
   "execution_count": null,
   "id": "e3f40a7c",
   "metadata": {
    "papermill": {
     "duration": 0.010318,
     "end_time": "2025-04-05T08:32:13.487143",
     "exception": false,
     "start_time": "2025-04-05T08:32:13.476825",
     "status": "completed"
    },
    "tags": []
   },
   "outputs": [],
   "source": []
  }
 ],
 "metadata": {
  "kaggle": {
   "accelerator": "none",
   "dataSources": [
    {
     "databundleVersionId": 11351736,
     "sourceId": 91715,
     "sourceType": "competition"
    }
   ],
   "dockerImageVersionId": 30918,
   "isGpuEnabled": false,
   "isInternetEnabled": true,
   "language": "python",
   "sourceType": "notebook"
  },
  "kernelspec": {
   "display_name": "Python 3",
   "language": "python",
   "name": "python3"
  },
  "language_info": {
   "codemirror_mode": {
    "name": "ipython",
    "version": 3
   },
   "file_extension": ".py",
   "mimetype": "text/x-python",
   "name": "python",
   "nbconvert_exporter": "python",
   "pygments_lexer": "ipython3",
   "version": "3.10.12"
  },
  "papermill": {
   "default_parameters": {},
   "duration": 1164.580916,
   "end_time": "2025-04-05T08:32:14.822333",
   "environment_variables": {},
   "exception": null,
   "input_path": "__notebook__.ipynb",
   "output_path": "__notebook__.ipynb",
   "parameters": {},
   "start_time": "2025-04-05T08:12:50.241417",
   "version": "2.6.0"
  }
 },
 "nbformat": 4,
 "nbformat_minor": 5
}
