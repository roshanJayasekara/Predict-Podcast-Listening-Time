{
 "cells": [
  {
   "cell_type": "code",
   "execution_count": 1,
   "id": "13213318",
   "metadata": {
    "_cell_guid": "b1076dfc-b9ad-4769-8c92-a6c4dae69d19",
    "_uuid": "8f2839f25d086af736a60e9eeb907d3b93b6e0e5",
    "execution": {
     "iopub.execute_input": "2025-04-06T16:40:30.480942Z",
     "iopub.status.busy": "2025-04-06T16:40:30.480693Z",
     "iopub.status.idle": "2025-04-06T16:40:31.254072Z",
     "shell.execute_reply": "2025-04-06T16:40:31.253001Z"
    },
    "papermill": {
     "duration": 0.782851,
     "end_time": "2025-04-06T16:40:31.255543",
     "exception": false,
     "start_time": "2025-04-06T16:40:30.472692",
     "status": "completed"
    },
    "tags": []
   },
   "outputs": [
    {
     "name": "stdout",
     "output_type": "stream",
     "text": [
      "/kaggle/input/playground-series-s5e4/sample_submission.csv\n",
      "/kaggle/input/playground-series-s5e4/train.csv\n",
      "/kaggle/input/playground-series-s5e4/test.csv\n"
     ]
    }
   ],
   "source": [
    "# This Python 3 environment comes with many helpful analytics libraries installed\n",
    "# It is defined by the kaggle/python Docker image: https://github.com/kaggle/docker-python\n",
    "# For example, here's several helpful packages to load\n",
    "\n",
    "import numpy as np # linear algebra\n",
    "import pandas as pd # data processing, CSV file I/O (e.g. pd.read_csv)\n",
    "\n",
    "# Input data files are available in the read-only \"../input/\" directory\n",
    "# For example, running this (by clicking run or pressing Shift+Enter) will list all files under the input directory\n",
    "\n",
    "import os\n",
    "for dirname, _, filenames in os.walk('/kaggle/input'):\n",
    "    for filename in filenames:\n",
    "        print(os.path.join(dirname, filename))\n",
    "\n",
    "# You can write up to 20GB to the current directory (/kaggle/working/) that gets preserved as output when you create a version using \"Save & Run All\" \n",
    "# You can also write temporary files to /kaggle/temp/, but they won't be saved outside of the current session"
   ]
  },
  {
   "cell_type": "markdown",
   "id": "eed34dd2",
   "metadata": {
    "papermill": {
     "duration": 0.006825,
     "end_time": "2025-04-06T16:40:31.270021",
     "exception": false,
     "start_time": "2025-04-06T16:40:31.263196",
     "status": "completed"
    },
    "tags": []
   },
   "source": [
    "# Loading the data"
   ]
  },
  {
   "cell_type": "code",
   "execution_count": 2,
   "id": "31c1207d",
   "metadata": {
    "execution": {
     "iopub.execute_input": "2025-04-06T16:40:31.286243Z",
     "iopub.status.busy": "2025-04-06T16:40:31.285888Z",
     "iopub.status.idle": "2025-04-06T16:40:33.470182Z",
     "shell.execute_reply": "2025-04-06T16:40:33.469518Z"
    },
    "papermill": {
     "duration": 2.194125,
     "end_time": "2025-04-06T16:40:33.471817",
     "exception": false,
     "start_time": "2025-04-06T16:40:31.277692",
     "status": "completed"
    },
    "tags": []
   },
   "outputs": [],
   "source": [
    "df_train = pd.read_csv(\"/kaggle/input/playground-series-s5e4/train.csv\")\n",
    "df_test = pd.read_csv(\"/kaggle/input/playground-series-s5e4/test.csv\")\n",
    "df_sample = pd.read_csv(\"/kaggle/input/playground-series-s5e4/sample_submission.csv\")"
   ]
  },
  {
   "cell_type": "code",
   "execution_count": 3,
   "id": "0b94dec4",
   "metadata": {
    "execution": {
     "iopub.execute_input": "2025-04-06T16:40:33.486664Z",
     "iopub.status.busy": "2025-04-06T16:40:33.486430Z",
     "iopub.status.idle": "2025-04-06T16:40:33.514384Z",
     "shell.execute_reply": "2025-04-06T16:40:33.513435Z"
    },
    "papermill": {
     "duration": 0.036549,
     "end_time": "2025-04-06T16:40:33.515595",
     "exception": false,
     "start_time": "2025-04-06T16:40:33.479046",
     "status": "completed"
    },
    "tags": []
   },
   "outputs": [
    {
     "name": "stderr",
     "output_type": "stream",
     "text": [
      "/usr/local/lib/python3.10/dist-packages/pandas/io/formats/format.py:1458: RuntimeWarning: invalid value encountered in greater\n",
      "  has_large_values = (abs_vals > 1e6).any()\n",
      "/usr/local/lib/python3.10/dist-packages/pandas/io/formats/format.py:1459: RuntimeWarning: invalid value encountered in less\n",
      "  has_small_values = ((abs_vals < 10 ** (-self.digits)) & (abs_vals > 0)).any()\n",
      "/usr/local/lib/python3.10/dist-packages/pandas/io/formats/format.py:1459: RuntimeWarning: invalid value encountered in greater\n",
      "  has_small_values = ((abs_vals < 10 ** (-self.digits)) & (abs_vals > 0)).any()\n"
     ]
    },
    {
     "data": {
      "text/html": [
       "<div>\n",
       "<style scoped>\n",
       "    .dataframe tbody tr th:only-of-type {\n",
       "        vertical-align: middle;\n",
       "    }\n",
       "\n",
       "    .dataframe tbody tr th {\n",
       "        vertical-align: top;\n",
       "    }\n",
       "\n",
       "    .dataframe thead th {\n",
       "        text-align: right;\n",
       "    }\n",
       "</style>\n",
       "<table border=\"1\" class=\"dataframe\">\n",
       "  <thead>\n",
       "    <tr style=\"text-align: right;\">\n",
       "      <th></th>\n",
       "      <th>id</th>\n",
       "      <th>Podcast_Name</th>\n",
       "      <th>Episode_Title</th>\n",
       "      <th>Episode_Length_minutes</th>\n",
       "      <th>Genre</th>\n",
       "      <th>Host_Popularity_percentage</th>\n",
       "      <th>Publication_Day</th>\n",
       "      <th>Publication_Time</th>\n",
       "      <th>Guest_Popularity_percentage</th>\n",
       "      <th>Number_of_Ads</th>\n",
       "      <th>Episode_Sentiment</th>\n",
       "      <th>Listening_Time_minutes</th>\n",
       "    </tr>\n",
       "  </thead>\n",
       "  <tbody>\n",
       "    <tr>\n",
       "      <th>0</th>\n",
       "      <td>0</td>\n",
       "      <td>Mystery Matters</td>\n",
       "      <td>Episode 98</td>\n",
       "      <td>NaN</td>\n",
       "      <td>True Crime</td>\n",
       "      <td>74.81</td>\n",
       "      <td>Thursday</td>\n",
       "      <td>Night</td>\n",
       "      <td>NaN</td>\n",
       "      <td>0.0</td>\n",
       "      <td>Positive</td>\n",
       "      <td>31.41998</td>\n",
       "    </tr>\n",
       "    <tr>\n",
       "      <th>1</th>\n",
       "      <td>1</td>\n",
       "      <td>Joke Junction</td>\n",
       "      <td>Episode 26</td>\n",
       "      <td>119.80</td>\n",
       "      <td>Comedy</td>\n",
       "      <td>66.95</td>\n",
       "      <td>Saturday</td>\n",
       "      <td>Afternoon</td>\n",
       "      <td>75.95</td>\n",
       "      <td>2.0</td>\n",
       "      <td>Negative</td>\n",
       "      <td>88.01241</td>\n",
       "    </tr>\n",
       "    <tr>\n",
       "      <th>2</th>\n",
       "      <td>2</td>\n",
       "      <td>Study Sessions</td>\n",
       "      <td>Episode 16</td>\n",
       "      <td>73.90</td>\n",
       "      <td>Education</td>\n",
       "      <td>69.97</td>\n",
       "      <td>Tuesday</td>\n",
       "      <td>Evening</td>\n",
       "      <td>8.97</td>\n",
       "      <td>0.0</td>\n",
       "      <td>Negative</td>\n",
       "      <td>44.92531</td>\n",
       "    </tr>\n",
       "    <tr>\n",
       "      <th>3</th>\n",
       "      <td>3</td>\n",
       "      <td>Digital Digest</td>\n",
       "      <td>Episode 45</td>\n",
       "      <td>67.17</td>\n",
       "      <td>Technology</td>\n",
       "      <td>57.22</td>\n",
       "      <td>Monday</td>\n",
       "      <td>Morning</td>\n",
       "      <td>78.70</td>\n",
       "      <td>2.0</td>\n",
       "      <td>Positive</td>\n",
       "      <td>46.27824</td>\n",
       "    </tr>\n",
       "    <tr>\n",
       "      <th>4</th>\n",
       "      <td>4</td>\n",
       "      <td>Mind &amp; Body</td>\n",
       "      <td>Episode 86</td>\n",
       "      <td>110.51</td>\n",
       "      <td>Health</td>\n",
       "      <td>80.07</td>\n",
       "      <td>Monday</td>\n",
       "      <td>Afternoon</td>\n",
       "      <td>58.68</td>\n",
       "      <td>3.0</td>\n",
       "      <td>Neutral</td>\n",
       "      <td>75.61031</td>\n",
       "    </tr>\n",
       "  </tbody>\n",
       "</table>\n",
       "</div>"
      ],
      "text/plain": [
       "   id     Podcast_Name Episode_Title  Episode_Length_minutes       Genre  \\\n",
       "0   0  Mystery Matters    Episode 98                     NaN  True Crime   \n",
       "1   1    Joke Junction    Episode 26                  119.80      Comedy   \n",
       "2   2   Study Sessions    Episode 16                   73.90   Education   \n",
       "3   3   Digital Digest    Episode 45                   67.17  Technology   \n",
       "4   4      Mind & Body    Episode 86                  110.51      Health   \n",
       "\n",
       "   Host_Popularity_percentage Publication_Day Publication_Time  \\\n",
       "0                       74.81        Thursday            Night   \n",
       "1                       66.95        Saturday        Afternoon   \n",
       "2                       69.97         Tuesday          Evening   \n",
       "3                       57.22          Monday          Morning   \n",
       "4                       80.07          Monday        Afternoon   \n",
       "\n",
       "   Guest_Popularity_percentage  Number_of_Ads Episode_Sentiment  \\\n",
       "0                          NaN            0.0          Positive   \n",
       "1                        75.95            2.0          Negative   \n",
       "2                         8.97            0.0          Negative   \n",
       "3                        78.70            2.0          Positive   \n",
       "4                        58.68            3.0           Neutral   \n",
       "\n",
       "   Listening_Time_minutes  \n",
       "0                31.41998  \n",
       "1                88.01241  \n",
       "2                44.92531  \n",
       "3                46.27824  \n",
       "4                75.61031  "
      ]
     },
     "execution_count": 3,
     "metadata": {},
     "output_type": "execute_result"
    }
   ],
   "source": [
    "df_train.head()"
   ]
  },
  {
   "cell_type": "code",
   "execution_count": 4,
   "id": "ba36b11a",
   "metadata": {
    "execution": {
     "iopub.execute_input": "2025-04-06T16:40:33.530551Z",
     "iopub.status.busy": "2025-04-06T16:40:33.530285Z",
     "iopub.status.idle": "2025-04-06T16:40:33.542219Z",
     "shell.execute_reply": "2025-04-06T16:40:33.541520Z"
    },
    "papermill": {
     "duration": 0.020509,
     "end_time": "2025-04-06T16:40:33.543453",
     "exception": false,
     "start_time": "2025-04-06T16:40:33.522944",
     "status": "completed"
    },
    "tags": []
   },
   "outputs": [
    {
     "name": "stderr",
     "output_type": "stream",
     "text": [
      "/usr/local/lib/python3.10/dist-packages/pandas/io/formats/format.py:1458: RuntimeWarning: invalid value encountered in greater\n",
      "  has_large_values = (abs_vals > 1e6).any()\n",
      "/usr/local/lib/python3.10/dist-packages/pandas/io/formats/format.py:1459: RuntimeWarning: invalid value encountered in less\n",
      "  has_small_values = ((abs_vals < 10 ** (-self.digits)) & (abs_vals > 0)).any()\n",
      "/usr/local/lib/python3.10/dist-packages/pandas/io/formats/format.py:1459: RuntimeWarning: invalid value encountered in greater\n",
      "  has_small_values = ((abs_vals < 10 ** (-self.digits)) & (abs_vals > 0)).any()\n"
     ]
    },
    {
     "data": {
      "text/html": [
       "<div>\n",
       "<style scoped>\n",
       "    .dataframe tbody tr th:only-of-type {\n",
       "        vertical-align: middle;\n",
       "    }\n",
       "\n",
       "    .dataframe tbody tr th {\n",
       "        vertical-align: top;\n",
       "    }\n",
       "\n",
       "    .dataframe thead th {\n",
       "        text-align: right;\n",
       "    }\n",
       "</style>\n",
       "<table border=\"1\" class=\"dataframe\">\n",
       "  <thead>\n",
       "    <tr style=\"text-align: right;\">\n",
       "      <th></th>\n",
       "      <th>id</th>\n",
       "      <th>Podcast_Name</th>\n",
       "      <th>Episode_Title</th>\n",
       "      <th>Episode_Length_minutes</th>\n",
       "      <th>Genre</th>\n",
       "      <th>Host_Popularity_percentage</th>\n",
       "      <th>Publication_Day</th>\n",
       "      <th>Publication_Time</th>\n",
       "      <th>Guest_Popularity_percentage</th>\n",
       "      <th>Number_of_Ads</th>\n",
       "      <th>Episode_Sentiment</th>\n",
       "    </tr>\n",
       "  </thead>\n",
       "  <tbody>\n",
       "    <tr>\n",
       "      <th>0</th>\n",
       "      <td>750000</td>\n",
       "      <td>Educational Nuggets</td>\n",
       "      <td>Episode 73</td>\n",
       "      <td>78.96</td>\n",
       "      <td>Education</td>\n",
       "      <td>38.11</td>\n",
       "      <td>Saturday</td>\n",
       "      <td>Evening</td>\n",
       "      <td>53.33</td>\n",
       "      <td>1.0</td>\n",
       "      <td>Neutral</td>\n",
       "    </tr>\n",
       "    <tr>\n",
       "      <th>1</th>\n",
       "      <td>750001</td>\n",
       "      <td>Sound Waves</td>\n",
       "      <td>Episode 23</td>\n",
       "      <td>27.87</td>\n",
       "      <td>Music</td>\n",
       "      <td>71.29</td>\n",
       "      <td>Sunday</td>\n",
       "      <td>Morning</td>\n",
       "      <td>NaN</td>\n",
       "      <td>0.0</td>\n",
       "      <td>Neutral</td>\n",
       "    </tr>\n",
       "    <tr>\n",
       "      <th>2</th>\n",
       "      <td>750002</td>\n",
       "      <td>Joke Junction</td>\n",
       "      <td>Episode 11</td>\n",
       "      <td>69.10</td>\n",
       "      <td>Comedy</td>\n",
       "      <td>67.89</td>\n",
       "      <td>Friday</td>\n",
       "      <td>Evening</td>\n",
       "      <td>97.51</td>\n",
       "      <td>0.0</td>\n",
       "      <td>Positive</td>\n",
       "    </tr>\n",
       "    <tr>\n",
       "      <th>3</th>\n",
       "      <td>750003</td>\n",
       "      <td>Comedy Corner</td>\n",
       "      <td>Episode 73</td>\n",
       "      <td>115.39</td>\n",
       "      <td>Comedy</td>\n",
       "      <td>23.40</td>\n",
       "      <td>Sunday</td>\n",
       "      <td>Morning</td>\n",
       "      <td>51.75</td>\n",
       "      <td>2.0</td>\n",
       "      <td>Positive</td>\n",
       "    </tr>\n",
       "    <tr>\n",
       "      <th>4</th>\n",
       "      <td>750004</td>\n",
       "      <td>Life Lessons</td>\n",
       "      <td>Episode 50</td>\n",
       "      <td>72.32</td>\n",
       "      <td>Lifestyle</td>\n",
       "      <td>58.10</td>\n",
       "      <td>Wednesday</td>\n",
       "      <td>Morning</td>\n",
       "      <td>11.30</td>\n",
       "      <td>2.0</td>\n",
       "      <td>Neutral</td>\n",
       "    </tr>\n",
       "  </tbody>\n",
       "</table>\n",
       "</div>"
      ],
      "text/plain": [
       "       id         Podcast_Name Episode_Title  Episode_Length_minutes  \\\n",
       "0  750000  Educational Nuggets    Episode 73                   78.96   \n",
       "1  750001          Sound Waves    Episode 23                   27.87   \n",
       "2  750002        Joke Junction    Episode 11                   69.10   \n",
       "3  750003        Comedy Corner    Episode 73                  115.39   \n",
       "4  750004         Life Lessons    Episode 50                   72.32   \n",
       "\n",
       "       Genre  Host_Popularity_percentage Publication_Day Publication_Time  \\\n",
       "0  Education                       38.11        Saturday          Evening   \n",
       "1      Music                       71.29          Sunday          Morning   \n",
       "2     Comedy                       67.89          Friday          Evening   \n",
       "3     Comedy                       23.40          Sunday          Morning   \n",
       "4  Lifestyle                       58.10       Wednesday          Morning   \n",
       "\n",
       "   Guest_Popularity_percentage  Number_of_Ads Episode_Sentiment  \n",
       "0                        53.33            1.0           Neutral  \n",
       "1                          NaN            0.0           Neutral  \n",
       "2                        97.51            0.0          Positive  \n",
       "3                        51.75            2.0          Positive  \n",
       "4                        11.30            2.0           Neutral  "
      ]
     },
     "execution_count": 4,
     "metadata": {},
     "output_type": "execute_result"
    }
   ],
   "source": [
    "df_test.head()"
   ]
  },
  {
   "cell_type": "code",
   "execution_count": 5,
   "id": "f6fba435",
   "metadata": {
    "execution": {
     "iopub.execute_input": "2025-04-06T16:40:33.558296Z",
     "iopub.status.busy": "2025-04-06T16:40:33.558094Z",
     "iopub.status.idle": "2025-04-06T16:40:33.564557Z",
     "shell.execute_reply": "2025-04-06T16:40:33.563903Z"
    },
    "papermill": {
     "duration": 0.015118,
     "end_time": "2025-04-06T16:40:33.565700",
     "exception": false,
     "start_time": "2025-04-06T16:40:33.550582",
     "status": "completed"
    },
    "tags": []
   },
   "outputs": [
    {
     "data": {
      "text/html": [
       "<div>\n",
       "<style scoped>\n",
       "    .dataframe tbody tr th:only-of-type {\n",
       "        vertical-align: middle;\n",
       "    }\n",
       "\n",
       "    .dataframe tbody tr th {\n",
       "        vertical-align: top;\n",
       "    }\n",
       "\n",
       "    .dataframe thead th {\n",
       "        text-align: right;\n",
       "    }\n",
       "</style>\n",
       "<table border=\"1\" class=\"dataframe\">\n",
       "  <thead>\n",
       "    <tr style=\"text-align: right;\">\n",
       "      <th></th>\n",
       "      <th>id</th>\n",
       "      <th>Listening_Time_minutes</th>\n",
       "    </tr>\n",
       "  </thead>\n",
       "  <tbody>\n",
       "    <tr>\n",
       "      <th>0</th>\n",
       "      <td>750000</td>\n",
       "      <td>45.437</td>\n",
       "    </tr>\n",
       "    <tr>\n",
       "      <th>1</th>\n",
       "      <td>750001</td>\n",
       "      <td>45.437</td>\n",
       "    </tr>\n",
       "    <tr>\n",
       "      <th>2</th>\n",
       "      <td>750002</td>\n",
       "      <td>45.437</td>\n",
       "    </tr>\n",
       "    <tr>\n",
       "      <th>3</th>\n",
       "      <td>750003</td>\n",
       "      <td>45.437</td>\n",
       "    </tr>\n",
       "    <tr>\n",
       "      <th>4</th>\n",
       "      <td>750004</td>\n",
       "      <td>45.437</td>\n",
       "    </tr>\n",
       "  </tbody>\n",
       "</table>\n",
       "</div>"
      ],
      "text/plain": [
       "       id  Listening_Time_minutes\n",
       "0  750000                  45.437\n",
       "1  750001                  45.437\n",
       "2  750002                  45.437\n",
       "3  750003                  45.437\n",
       "4  750004                  45.437"
      ]
     },
     "execution_count": 5,
     "metadata": {},
     "output_type": "execute_result"
    }
   ],
   "source": [
    "df_sample.head()"
   ]
  },
  {
   "cell_type": "markdown",
   "id": "28076ae8",
   "metadata": {
    "papermill": {
     "duration": 0.006904,
     "end_time": "2025-04-06T16:40:33.579852",
     "exception": false,
     "start_time": "2025-04-06T16:40:33.572948",
     "status": "completed"
    },
    "tags": []
   },
   "source": [
    "# EDA"
   ]
  },
  {
   "cell_type": "code",
   "execution_count": 6,
   "id": "fd517e5e",
   "metadata": {
    "execution": {
     "iopub.execute_input": "2025-04-06T16:40:33.594733Z",
     "iopub.status.busy": "2025-04-06T16:40:33.594530Z",
     "iopub.status.idle": "2025-04-06T16:40:33.819120Z",
     "shell.execute_reply": "2025-04-06T16:40:33.818122Z"
    },
    "papermill": {
     "duration": 0.233624,
     "end_time": "2025-04-06T16:40:33.820581",
     "exception": false,
     "start_time": "2025-04-06T16:40:33.586957",
     "status": "completed"
    },
    "tags": []
   },
   "outputs": [
    {
     "name": "stdout",
     "output_type": "stream",
     "text": [
      "<class 'pandas.core.frame.DataFrame'>\n",
      "RangeIndex: 750000 entries, 0 to 749999\n",
      "Data columns (total 12 columns):\n",
      " #   Column                       Non-Null Count   Dtype  \n",
      "---  ------                       --------------   -----  \n",
      " 0   id                           750000 non-null  int64  \n",
      " 1   Podcast_Name                 750000 non-null  object \n",
      " 2   Episode_Title                750000 non-null  object \n",
      " 3   Episode_Length_minutes       662907 non-null  float64\n",
      " 4   Genre                        750000 non-null  object \n",
      " 5   Host_Popularity_percentage   750000 non-null  float64\n",
      " 6   Publication_Day              750000 non-null  object \n",
      " 7   Publication_Time             750000 non-null  object \n",
      " 8   Guest_Popularity_percentage  603970 non-null  float64\n",
      " 9   Number_of_Ads                749999 non-null  float64\n",
      " 10  Episode_Sentiment            750000 non-null  object \n",
      " 11  Listening_Time_minutes       750000 non-null  float64\n",
      "dtypes: float64(5), int64(1), object(6)\n",
      "memory usage: 68.7+ MB\n"
     ]
    }
   ],
   "source": [
    "df_train.info()"
   ]
  },
  {
   "cell_type": "markdown",
   "id": "d2a1d01d",
   "metadata": {
    "papermill": {
     "duration": 0.007341,
     "end_time": "2025-04-06T16:40:33.835477",
     "exception": false,
     "start_time": "2025-04-06T16:40:33.828136",
     "status": "completed"
    },
    "tags": []
   },
   "source": [
    "#"
   ]
  },
  {
   "cell_type": "code",
   "execution_count": 7,
   "id": "60e8e15b",
   "metadata": {
    "execution": {
     "iopub.execute_input": "2025-04-06T16:40:33.850731Z",
     "iopub.status.busy": "2025-04-06T16:40:33.850498Z",
     "iopub.status.idle": "2025-04-06T16:40:34.479754Z",
     "shell.execute_reply": "2025-04-06T16:40:34.478891Z"
    },
    "papermill": {
     "duration": 0.638614,
     "end_time": "2025-04-06T16:40:34.481271",
     "exception": false,
     "start_time": "2025-04-06T16:40:33.842657",
     "status": "completed"
    },
    "tags": []
   },
   "outputs": [
    {
     "name": "stderr",
     "output_type": "stream",
     "text": [
      "/usr/local/lib/python3.10/dist-packages/pandas/io/formats/format.py:1458: RuntimeWarning: invalid value encountered in greater\n",
      "  has_large_values = (abs_vals > 1e6).any()\n",
      "/usr/local/lib/python3.10/dist-packages/pandas/io/formats/format.py:1459: RuntimeWarning: invalid value encountered in less\n",
      "  has_small_values = ((abs_vals < 10 ** (-self.digits)) & (abs_vals > 0)).any()\n",
      "/usr/local/lib/python3.10/dist-packages/pandas/io/formats/format.py:1459: RuntimeWarning: invalid value encountered in greater\n",
      "  has_small_values = ((abs_vals < 10 ** (-self.digits)) & (abs_vals > 0)).any()\n"
     ]
    },
    {
     "data": {
      "text/html": [
       "<div>\n",
       "<style scoped>\n",
       "    .dataframe tbody tr th:only-of-type {\n",
       "        vertical-align: middle;\n",
       "    }\n",
       "\n",
       "    .dataframe tbody tr th {\n",
       "        vertical-align: top;\n",
       "    }\n",
       "\n",
       "    .dataframe thead th {\n",
       "        text-align: right;\n",
       "    }\n",
       "</style>\n",
       "<table border=\"1\" class=\"dataframe\">\n",
       "  <thead>\n",
       "    <tr style=\"text-align: right;\">\n",
       "      <th></th>\n",
       "      <th>id</th>\n",
       "      <th>Podcast_Name</th>\n",
       "      <th>Episode_Title</th>\n",
       "      <th>Episode_Length_minutes</th>\n",
       "      <th>Genre</th>\n",
       "      <th>Host_Popularity_percentage</th>\n",
       "      <th>Publication_Day</th>\n",
       "      <th>Publication_Time</th>\n",
       "      <th>Guest_Popularity_percentage</th>\n",
       "      <th>Number_of_Ads</th>\n",
       "      <th>Episode_Sentiment</th>\n",
       "      <th>Listening_Time_minutes</th>\n",
       "    </tr>\n",
       "  </thead>\n",
       "  <tbody>\n",
       "    <tr>\n",
       "      <th>count</th>\n",
       "      <td>750000.000000</td>\n",
       "      <td>750000</td>\n",
       "      <td>750000</td>\n",
       "      <td>662907.000000</td>\n",
       "      <td>750000</td>\n",
       "      <td>750000.000000</td>\n",
       "      <td>750000</td>\n",
       "      <td>750000</td>\n",
       "      <td>603970.000000</td>\n",
       "      <td>749999.000000</td>\n",
       "      <td>750000</td>\n",
       "      <td>750000.000000</td>\n",
       "    </tr>\n",
       "    <tr>\n",
       "      <th>unique</th>\n",
       "      <td>NaN</td>\n",
       "      <td>48</td>\n",
       "      <td>100</td>\n",
       "      <td>NaN</td>\n",
       "      <td>10</td>\n",
       "      <td>NaN</td>\n",
       "      <td>7</td>\n",
       "      <td>4</td>\n",
       "      <td>NaN</td>\n",
       "      <td>NaN</td>\n",
       "      <td>3</td>\n",
       "      <td>NaN</td>\n",
       "    </tr>\n",
       "    <tr>\n",
       "      <th>top</th>\n",
       "      <td>NaN</td>\n",
       "      <td>Tech Talks</td>\n",
       "      <td>Episode 71</td>\n",
       "      <td>NaN</td>\n",
       "      <td>Sports</td>\n",
       "      <td>NaN</td>\n",
       "      <td>Sunday</td>\n",
       "      <td>Night</td>\n",
       "      <td>NaN</td>\n",
       "      <td>NaN</td>\n",
       "      <td>Neutral</td>\n",
       "      <td>NaN</td>\n",
       "    </tr>\n",
       "    <tr>\n",
       "      <th>freq</th>\n",
       "      <td>NaN</td>\n",
       "      <td>22847</td>\n",
       "      <td>10515</td>\n",
       "      <td>NaN</td>\n",
       "      <td>87606</td>\n",
       "      <td>NaN</td>\n",
       "      <td>115946</td>\n",
       "      <td>196849</td>\n",
       "      <td>NaN</td>\n",
       "      <td>NaN</td>\n",
       "      <td>251291</td>\n",
       "      <td>NaN</td>\n",
       "    </tr>\n",
       "    <tr>\n",
       "      <th>mean</th>\n",
       "      <td>374999.500000</td>\n",
       "      <td>NaN</td>\n",
       "      <td>NaN</td>\n",
       "      <td>64.504738</td>\n",
       "      <td>NaN</td>\n",
       "      <td>59.859901</td>\n",
       "      <td>NaN</td>\n",
       "      <td>NaN</td>\n",
       "      <td>52.236449</td>\n",
       "      <td>1.348855</td>\n",
       "      <td>NaN</td>\n",
       "      <td>45.437406</td>\n",
       "    </tr>\n",
       "    <tr>\n",
       "      <th>std</th>\n",
       "      <td>216506.495284</td>\n",
       "      <td>NaN</td>\n",
       "      <td>NaN</td>\n",
       "      <td>32.969603</td>\n",
       "      <td>NaN</td>\n",
       "      <td>22.873098</td>\n",
       "      <td>NaN</td>\n",
       "      <td>NaN</td>\n",
       "      <td>28.451241</td>\n",
       "      <td>1.151130</td>\n",
       "      <td>NaN</td>\n",
       "      <td>27.138306</td>\n",
       "    </tr>\n",
       "    <tr>\n",
       "      <th>min</th>\n",
       "      <td>0.000000</td>\n",
       "      <td>NaN</td>\n",
       "      <td>NaN</td>\n",
       "      <td>0.000000</td>\n",
       "      <td>NaN</td>\n",
       "      <td>1.300000</td>\n",
       "      <td>NaN</td>\n",
       "      <td>NaN</td>\n",
       "      <td>0.000000</td>\n",
       "      <td>0.000000</td>\n",
       "      <td>NaN</td>\n",
       "      <td>0.000000</td>\n",
       "    </tr>\n",
       "    <tr>\n",
       "      <th>25%</th>\n",
       "      <td>187499.750000</td>\n",
       "      <td>NaN</td>\n",
       "      <td>NaN</td>\n",
       "      <td>35.730000</td>\n",
       "      <td>NaN</td>\n",
       "      <td>39.410000</td>\n",
       "      <td>NaN</td>\n",
       "      <td>NaN</td>\n",
       "      <td>28.380000</td>\n",
       "      <td>0.000000</td>\n",
       "      <td>NaN</td>\n",
       "      <td>23.178350</td>\n",
       "    </tr>\n",
       "    <tr>\n",
       "      <th>50%</th>\n",
       "      <td>374999.500000</td>\n",
       "      <td>NaN</td>\n",
       "      <td>NaN</td>\n",
       "      <td>63.840000</td>\n",
       "      <td>NaN</td>\n",
       "      <td>60.050000</td>\n",
       "      <td>NaN</td>\n",
       "      <td>NaN</td>\n",
       "      <td>53.580000</td>\n",
       "      <td>1.000000</td>\n",
       "      <td>NaN</td>\n",
       "      <td>43.379460</td>\n",
       "    </tr>\n",
       "    <tr>\n",
       "      <th>75%</th>\n",
       "      <td>562499.250000</td>\n",
       "      <td>NaN</td>\n",
       "      <td>NaN</td>\n",
       "      <td>94.070000</td>\n",
       "      <td>NaN</td>\n",
       "      <td>79.530000</td>\n",
       "      <td>NaN</td>\n",
       "      <td>NaN</td>\n",
       "      <td>76.600000</td>\n",
       "      <td>2.000000</td>\n",
       "      <td>NaN</td>\n",
       "      <td>64.811580</td>\n",
       "    </tr>\n",
       "    <tr>\n",
       "      <th>max</th>\n",
       "      <td>749999.000000</td>\n",
       "      <td>NaN</td>\n",
       "      <td>NaN</td>\n",
       "      <td>325.240000</td>\n",
       "      <td>NaN</td>\n",
       "      <td>119.460000</td>\n",
       "      <td>NaN</td>\n",
       "      <td>NaN</td>\n",
       "      <td>119.910000</td>\n",
       "      <td>103.910000</td>\n",
       "      <td>NaN</td>\n",
       "      <td>119.970000</td>\n",
       "    </tr>\n",
       "  </tbody>\n",
       "</table>\n",
       "</div>"
      ],
      "text/plain": [
       "                   id Podcast_Name Episode_Title  Episode_Length_minutes  \\\n",
       "count   750000.000000       750000        750000           662907.000000   \n",
       "unique            NaN           48           100                     NaN   \n",
       "top               NaN   Tech Talks    Episode 71                     NaN   \n",
       "freq              NaN        22847         10515                     NaN   \n",
       "mean    374999.500000          NaN           NaN               64.504738   \n",
       "std     216506.495284          NaN           NaN               32.969603   \n",
       "min          0.000000          NaN           NaN                0.000000   \n",
       "25%     187499.750000          NaN           NaN               35.730000   \n",
       "50%     374999.500000          NaN           NaN               63.840000   \n",
       "75%     562499.250000          NaN           NaN               94.070000   \n",
       "max     749999.000000          NaN           NaN              325.240000   \n",
       "\n",
       "         Genre  Host_Popularity_percentage Publication_Day Publication_Time  \\\n",
       "count   750000               750000.000000          750000           750000   \n",
       "unique      10                         NaN               7                4   \n",
       "top     Sports                         NaN          Sunday            Night   \n",
       "freq     87606                         NaN          115946           196849   \n",
       "mean       NaN                   59.859901             NaN              NaN   \n",
       "std        NaN                   22.873098             NaN              NaN   \n",
       "min        NaN                    1.300000             NaN              NaN   \n",
       "25%        NaN                   39.410000             NaN              NaN   \n",
       "50%        NaN                   60.050000             NaN              NaN   \n",
       "75%        NaN                   79.530000             NaN              NaN   \n",
       "max        NaN                  119.460000             NaN              NaN   \n",
       "\n",
       "        Guest_Popularity_percentage  Number_of_Ads Episode_Sentiment  \\\n",
       "count                 603970.000000  749999.000000            750000   \n",
       "unique                          NaN            NaN                 3   \n",
       "top                             NaN            NaN           Neutral   \n",
       "freq                            NaN            NaN            251291   \n",
       "mean                      52.236449       1.348855               NaN   \n",
       "std                       28.451241       1.151130               NaN   \n",
       "min                        0.000000       0.000000               NaN   \n",
       "25%                       28.380000       0.000000               NaN   \n",
       "50%                       53.580000       1.000000               NaN   \n",
       "75%                       76.600000       2.000000               NaN   \n",
       "max                      119.910000     103.910000               NaN   \n",
       "\n",
       "        Listening_Time_minutes  \n",
       "count            750000.000000  \n",
       "unique                     NaN  \n",
       "top                        NaN  \n",
       "freq                       NaN  \n",
       "mean                 45.437406  \n",
       "std                  27.138306  \n",
       "min                   0.000000  \n",
       "25%                  23.178350  \n",
       "50%                  43.379460  \n",
       "75%                  64.811580  \n",
       "max                 119.970000  "
      ]
     },
     "execution_count": 7,
     "metadata": {},
     "output_type": "execute_result"
    }
   ],
   "source": [
    "df_train.describe(include=\"all\")"
   ]
  },
  {
   "cell_type": "code",
   "execution_count": 8,
   "id": "4c8b01a0",
   "metadata": {
    "execution": {
     "iopub.execute_input": "2025-04-06T16:40:34.498515Z",
     "iopub.status.busy": "2025-04-06T16:40:34.498255Z",
     "iopub.status.idle": "2025-04-06T16:40:34.696777Z",
     "shell.execute_reply": "2025-04-06T16:40:34.696027Z"
    },
    "papermill": {
     "duration": 0.208436,
     "end_time": "2025-04-06T16:40:34.698199",
     "exception": false,
     "start_time": "2025-04-06T16:40:34.489763",
     "status": "completed"
    },
    "tags": []
   },
   "outputs": [
    {
     "data": {
      "text/plain": [
       "id                                  0\n",
       "Podcast_Name                        0\n",
       "Episode_Title                       0\n",
       "Episode_Length_minutes          87093\n",
       "Genre                               0\n",
       "Host_Popularity_percentage          0\n",
       "Publication_Day                     0\n",
       "Publication_Time                    0\n",
       "Guest_Popularity_percentage    146030\n",
       "Number_of_Ads                       1\n",
       "Episode_Sentiment                   0\n",
       "Listening_Time_minutes              0\n",
       "dtype: int64"
      ]
     },
     "execution_count": 8,
     "metadata": {},
     "output_type": "execute_result"
    }
   ],
   "source": [
    "df_train.isna().sum()"
   ]
  },
  {
   "cell_type": "code",
   "execution_count": 9,
   "id": "54857667",
   "metadata": {
    "execution": {
     "iopub.execute_input": "2025-04-06T16:40:34.715907Z",
     "iopub.status.busy": "2025-04-06T16:40:34.715682Z",
     "iopub.status.idle": "2025-04-06T16:40:34.730435Z",
     "shell.execute_reply": "2025-04-06T16:40:34.729558Z"
    },
    "papermill": {
     "duration": 0.025042,
     "end_time": "2025-04-06T16:40:34.731782",
     "exception": false,
     "start_time": "2025-04-06T16:40:34.706740",
     "status": "completed"
    },
    "tags": []
   },
   "outputs": [
    {
     "name": "stderr",
     "output_type": "stream",
     "text": [
      "/usr/local/lib/python3.10/dist-packages/pandas/io/formats/format.py:1458: RuntimeWarning: invalid value encountered in greater\n",
      "  has_large_values = (abs_vals > 1e6).any()\n",
      "/usr/local/lib/python3.10/dist-packages/pandas/io/formats/format.py:1459: RuntimeWarning: invalid value encountered in less\n",
      "  has_small_values = ((abs_vals < 10 ** (-self.digits)) & (abs_vals > 0)).any()\n",
      "/usr/local/lib/python3.10/dist-packages/pandas/io/formats/format.py:1459: RuntimeWarning: invalid value encountered in greater\n",
      "  has_small_values = ((abs_vals < 10 ** (-self.digits)) & (abs_vals > 0)).any()\n"
     ]
    },
    {
     "data": {
      "text/html": [
       "<div>\n",
       "<style scoped>\n",
       "    .dataframe tbody tr th:only-of-type {\n",
       "        vertical-align: middle;\n",
       "    }\n",
       "\n",
       "    .dataframe tbody tr th {\n",
       "        vertical-align: top;\n",
       "    }\n",
       "\n",
       "    .dataframe thead th {\n",
       "        text-align: right;\n",
       "    }\n",
       "</style>\n",
       "<table border=\"1\" class=\"dataframe\">\n",
       "  <thead>\n",
       "    <tr style=\"text-align: right;\">\n",
       "      <th></th>\n",
       "      <th>id</th>\n",
       "      <th>Podcast_Name</th>\n",
       "      <th>Episode_Title</th>\n",
       "      <th>Episode_Length_minutes</th>\n",
       "      <th>Genre</th>\n",
       "      <th>Host_Popularity_percentage</th>\n",
       "      <th>Publication_Day</th>\n",
       "      <th>Publication_Time</th>\n",
       "      <th>Guest_Popularity_percentage</th>\n",
       "      <th>Number_of_Ads</th>\n",
       "      <th>Episode_Sentiment</th>\n",
       "      <th>Listening_Time_minutes</th>\n",
       "    </tr>\n",
       "  </thead>\n",
       "  <tbody>\n",
       "    <tr>\n",
       "      <th>247170</th>\n",
       "      <td>247170</td>\n",
       "      <td>Game Day</td>\n",
       "      <td>Episode 33</td>\n",
       "      <td>35.66</td>\n",
       "      <td>Sports</td>\n",
       "      <td>27.35</td>\n",
       "      <td>Friday</td>\n",
       "      <td>Evening</td>\n",
       "      <td>49.87</td>\n",
       "      <td>NaN</td>\n",
       "      <td>Negative</td>\n",
       "      <td>23.94516</td>\n",
       "    </tr>\n",
       "  </tbody>\n",
       "</table>\n",
       "</div>"
      ],
      "text/plain": [
       "            id Podcast_Name Episode_Title  Episode_Length_minutes   Genre  \\\n",
       "247170  247170     Game Day    Episode 33                   35.66  Sports   \n",
       "\n",
       "        Host_Popularity_percentage Publication_Day Publication_Time  \\\n",
       "247170                       27.35          Friday          Evening   \n",
       "\n",
       "        Guest_Popularity_percentage  Number_of_Ads Episode_Sentiment  \\\n",
       "247170                        49.87            NaN          Negative   \n",
       "\n",
       "        Listening_Time_minutes  \n",
       "247170                23.94516  "
      ]
     },
     "execution_count": 9,
     "metadata": {},
     "output_type": "execute_result"
    }
   ],
   "source": [
    "df_train[df_train[\"Number_of_Ads\"].isna()]"
   ]
  },
  {
   "cell_type": "code",
   "execution_count": 10,
   "id": "54723371",
   "metadata": {
    "execution": {
     "iopub.execute_input": "2025-04-06T16:40:34.749197Z",
     "iopub.status.busy": "2025-04-06T16:40:34.748991Z",
     "iopub.status.idle": "2025-04-06T16:40:34.817855Z",
     "shell.execute_reply": "2025-04-06T16:40:34.817132Z"
    },
    "papermill": {
     "duration": 0.078557,
     "end_time": "2025-04-06T16:40:34.819131",
     "exception": false,
     "start_time": "2025-04-06T16:40:34.740574",
     "status": "completed"
    },
    "tags": []
   },
   "outputs": [
    {
     "data": {
      "text/plain": [
       "id                                 0\n",
       "Podcast_Name                       0\n",
       "Episode_Title                      0\n",
       "Episode_Length_minutes         28736\n",
       "Genre                              0\n",
       "Host_Popularity_percentage         0\n",
       "Publication_Day                    0\n",
       "Publication_Time                   0\n",
       "Guest_Popularity_percentage    48832\n",
       "Number_of_Ads                      0\n",
       "Episode_Sentiment                  0\n",
       "dtype: int64"
      ]
     },
     "execution_count": 10,
     "metadata": {},
     "output_type": "execute_result"
    }
   ],
   "source": [
    "df_test.isna().sum()"
   ]
  },
  {
   "cell_type": "code",
   "execution_count": 11,
   "id": "696d8b50",
   "metadata": {
    "execution": {
     "iopub.execute_input": "2025-04-06T16:40:34.836833Z",
     "iopub.status.busy": "2025-04-06T16:40:34.836628Z",
     "iopub.status.idle": "2025-04-06T16:40:35.279904Z",
     "shell.execute_reply": "2025-04-06T16:40:35.279158Z"
    },
    "papermill": {
     "duration": 0.453448,
     "end_time": "2025-04-06T16:40:35.281623",
     "exception": false,
     "start_time": "2025-04-06T16:40:34.828175",
     "status": "completed"
    },
    "tags": []
   },
   "outputs": [],
   "source": [
    "df_train['Guest_Popularity_percentage'] = df_train.groupby(by= ['Podcast_Name'])['Guest_Popularity_percentage'].transform(\n",
    "    lambda x: x.fillna(x.mean())\n",
    ")\n",
    "\n",
    "df_train['Episode_Length_minutes'] = df_train.groupby(by= ['Podcast_Name'])['Episode_Length_minutes'].transform(\n",
    "    lambda x: x.fillna(x.mean())\n",
    ")\n",
    "\n",
    "df_train['Number_of_Ads'] = df_train.groupby(by= ['Podcast_Name'])['Number_of_Ads'].transform(\n",
    "    lambda x: x.fillna(x.mean())\n",
    ")"
   ]
  },
  {
   "cell_type": "code",
   "execution_count": 12,
   "id": "da551188",
   "metadata": {
    "execution": {
     "iopub.execute_input": "2025-04-06T16:40:35.299288Z",
     "iopub.status.busy": "2025-04-06T16:40:35.299057Z",
     "iopub.status.idle": "2025-04-06T16:40:35.573532Z",
     "shell.execute_reply": "2025-04-06T16:40:35.572838Z"
    },
    "papermill": {
     "duration": 0.284866,
     "end_time": "2025-04-06T16:40:35.575087",
     "exception": false,
     "start_time": "2025-04-06T16:40:35.290221",
     "status": "completed"
    },
    "tags": []
   },
   "outputs": [],
   "source": [
    "df_test['Guest_Popularity_percentage'] = df_train.groupby(by= ['Podcast_Name'])['Guest_Popularity_percentage'].transform(\n",
    "    lambda x: x.fillna(x.mean())\n",
    ")\n",
    "\n",
    "df_test['Episode_Length_minutes'] = df_train.groupby(by= ['Podcast_Name'])['Episode_Length_minutes'].transform(\n",
    "    lambda x: x.fillna(x.mean())\n",
    ")"
   ]
  },
  {
   "cell_type": "code",
   "execution_count": 13,
   "id": "a807a6fe",
   "metadata": {
    "execution": {
     "iopub.execute_input": "2025-04-06T16:40:35.592408Z",
     "iopub.status.busy": "2025-04-06T16:40:35.592139Z",
     "iopub.status.idle": "2025-04-06T16:40:35.917908Z",
     "shell.execute_reply": "2025-04-06T16:40:35.917056Z"
    },
    "papermill": {
     "duration": 0.335781,
     "end_time": "2025-04-06T16:40:35.919262",
     "exception": false,
     "start_time": "2025-04-06T16:40:35.583481",
     "status": "completed"
    },
    "tags": []
   },
   "outputs": [
    {
     "data": {
      "text/plain": [
       "<Axes: xlabel='Publication_Day'>"
      ]
     },
     "execution_count": 13,
     "metadata": {},
     "output_type": "execute_result"
    },
    {
     "data": {
      "image/png": "[encoded data removed]",
      "text/plain": [
       "<Figure size 640x480 with 1 Axes>"
      ]
     },
     "metadata": {},
     "output_type": "display_data"
    }
   ],
   "source": [
    "df_train[\"Publication_Day\"].value_counts().plot(kind= \"bar\")"
   ]
  },
  {
   "cell_type": "code",
   "execution_count": 14,
   "id": "d9a7dd05",
   "metadata": {
    "execution": {
     "iopub.execute_input": "2025-04-06T16:40:35.937569Z",
     "iopub.status.busy": "2025-04-06T16:40:35.937304Z",
     "iopub.status.idle": "2025-04-06T16:40:36.128941Z",
     "shell.execute_reply": "2025-04-06T16:40:36.128049Z"
    },
    "papermill": {
     "duration": 0.201939,
     "end_time": "2025-04-06T16:40:36.130188",
     "exception": false,
     "start_time": "2025-04-06T16:40:35.928249",
     "status": "completed"
    },
    "tags": []
   },
   "outputs": [
    {
     "data": {
      "text/plain": [
       "<Axes: xlabel='Publication_Time'>"
      ]
     },
     "execution_count": 14,
     "metadata": {},
     "output_type": "execute_result"
    },
    {
     "data": {
      "image/png": "[encoded data removed]",
      "text/plain": [
       "<Figure size 640x480 with 1 Axes>"
      ]
     },
     "metadata": {},
     "output_type": "display_data"
    }
   ],
   "source": [
    "df_train[\"Publication_Time\"].value_counts().plot(kind= \"bar\")"
   ]
  },
  {
   "cell_type": "code",
   "execution_count": 15,
   "id": "f2babdbe",
   "metadata": {
    "execution": {
     "iopub.execute_input": "2025-04-06T16:40:36.149245Z",
     "iopub.status.busy": "2025-04-06T16:40:36.149013Z",
     "iopub.status.idle": "2025-04-06T16:40:36.153591Z",
     "shell.execute_reply": "2025-04-06T16:40:36.152819Z"
    },
    "papermill": {
     "duration": 0.015287,
     "end_time": "2025-04-06T16:40:36.154831",
     "exception": false,
     "start_time": "2025-04-06T16:40:36.139544",
     "status": "completed"
    },
    "tags": []
   },
   "outputs": [
    {
     "data": {
      "text/plain": [
       "Index(['id', 'Podcast_Name', 'Episode_Title', 'Episode_Length_minutes',\n",
       "       'Genre', 'Host_Popularity_percentage', 'Publication_Day',\n",
       "       'Publication_Time', 'Guest_Popularity_percentage', 'Number_of_Ads',\n",
       "       'Episode_Sentiment', 'Listening_Time_minutes'],\n",
       "      dtype='object')"
      ]
     },
     "execution_count": 15,
     "metadata": {},
     "output_type": "execute_result"
    }
   ],
   "source": [
    "df_train.dtypes.index"
   ]
  },
  {
   "cell_type": "code",
   "execution_count": 16,
   "id": "bc19c409",
   "metadata": {
    "execution": {
     "iopub.execute_input": "2025-04-06T16:40:36.174032Z",
     "iopub.status.busy": "2025-04-06T16:40:36.173810Z",
     "iopub.status.idle": "2025-04-06T16:40:38.063666Z",
     "shell.execute_reply": "2025-04-06T16:40:38.062687Z"
    },
    "papermill": {
     "duration": 1.901497,
     "end_time": "2025-04-06T16:40:38.065377",
     "exception": false,
     "start_time": "2025-04-06T16:40:36.163880",
     "status": "completed"
    },
    "tags": []
   },
   "outputs": [],
   "source": [
    "df_train['Episode_Number'] = df_train['Episode_Title'].str.extract(r'(\\d+)').astype(int)\n",
    "df_test['Episode_Number'] = df_test['Episode_Title'].str.extract(r'(\\d+)').astype(int)"
   ]
  },
  {
   "cell_type": "code",
   "execution_count": 17,
   "id": "f1e11190",
   "metadata": {
    "execution": {
     "iopub.execute_input": "2025-04-06T16:40:38.084899Z",
     "iopub.status.busy": "2025-04-06T16:40:38.084636Z",
     "iopub.status.idle": "2025-04-06T16:40:38.134872Z",
     "shell.execute_reply": "2025-04-06T16:40:38.134211Z"
    },
    "papermill": {
     "duration": 0.061196,
     "end_time": "2025-04-06T16:40:38.136141",
     "exception": false,
     "start_time": "2025-04-06T16:40:38.074945",
     "status": "completed"
    },
    "tags": []
   },
   "outputs": [
    {
     "data": {
      "text/plain": [
       "Episode_Title\n",
       "Episode 71    10515\n",
       "Episode 62    10373\n",
       "Episode 31    10292\n",
       "Episode 61     9991\n",
       "Episode 69     9864\n",
       "              ...  \n",
       "Episode 2      5134\n",
       "Episode 25     5117\n",
       "Episode 41     4965\n",
       "Episode 37     4940\n",
       "Episode 95     4838\n",
       "Name: count, Length: 100, dtype: int64"
      ]
     },
     "execution_count": 17,
     "metadata": {},
     "output_type": "execute_result"
    }
   ],
   "source": [
    "df_train[\"Episode_Title\"].value_counts()"
   ]
  },
  {
   "cell_type": "code",
   "execution_count": 18,
   "id": "0ce585ac",
   "metadata": {
    "execution": {
     "iopub.execute_input": "2025-04-06T16:40:38.155411Z",
     "iopub.status.busy": "2025-04-06T16:40:38.155153Z",
     "iopub.status.idle": "2025-04-06T16:40:38.206070Z",
     "shell.execute_reply": "2025-04-06T16:40:38.205272Z"
    },
    "papermill": {
     "duration": 0.062043,
     "end_time": "2025-04-06T16:40:38.207480",
     "exception": false,
     "start_time": "2025-04-06T16:40:38.145437",
     "status": "completed"
    },
    "tags": []
   },
   "outputs": [],
   "source": [
    "df_train.drop(columns= [\"Episode_Title\"],inplace=True)\n",
    "df_test.drop(columns= [\"Episode_Title\"],inplace=True)"
   ]
  },
  {
   "cell_type": "code",
   "execution_count": 19,
   "id": "440dfb6b",
   "metadata": {
    "execution": {
     "iopub.execute_input": "2025-04-06T16:40:38.227709Z",
     "iopub.status.busy": "2025-04-06T16:40:38.227475Z",
     "iopub.status.idle": "2025-04-06T16:40:38.231894Z",
     "shell.execute_reply": "2025-04-06T16:40:38.231216Z"
    },
    "papermill": {
     "duration": 0.015678,
     "end_time": "2025-04-06T16:40:38.233134",
     "exception": false,
     "start_time": "2025-04-06T16:40:38.217456",
     "status": "completed"
    },
    "tags": []
   },
   "outputs": [],
   "source": [
    "df_train.set_index(keys = [\"id\"],inplace = True)\n",
    "df_test.set_index(keys = [\"id\"],inplace = True)"
   ]
  },
  {
   "cell_type": "code",
   "execution_count": 20,
   "id": "77d253f7",
   "metadata": {
    "execution": {
     "iopub.execute_input": "2025-04-06T16:40:38.252273Z",
     "iopub.status.busy": "2025-04-06T16:40:38.252052Z",
     "iopub.status.idle": "2025-04-06T16:40:38.257531Z",
     "shell.execute_reply": "2025-04-06T16:40:38.256763Z"
    },
    "papermill": {
     "duration": 0.016225,
     "end_time": "2025-04-06T16:40:38.258677",
     "exception": false,
     "start_time": "2025-04-06T16:40:38.242452",
     "status": "completed"
    },
    "tags": []
   },
   "outputs": [
    {
     "data": {
      "text/plain": [
       "Podcast_Name                    object\n",
       "Episode_Length_minutes         float64\n",
       "Genre                           object\n",
       "Host_Popularity_percentage     float64\n",
       "Publication_Day                 object\n",
       "Publication_Time                object\n",
       "Guest_Popularity_percentage    float64\n",
       "Number_of_Ads                  float64\n",
       "Episode_Sentiment               object\n",
       "Listening_Time_minutes         float64\n",
       "Episode_Number                   int64\n",
       "dtype: object"
      ]
     },
     "execution_count": 20,
     "metadata": {},
     "output_type": "execute_result"
    }
   ],
   "source": [
    "df_train.dtypes"
   ]
  },
  {
   "cell_type": "code",
   "execution_count": 21,
   "id": "36da5111",
   "metadata": {
    "execution": {
     "iopub.execute_input": "2025-04-06T16:40:38.277923Z",
     "iopub.status.busy": "2025-04-06T16:40:38.277694Z",
     "iopub.status.idle": "2025-04-06T16:40:42.652425Z",
     "shell.execute_reply": "2025-04-06T16:40:42.651555Z"
    },
    "papermill": {
     "duration": 4.385769,
     "end_time": "2025-04-06T16:40:42.654032",
     "exception": false,
     "start_time": "2025-04-06T16:40:38.268263",
     "status": "completed"
    },
    "tags": []
   },
   "outputs": [
    {
     "name": "stderr",
     "output_type": "stream",
     "text": [
      "/usr/local/lib/python3.10/dist-packages/seaborn/_oldcore.py:1119: FutureWarning: use_inf_as_na option is deprecated and will be removed in a future version. Convert inf values to NaN before operating instead.\n",
      "  with pd.option_context('mode.use_inf_as_na', True):\n"
     ]
    },
    {
     "data": {
      "image/png": "[encoded data removed]",
      "text/plain": [
       "<Figure size 800x500 with 1 Axes>"
      ]
     },
     "metadata": {},
     "output_type": "display_data"
    }
   ],
   "source": [
    "import matplotlib.pyplot as plt\n",
    "import seaborn as sns\n",
    "\n",
    "plt.figure(figsize=(8,5))\n",
    "sns.histplot(df_train['Listening_Time_minutes'], bins=40, kde=True, color='blue')\n",
    "plt.title(\"Distribution of Listening Time (minutes)\")\n",
    "plt.xlabel(\"Listening Time (minutes)\")\n",
    "plt.ylabel(\"Frequency\")\n",
    "plt.show()"
   ]
  },
  {
   "cell_type": "code",
   "execution_count": 22,
   "id": "5c638840",
   "metadata": {
    "execution": {
     "iopub.execute_input": "2025-04-06T16:40:42.679059Z",
     "iopub.status.busy": "2025-04-06T16:40:42.678697Z",
     "iopub.status.idle": "2025-04-06T16:40:42.801507Z",
     "shell.execute_reply": "2025-04-06T16:40:42.799274Z"
    },
    "papermill": {
     "duration": 0.137259,
     "end_time": "2025-04-06T16:40:42.804216",
     "exception": false,
     "start_time": "2025-04-06T16:40:42.666957",
     "status": "completed"
    },
    "tags": []
   },
   "outputs": [
    {
     "data": {
      "text/html": [
       "<div>\n",
       "<style scoped>\n",
       "    .dataframe tbody tr th:only-of-type {\n",
       "        vertical-align: middle;\n",
       "    }\n",
       "\n",
       "    .dataframe tbody tr th {\n",
       "        vertical-align: top;\n",
       "    }\n",
       "\n",
       "    .dataframe thead th {\n",
       "        text-align: right;\n",
       "    }\n",
       "</style>\n",
       "<table border=\"1\" class=\"dataframe\">\n",
       "  <thead>\n",
       "    <tr style=\"text-align: right;\">\n",
       "      <th></th>\n",
       "      <th>Episode_Length_minutes</th>\n",
       "      <th>Host_Popularity_percentage</th>\n",
       "      <th>Guest_Popularity_percentage</th>\n",
       "      <th>Number_of_Ads</th>\n",
       "      <th>Listening_Time_minutes</th>\n",
       "      <th>Episode_Number</th>\n",
       "    </tr>\n",
       "  </thead>\n",
       "  <tbody>\n",
       "    <tr>\n",
       "      <th>Episode_Length_minutes</th>\n",
       "      <td>1.000000</td>\n",
       "      <td>0.022232</td>\n",
       "      <td>-0.008358</td>\n",
       "      <td>-0.051819</td>\n",
       "      <td>0.866202</td>\n",
       "      <td>-0.018825</td>\n",
       "    </tr>\n",
       "    <tr>\n",
       "      <th>Host_Popularity_percentage</th>\n",
       "      <td>0.022232</td>\n",
       "      <td>1.000000</td>\n",
       "      <td>0.020069</td>\n",
       "      <td>-0.017896</td>\n",
       "      <td>0.050870</td>\n",
       "      <td>0.018267</td>\n",
       "    </tr>\n",
       "    <tr>\n",
       "      <th>Guest_Popularity_percentage</th>\n",
       "      <td>-0.008358</td>\n",
       "      <td>0.020069</td>\n",
       "      <td>1.000000</td>\n",
       "      <td>0.007020</td>\n",
       "      <td>-0.014403</td>\n",
       "      <td>0.037622</td>\n",
       "    </tr>\n",
       "    <tr>\n",
       "      <th>Number_of_Ads</th>\n",
       "      <td>-0.051819</td>\n",
       "      <td>-0.017896</td>\n",
       "      <td>0.007020</td>\n",
       "      <td>1.000000</td>\n",
       "      <td>-0.118337</td>\n",
       "      <td>0.005297</td>\n",
       "    </tr>\n",
       "    <tr>\n",
       "      <th>Listening_Time_minutes</th>\n",
       "      <td>0.866202</td>\n",
       "      <td>0.050870</td>\n",
       "      <td>-0.014403</td>\n",
       "      <td>-0.118337</td>\n",
       "      <td>1.000000</td>\n",
       "      <td>-0.017321</td>\n",
       "    </tr>\n",
       "    <tr>\n",
       "      <th>Episode_Number</th>\n",
       "      <td>-0.018825</td>\n",
       "      <td>0.018267</td>\n",
       "      <td>0.037622</td>\n",
       "      <td>0.005297</td>\n",
       "      <td>-0.017321</td>\n",
       "      <td>1.000000</td>\n",
       "    </tr>\n",
       "  </tbody>\n",
       "</table>\n",
       "</div>"
      ],
      "text/plain": [
       "                             Episode_Length_minutes  \\\n",
       "Episode_Length_minutes                     1.000000   \n",
       "Host_Popularity_percentage                 0.022232   \n",
       "Guest_Popularity_percentage               -0.008358   \n",
       "Number_of_Ads                             -0.051819   \n",
       "Listening_Time_minutes                     0.866202   \n",
       "Episode_Number                            -0.018825   \n",
       "\n",
       "                             Host_Popularity_percentage  \\\n",
       "Episode_Length_minutes                         0.022232   \n",
       "Host_Popularity_percentage                     1.000000   \n",
       "Guest_Popularity_percentage                    0.020069   \n",
       "Number_of_Ads                                 -0.017896   \n",
       "Listening_Time_minutes                         0.050870   \n",
       "Episode_Number                                 0.018267   \n",
       "\n",
       "                             Guest_Popularity_percentage  Number_of_Ads  \\\n",
       "Episode_Length_minutes                         -0.008358      -0.051819   \n",
       "Host_Popularity_percentage                      0.020069      -0.017896   \n",
       "Guest_Popularity_percentage                     1.000000       0.007020   \n",
       "Number_of_Ads                                   0.007020       1.000000   \n",
       "Listening_Time_minutes                         -0.014403      -0.118337   \n",
       "Episode_Number                                  0.037622       0.005297   \n",
       "\n",
       "                             Listening_Time_minutes  Episode_Number  \n",
       "Episode_Length_minutes                     0.866202       -0.018825  \n",
       "Host_Popularity_percentage                 0.050870        0.018267  \n",
       "Guest_Popularity_percentage               -0.014403        0.037622  \n",
       "Number_of_Ads                             -0.118337        0.005297  \n",
       "Listening_Time_minutes                     1.000000       -0.017321  \n",
       "Episode_Number                            -0.017321        1.000000  "
      ]
     },
     "execution_count": 22,
     "metadata": {},
     "output_type": "execute_result"
    }
   ],
   "source": [
    "df_train.corr(numeric_only=True)"
   ]
  },
  {
   "cell_type": "code",
   "execution_count": 23,
   "id": "bf3a2666",
   "metadata": {
    "execution": {
     "iopub.execute_input": "2025-04-06T16:40:42.830228Z",
     "iopub.status.busy": "2025-04-06T16:40:42.829985Z",
     "iopub.status.idle": "2025-04-06T16:40:43.226433Z",
     "shell.execute_reply": "2025-04-06T16:40:43.225566Z"
    },
    "papermill": {
     "duration": 0.408858,
     "end_time": "2025-04-06T16:40:43.227834",
     "exception": false,
     "start_time": "2025-04-06T16:40:42.818976",
     "status": "completed"
    },
    "tags": []
   },
   "outputs": [
    {
     "data": {
      "image/png": "[encoded data removed]",
      "text/plain": [
       "<Figure size 1000x600 with 2 Axes>"
      ]
     },
     "metadata": {},
     "output_type": "display_data"
    }
   ],
   "source": [
    "plt.figure(figsize=(10, 6))\n",
    "sns.heatmap(df_train.corr(numeric_only=True), annot=True, cmap=\"coolwarm\", fmt=\".2f\")\n",
    "plt.title(\"Feature Correlation Heatmap\")\n",
    "plt.show()"
   ]
  },
  {
   "cell_type": "code",
   "execution_count": null,
   "id": "4cf85ee9",
   "metadata": {
    "papermill": {
     "duration": 0.011371,
     "end_time": "2025-04-06T16:40:43.251586",
     "exception": false,
     "start_time": "2025-04-06T16:40:43.240215",
     "status": "completed"
    },
    "tags": []
   },
   "outputs": [],
   "source": []
  },
  {
   "cell_type": "markdown",
   "id": "f2c14fac",
   "metadata": {
    "papermill": {
     "duration": 0.011339,
     "end_time": "2025-04-06T16:40:43.274421",
     "exception": false,
     "start_time": "2025-04-06T16:40:43.263082",
     "status": "completed"
    },
    "tags": []
   },
   "source": [
    "# Cateforical Data One Hot Encoding"
   ]
  },
  {
   "cell_type": "code",
   "execution_count": 24,
   "id": "fde24178",
   "metadata": {
    "execution": {
     "iopub.execute_input": "2025-04-06T16:40:43.298175Z",
     "iopub.status.busy": "2025-04-06T16:40:43.297911Z",
     "iopub.status.idle": "2025-04-06T16:40:43.301951Z",
     "shell.execute_reply": "2025-04-06T16:40:43.301126Z"
    },
    "papermill": {
     "duration": 0.017192,
     "end_time": "2025-04-06T16:40:43.303227",
     "exception": false,
     "start_time": "2025-04-06T16:40:43.286035",
     "status": "completed"
    },
    "tags": []
   },
   "outputs": [],
   "source": [
    "categorical_cols = list(df_train.dtypes[df_train.dtypes ==\"object\"].index)"
   ]
  },
  {
   "cell_type": "code",
   "execution_count": 25,
   "id": "3e518245",
   "metadata": {
    "execution": {
     "iopub.execute_input": "2025-04-06T16:40:43.326738Z",
     "iopub.status.busy": "2025-04-06T16:40:43.326515Z",
     "iopub.status.idle": "2025-04-06T16:40:43.330699Z",
     "shell.execute_reply": "2025-04-06T16:40:43.330078Z"
    },
    "papermill": {
     "duration": 0.017155,
     "end_time": "2025-04-06T16:40:43.331899",
     "exception": false,
     "start_time": "2025-04-06T16:40:43.314744",
     "status": "completed"
    },
    "tags": []
   },
   "outputs": [
    {
     "data": {
      "text/plain": [
       "['Podcast_Name',\n",
       " 'Genre',\n",
       " 'Publication_Day',\n",
       " 'Publication_Time',\n",
       " 'Episode_Sentiment']"
      ]
     },
     "execution_count": 25,
     "metadata": {},
     "output_type": "execute_result"
    }
   ],
   "source": [
    "categorical_cols"
   ]
  },
  {
   "cell_type": "code",
   "execution_count": 26,
   "id": "7b7a003d",
   "metadata": {
    "execution": {
     "iopub.execute_input": "2025-04-06T16:40:43.355557Z",
     "iopub.status.busy": "2025-04-06T16:40:43.355314Z",
     "iopub.status.idle": "2025-04-06T16:40:43.828239Z",
     "shell.execute_reply": "2025-04-06T16:40:43.827571Z"
    },
    "papermill": {
     "duration": 0.486532,
     "end_time": "2025-04-06T16:40:43.829907",
     "exception": false,
     "start_time": "2025-04-06T16:40:43.343375",
     "status": "completed"
    },
    "tags": []
   },
   "outputs": [],
   "source": [
    "df_encoded = pd.get_dummies(df_train, columns=categorical_cols,drop_first= True)\n",
    "df_encoded_test = pd.get_dummies(df_test, columns=categorical_cols,drop_first= True)"
   ]
  },
  {
   "cell_type": "code",
   "execution_count": 27,
   "id": "db28bb7c",
   "metadata": {
    "execution": {
     "iopub.execute_input": "2025-04-06T16:40:43.854338Z",
     "iopub.status.busy": "2025-04-06T16:40:43.854106Z",
     "iopub.status.idle": "2025-04-06T16:40:43.874074Z",
     "shell.execute_reply": "2025-04-06T16:40:43.873292Z"
    },
    "papermill": {
     "duration": 0.033297,
     "end_time": "2025-04-06T16:40:43.875418",
     "exception": false,
     "start_time": "2025-04-06T16:40:43.842121",
     "status": "completed"
    },
    "tags": []
   },
   "outputs": [
    {
     "data": {
      "text/html": [
       "<div>\n",
       "<style scoped>\n",
       "    .dataframe tbody tr th:only-of-type {\n",
       "        vertical-align: middle;\n",
       "    }\n",
       "\n",
       "    .dataframe tbody tr th {\n",
       "        vertical-align: top;\n",
       "    }\n",
       "\n",
       "    .dataframe thead th {\n",
       "        text-align: right;\n",
       "    }\n",
       "</style>\n",
       "<table border=\"1\" class=\"dataframe\">\n",
       "  <thead>\n",
       "    <tr style=\"text-align: right;\">\n",
       "      <th></th>\n",
       "      <th>Episode_Length_minutes</th>\n",
       "      <th>Host_Popularity_percentage</th>\n",
       "      <th>Guest_Popularity_percentage</th>\n",
       "      <th>Number_of_Ads</th>\n",
       "      <th>Listening_Time_minutes</th>\n",
       "      <th>Episode_Number</th>\n",
       "      <th>Podcast_Name_Brain Boost</th>\n",
       "      <th>Podcast_Name_Business Briefs</th>\n",
       "      <th>Podcast_Name_Business Insights</th>\n",
       "      <th>Podcast_Name_Comedy Corner</th>\n",
       "      <th>...</th>\n",
       "      <th>Publication_Day_Saturday</th>\n",
       "      <th>Publication_Day_Sunday</th>\n",
       "      <th>Publication_Day_Thursday</th>\n",
       "      <th>Publication_Day_Tuesday</th>\n",
       "      <th>Publication_Day_Wednesday</th>\n",
       "      <th>Publication_Time_Evening</th>\n",
       "      <th>Publication_Time_Morning</th>\n",
       "      <th>Publication_Time_Night</th>\n",
       "      <th>Episode_Sentiment_Neutral</th>\n",
       "      <th>Episode_Sentiment_Positive</th>\n",
       "    </tr>\n",
       "    <tr>\n",
       "      <th>id</th>\n",
       "      <th></th>\n",
       "      <th></th>\n",
       "      <th></th>\n",
       "      <th></th>\n",
       "      <th></th>\n",
       "      <th></th>\n",
       "      <th></th>\n",
       "      <th></th>\n",
       "      <th></th>\n",
       "      <th></th>\n",
       "      <th></th>\n",
       "      <th></th>\n",
       "      <th></th>\n",
       "      <th></th>\n",
       "      <th></th>\n",
       "      <th></th>\n",
       "      <th></th>\n",
       "      <th></th>\n",
       "      <th></th>\n",
       "      <th></th>\n",
       "      <th></th>\n",
       "    </tr>\n",
       "  </thead>\n",
       "  <tbody>\n",
       "    <tr>\n",
       "      <th>0</th>\n",
       "      <td>64.388461</td>\n",
       "      <td>74.81</td>\n",
       "      <td>52.241037</td>\n",
       "      <td>0.0</td>\n",
       "      <td>31.41998</td>\n",
       "      <td>98</td>\n",
       "      <td>False</td>\n",
       "      <td>False</td>\n",
       "      <td>False</td>\n",
       "      <td>False</td>\n",
       "      <td>...</td>\n",
       "      <td>False</td>\n",
       "      <td>False</td>\n",
       "      <td>True</td>\n",
       "      <td>False</td>\n",
       "      <td>False</td>\n",
       "      <td>False</td>\n",
       "      <td>False</td>\n",
       "      <td>True</td>\n",
       "      <td>False</td>\n",
       "      <td>True</td>\n",
       "    </tr>\n",
       "    <tr>\n",
       "      <th>1</th>\n",
       "      <td>119.800000</td>\n",
       "      <td>66.95</td>\n",
       "      <td>75.950000</td>\n",
       "      <td>2.0</td>\n",
       "      <td>88.01241</td>\n",
       "      <td>26</td>\n",
       "      <td>False</td>\n",
       "      <td>False</td>\n",
       "      <td>False</td>\n",
       "      <td>False</td>\n",
       "      <td>...</td>\n",
       "      <td>True</td>\n",
       "      <td>False</td>\n",
       "      <td>False</td>\n",
       "      <td>False</td>\n",
       "      <td>False</td>\n",
       "      <td>False</td>\n",
       "      <td>False</td>\n",
       "      <td>False</td>\n",
       "      <td>False</td>\n",
       "      <td>False</td>\n",
       "    </tr>\n",
       "    <tr>\n",
       "      <th>2</th>\n",
       "      <td>73.900000</td>\n",
       "      <td>69.97</td>\n",
       "      <td>8.970000</td>\n",
       "      <td>0.0</td>\n",
       "      <td>44.92531</td>\n",
       "      <td>16</td>\n",
       "      <td>False</td>\n",
       "      <td>False</td>\n",
       "      <td>False</td>\n",
       "      <td>False</td>\n",
       "      <td>...</td>\n",
       "      <td>False</td>\n",
       "      <td>False</td>\n",
       "      <td>False</td>\n",
       "      <td>True</td>\n",
       "      <td>False</td>\n",
       "      <td>True</td>\n",
       "      <td>False</td>\n",
       "      <td>False</td>\n",
       "      <td>False</td>\n",
       "      <td>False</td>\n",
       "    </tr>\n",
       "    <tr>\n",
       "      <th>3</th>\n",
       "      <td>67.170000</td>\n",
       "      <td>57.22</td>\n",
       "      <td>78.700000</td>\n",
       "      <td>2.0</td>\n",
       "      <td>46.27824</td>\n",
       "      <td>45</td>\n",
       "      <td>False</td>\n",
       "      <td>False</td>\n",
       "      <td>False</td>\n",
       "      <td>False</td>\n",
       "      <td>...</td>\n",
       "      <td>False</td>\n",
       "      <td>False</td>\n",
       "      <td>False</td>\n",
       "      <td>False</td>\n",
       "      <td>False</td>\n",
       "      <td>False</td>\n",
       "      <td>True</td>\n",
       "      <td>False</td>\n",
       "      <td>False</td>\n",
       "      <td>True</td>\n",
       "    </tr>\n",
       "    <tr>\n",
       "      <th>4</th>\n",
       "      <td>110.510000</td>\n",
       "      <td>80.07</td>\n",
       "      <td>58.680000</td>\n",
       "      <td>3.0</td>\n",
       "      <td>75.61031</td>\n",
       "      <td>86</td>\n",
       "      <td>False</td>\n",
       "      <td>False</td>\n",
       "      <td>False</td>\n",
       "      <td>False</td>\n",
       "      <td>...</td>\n",
       "      <td>False</td>\n",
       "      <td>False</td>\n",
       "      <td>False</td>\n",
       "      <td>False</td>\n",
       "      <td>False</td>\n",
       "      <td>False</td>\n",
       "      <td>False</td>\n",
       "      <td>False</td>\n",
       "      <td>True</td>\n",
       "      <td>False</td>\n",
       "    </tr>\n",
       "  </tbody>\n",
       "</table>\n",
       "<p>5 rows × 73 columns</p>\n",
       "</div>"
      ],
      "text/plain": [
       "    Episode_Length_minutes  Host_Popularity_percentage  \\\n",
       "id                                                       \n",
       "0                64.388461                       74.81   \n",
       "1               119.800000                       66.95   \n",
       "2                73.900000                       69.97   \n",
       "3                67.170000                       57.22   \n",
       "4               110.510000                       80.07   \n",
       "\n",
       "    Guest_Popularity_percentage  Number_of_Ads  Listening_Time_minutes  \\\n",
       "id                                                                       \n",
       "0                     52.241037            0.0                31.41998   \n",
       "1                     75.950000            2.0                88.01241   \n",
       "2                      8.970000            0.0                44.92531   \n",
       "3                     78.700000            2.0                46.27824   \n",
       "4                     58.680000            3.0                75.61031   \n",
       "\n",
       "    Episode_Number  Podcast_Name_Brain Boost  Podcast_Name_Business Briefs  \\\n",
       "id                                                                           \n",
       "0               98                     False                         False   \n",
       "1               26                     False                         False   \n",
       "2               16                     False                         False   \n",
       "3               45                     False                         False   \n",
       "4               86                     False                         False   \n",
       "\n",
       "    Podcast_Name_Business Insights  Podcast_Name_Comedy Corner  ...  \\\n",
       "id                                                              ...   \n",
       "0                            False                       False  ...   \n",
       "1                            False                       False  ...   \n",
       "2                            False                       False  ...   \n",
       "3                            False                       False  ...   \n",
       "4                            False                       False  ...   \n",
       "\n",
       "    Publication_Day_Saturday  Publication_Day_Sunday  \\\n",
       "id                                                     \n",
       "0                      False                   False   \n",
       "1                       True                   False   \n",
       "2                      False                   False   \n",
       "3                      False                   False   \n",
       "4                      False                   False   \n",
       "\n",
       "    Publication_Day_Thursday  Publication_Day_Tuesday  \\\n",
       "id                                                      \n",
       "0                       True                    False   \n",
       "1                      False                    False   \n",
       "2                      False                     True   \n",
       "3                      False                    False   \n",
       "4                      False                    False   \n",
       "\n",
       "    Publication_Day_Wednesday  Publication_Time_Evening  \\\n",
       "id                                                        \n",
       "0                       False                     False   \n",
       "1                       False                     False   \n",
       "2                       False                      True   \n",
       "3                       False                     False   \n",
       "4                       False                     False   \n",
       "\n",
       "    Publication_Time_Morning  Publication_Time_Night  \\\n",
       "id                                                     \n",
       "0                      False                    True   \n",
       "1                      False                   False   \n",
       "2                      False                   False   \n",
       "3                       True                   False   \n",
       "4                      False                   False   \n",
       "\n",
       "    Episode_Sentiment_Neutral  Episode_Sentiment_Positive  \n",
       "id                                                         \n",
       "0                       False                        True  \n",
       "1                       False                       False  \n",
       "2                       False                       False  \n",
       "3                       False                        True  \n",
       "4                        True                       False  \n",
       "\n",
       "[5 rows x 73 columns]"
      ]
     },
     "execution_count": 27,
     "metadata": {},
     "output_type": "execute_result"
    }
   ],
   "source": [
    "df_encoded.head()"
   ]
  },
  {
   "cell_type": "code",
   "execution_count": 28,
   "id": "a5e68e4b",
   "metadata": {
    "execution": {
     "iopub.execute_input": "2025-04-06T16:40:43.901114Z",
     "iopub.status.busy": "2025-04-06T16:40:43.900890Z",
     "iopub.status.idle": "2025-04-06T16:40:43.951000Z",
     "shell.execute_reply": "2025-04-06T16:40:43.950294Z"
    },
    "papermill": {
     "duration": 0.064601,
     "end_time": "2025-04-06T16:40:43.952534",
     "exception": false,
     "start_time": "2025-04-06T16:40:43.887933",
     "status": "completed"
    },
    "tags": []
   },
   "outputs": [],
   "source": [
    "X = df_encoded.drop(['Listening_Time_minutes'], axis=1)\n",
    "y = df_encoded['Listening_Time_minutes']"
   ]
  },
  {
   "cell_type": "markdown",
   "id": "72be23e2",
   "metadata": {
    "papermill": {
     "duration": 0.011583,
     "end_time": "2025-04-06T16:40:43.976321",
     "exception": false,
     "start_time": "2025-04-06T16:40:43.964738",
     "status": "completed"
    },
    "tags": []
   },
   "source": [
    "# Train test split"
   ]
  },
  {
   "cell_type": "code",
   "execution_count": 29,
   "id": "0d550441",
   "metadata": {
    "execution": {
     "iopub.execute_input": "2025-04-06T16:40:44.000633Z",
     "iopub.status.busy": "2025-04-06T16:40:44.000404Z",
     "iopub.status.idle": "2025-04-06T16:40:44.435954Z",
     "shell.execute_reply": "2025-04-06T16:40:44.435210Z"
    },
    "papermill": {
     "duration": 0.449479,
     "end_time": "2025-04-06T16:40:44.437472",
     "exception": false,
     "start_time": "2025-04-06T16:40:43.987993",
     "status": "completed"
    },
    "tags": []
   },
   "outputs": [],
   "source": [
    "from sklearn.model_selection import train_test_split\n",
    "\n",
    "X_train, X_test, y_train, y_test = train_test_split(X, y, test_size=0.2, random_state=42)"
   ]
  },
  {
   "cell_type": "code",
   "execution_count": 30,
   "id": "7c899f2c",
   "metadata": {
    "execution": {
     "iopub.execute_input": "2025-04-06T16:40:44.463650Z",
     "iopub.status.busy": "2025-04-06T16:40:44.463399Z",
     "iopub.status.idle": "2025-04-06T16:40:46.722711Z",
     "shell.execute_reply": "2025-04-06T16:40:46.721975Z"
    },
    "papermill": {
     "duration": 2.273556,
     "end_time": "2025-04-06T16:40:46.724299",
     "exception": false,
     "start_time": "2025-04-06T16:40:44.450743",
     "status": "completed"
    },
    "tags": []
   },
   "outputs": [],
   "source": [
    "from sklearn.preprocessing import StandardScaler\n",
    "# Optional: Feature Scaling\n",
    "scaler = StandardScaler()\n",
    "X_train_scaled = scaler.fit_transform(X_train)\n",
    "X_test_scaled = scaler.transform(X_test)"
   ]
  },
  {
   "cell_type": "markdown",
   "id": "bd5b8d18",
   "metadata": {
    "papermill": {
     "duration": 0.011702,
     "end_time": "2025-04-06T16:40:46.748648",
     "exception": false,
     "start_time": "2025-04-06T16:40:46.736946",
     "status": "completed"
    },
    "tags": []
   },
   "source": [
    "# Model Trainning"
   ]
  },
  {
   "cell_type": "code",
   "execution_count": 31,
   "id": "2b062fa1",
   "metadata": {
    "execution": {
     "iopub.execute_input": "2025-04-06T16:40:46.774036Z",
     "iopub.status.busy": "2025-04-06T16:40:46.773742Z",
     "iopub.status.idle": "2025-04-06T16:54:49.985672Z",
     "shell.execute_reply": "2025-04-06T16:54:49.984649Z"
    },
    "papermill": {
     "duration": 843.239115,
     "end_time": "2025-04-06T16:54:49.999424",
     "exception": false,
     "start_time": "2025-04-06T16:40:46.760309",
     "status": "completed"
    },
    "tags": []
   },
   "outputs": [
    {
     "name": "stdout",
     "output_type": "stream",
     "text": [
      "RMSE: 12.70350405869086\n",
      "R² Score: 0.7806835822681335\n"
     ]
    }
   ],
   "source": [
    "from sklearn.ensemble import RandomForestRegressor\n",
    "from sklearn.metrics import mean_squared_error, r2_score\n",
    "\n",
    "# Train a model (Random Forest)\n",
    "model = RandomForestRegressor(n_estimators=100, random_state=42)\n",
    "model.fit(X_train, y_train)\n",
    "\n",
    "# Predict and evaluate\n",
    "y_pred = model.predict(X_test)\n",
    "print(\"RMSE:\", mean_squared_error(y_test, y_pred, squared=False))\n",
    "print(\"R² Score:\", r2_score(y_test, y_pred))"
   ]
  },
  {
   "cell_type": "code",
   "execution_count": 32,
   "id": "2af489f4",
   "metadata": {
    "execution": {
     "iopub.execute_input": "2025-04-06T16:54:50.024537Z",
     "iopub.status.busy": "2025-04-06T16:54:50.024257Z",
     "iopub.status.idle": "2025-04-06T16:55:04.977752Z",
     "shell.execute_reply": "2025-04-06T16:55:04.976699Z"
    },
    "papermill": {
     "duration": 14.967683,
     "end_time": "2025-04-06T16:55:04.979258",
     "exception": false,
     "start_time": "2025-04-06T16:54:50.011575",
     "status": "completed"
    },
    "tags": []
   },
   "outputs": [
    {
     "name": "stdout",
     "output_type": "stream",
     "text": [
      "Found existing installation: xgboost 2.0.3\r\n",
      "Uninstalling xgboost-2.0.3:\r\n",
      "  Successfully uninstalled xgboost-2.0.3\r\n",
      "Collecting xgboost==1.7.6\r\n",
      "  Downloading xgboost-1.7.6-py3-none-manylinux2014_x86_64.whl.metadata (1.9 kB)\r\n",
      "Requirement already satisfied: numpy in /usr/local/lib/python3.10/dist-packages (from xgboost==1.7.6) (1.26.4)\r\n",
      "Requirement already satisfied: scipy in /usr/local/lib/python3.10/dist-packages (from xgboost==1.7.6) (1.13.1)\r\n",
      "Requirement already satisfied: mkl_fft in /usr/local/lib/python3.10/dist-packages (from numpy->xgboost==1.7.6) (1.3.8)\r\n",
      "Requirement already satisfied: mkl_random in /usr/local/lib/python3.10/dist-packages (from numpy->xgboost==1.7.6) (1.2.4)\r\n",
      "Requirement already satisfied: mkl_umath in /usr/local/lib/python3.10/dist-packages (from numpy->xgboost==1.7.6) (0.1.1)\r\n",
      "Requirement already satisfied: mkl in /usr/local/lib/python3.10/dist-packages (from numpy->xgboost==1.7.6) (2025.0.1)\r\n",
      "Requirement already satisfied: tbb4py in /usr/local/lib/python3.10/dist-packages (from numpy->xgboost==1.7.6) (2022.0.0)\r\n",
      "Requirement already satisfied: mkl-service in /usr/local/lib/python3.10/dist-packages (from numpy->xgboost==1.7.6) (2.4.1)\r\n",
      "Requirement already satisfied: intel-openmp>=2024 in /usr/local/lib/python3.10/dist-packages (from mkl->numpy->xgboost==1.7.6) (2024.2.0)\r\n",
      "Requirement already satisfied: tbb==2022.* in /usr/local/lib/python3.10/dist-packages (from mkl->numpy->xgboost==1.7.6) (2022.0.0)\r\n",
      "Requirement already satisfied: tcmlib==1.* in /usr/local/lib/python3.10/dist-packages (from tbb==2022.*->mkl->numpy->xgboost==1.7.6) (1.2.0)\r\n",
      "Requirement already satisfied: intel-cmplr-lib-rt in /usr/local/lib/python3.10/dist-packages (from mkl_umath->numpy->xgboost==1.7.6) (2024.2.0)\r\n",
      "Requirement already satisfied: intel-cmplr-lib-ur==2024.2.0 in /usr/local/lib/python3.10/dist-packages (from intel-openmp>=2024->mkl->numpy->xgboost==1.7.6) (2024.2.0)\r\n",
      "Downloading xgboost-1.7.6-py3-none-manylinux2014_x86_64.whl (200.3 MB)\r\n",
      "\u001b[2K   \u001b[90m━━━━━━━━━━━━━━━━━━━━━━━━━━━━━━━━━━━━━━━━\u001b[0m \u001b[32m200.3/200.3 MB\u001b[0m \u001b[31m8.6 MB/s\u001b[0m eta \u001b[36m0:00:00\u001b[0m\r\n",
      "\u001b[?25hInstalling collected packages: xgboost\r\n",
      "Successfully installed xgboost-1.7.6\r\n"
     ]
    }
   ],
   "source": [
    "!pip uninstall -y xgboost\n",
    "!pip install xgboost==1.7.6"
   ]
  },
  {
   "cell_type": "code",
   "execution_count": 33,
   "id": "ac70dd67",
   "metadata": {
    "execution": {
     "iopub.execute_input": "2025-04-06T16:55:05.049156Z",
     "iopub.status.busy": "2025-04-06T16:55:05.048851Z",
     "iopub.status.idle": "2025-04-06T18:50:16.643632Z",
     "shell.execute_reply": "2025-04-06T18:50:16.642774Z"
    },
    "papermill": {
     "duration": 6911.625617,
     "end_time": "2025-04-06T18:50:16.658875",
     "exception": false,
     "start_time": "2025-04-06T16:55:05.033258",
     "status": "completed"
    },
    "tags": []
   },
   "outputs": [
    {
     "name": "stderr",
     "output_type": "stream",
     "text": [
      "[I 2025-04-06 16:55:05,315] A new study created in memory with name: no-name-ee460297-f3a3-476c-a038-e4701e9e30e0\n"
     ]
    },
    {
     "data": {
      "application/vnd.jupyter.widget-view+json": {
       "model_id": "0d86c80680704d449724bd1b157fd6bf",
       "version_major": 2,
       "version_minor": 0
      },
      "text/plain": [
       "  0%|          | 0/50 [00:00<?, ?it/s]"
      ]
     },
     "metadata": {},
     "output_type": "display_data"
    },
    {
     "name": "stdout",
     "output_type": "stream",
     "text": [
      "[I 2025-04-06 16:56:34,211] Trial 0 finished with value: 13.756175072600989 and parameters: {'n_estimators': 148, 'max_depth': 19, 'learning_rate': 0.2995889318750792, 'subsample': 0.8181347852760663, 'colsample_bytree': 0.9892352286793658, 'gamma': 1.7216602158793803, 'reg_alpha': 4.79654814706733, 'reg_lambda': 4.434805454484217, 'min_child_weight': 9}. Best is trial 0 with value: 13.756175072600989.\n",
      "[I 2025-04-06 16:57:07,968] Trial 1 finished with value: 13.063796223883065 and parameters: {'n_estimators': 382, 'max_depth': 6, 'learning_rate': 0.08965831794321083, 'subsample': 0.5354486037028989, 'colsample_bytree': 0.9028975971420393, 'gamma': 2.6795543722063435, 'reg_alpha': 2.004706170520975, 'reg_lambda': 1.4501886736334786, 'min_child_weight': 7}. Best is trial 1 with value: 13.063796223883065.\n",
      "[I 2025-04-06 16:57:57,001] Trial 2 finished with value: 13.162119306445222 and parameters: {'n_estimators': 454, 'max_depth': 10, 'learning_rate': 0.14393479992495523, 'subsample': 0.5420701281333795, 'colsample_bytree': 0.6360058965522931, 'gamma': 1.3212351271823641, 'reg_alpha': 2.398357397074439, 'reg_lambda': 4.481541127860099, 'min_child_weight': 5}. Best is trial 1 with value: 13.063796223883065.\n",
      "[I 2025-04-06 16:59:14,905] Trial 3 finished with value: 13.381231060365698 and parameters: {'n_estimators': 129, 'max_depth': 17, 'learning_rate': 0.17669321882981648, 'subsample': 0.7734089040110275, 'colsample_bytree': 0.8402930426051378, 'gamma': 4.228940569808592, 'reg_alpha': 2.647657109900834, 'reg_lambda': 0.37567789448582634, 'min_child_weight': 4}. Best is trial 1 with value: 13.063796223883065.\n",
      "[I 2025-04-06 16:59:48,161] Trial 4 finished with value: 13.175054341793933 and parameters: {'n_estimators': 397, 'max_depth': 4, 'learning_rate': 0.020833504705623417, 'subsample': 0.8204803945175311, 'colsample_bytree': 0.9086873256024499, 'gamma': 4.775009111617579, 'reg_alpha': 0.7641321521160022, 'reg_lambda': 2.7274802823999824, 'min_child_weight': 10}. Best is trial 1 with value: 13.063796223883065.\n",
      "[I 2025-04-06 17:00:18,518] Trial 5 finished with value: 13.16656038201526 and parameters: {'n_estimators': 341, 'max_depth': 3, 'learning_rate': 0.10331411438108128, 'subsample': 0.605935095683608, 'colsample_bytree': 0.5785860286947788, 'gamma': 2.2528058583038013, 'reg_alpha': 4.422230264113542, 'reg_lambda': 0.9707957573482034, 'min_child_weight': 1}. Best is trial 1 with value: 13.063796223883065.\n",
      "[I 2025-04-06 17:02:17,317] Trial 6 finished with value: 13.355075412052273 and parameters: {'n_estimators': 273, 'max_depth': 19, 'learning_rate': 0.2310277128633717, 'subsample': 0.9296706437113944, 'colsample_bytree': 0.8100404294129255, 'gamma': 3.164919157041717, 'reg_alpha': 2.1006265871694203, 'reg_lambda': 2.0448788622170615, 'min_child_weight': 2}. Best is trial 1 with value: 13.063796223883065.\n",
      "[I 2025-04-06 17:02:50,351] Trial 7 finished with value: 13.159216299922898 and parameters: {'n_estimators': 143, 'max_depth': 10, 'learning_rate': 0.2892331336647052, 'subsample': 0.9177911655417017, 'colsample_bytree': 0.8642291043917182, 'gamma': 2.591045851713008, 'reg_alpha': 1.7518174815012548, 'reg_lambda': 3.057241171910478, 'min_child_weight': 9}. Best is trial 1 with value: 13.063796223883065.\n",
      "[I 2025-04-06 17:03:25,434] Trial 8 finished with value: 13.058524927397125 and parameters: {'n_estimators': 433, 'max_depth': 6, 'learning_rate': 0.09388049287098242, 'subsample': 0.6601397892303387, 'colsample_bytree': 0.7513174723135498, 'gamma': 2.806373425824274, 'reg_alpha': 3.5752660781892316, 'reg_lambda': 4.065054790901754, 'min_child_weight': 6}. Best is trial 8 with value: 13.058524927397125.\n",
      "[I 2025-04-06 17:05:46,162] Trial 9 finished with value: 13.743151591107917 and parameters: {'n_estimators': 464, 'max_depth': 16, 'learning_rate': 0.2068905722470737, 'subsample': 0.719910727936102, 'colsample_bytree': 0.9741869075336518, 'gamma': 2.873547959336587, 'reg_alpha': 3.692422796848955, 'reg_lambda': 3.2209971602283884, 'min_child_weight': 9}. Best is trial 8 with value: 13.058524927397125.\n",
      "[I 2025-04-06 17:06:20,360] Trial 10 finished with value: 13.158713878777299 and parameters: {'n_estimators': 271, 'max_depth': 7, 'learning_rate': 0.01785588521170084, 'subsample': 0.6666883549020742, 'colsample_bytree': 0.7073169521106295, 'gamma': 0.377824211747237, 'reg_alpha': 3.3579151520765795, 'reg_lambda': 4.982082612412139, 'min_child_weight': 7}. Best is trial 8 with value: 13.058524927397125.\n",
      "[I 2025-04-06 17:06:54,444] Trial 11 finished with value: 13.053433659919628 and parameters: {'n_estimators': 376, 'max_depth': 7, 'learning_rate': 0.0825852381839441, 'subsample': 0.500448384020203, 'colsample_bytree': 0.7356878144342011, 'gamma': 3.635908554404354, 'reg_alpha': 0.8050939105292199, 'reg_lambda': 1.6136883833890714, 'min_child_weight': 7}. Best is trial 11 with value: 13.053433659919628.\n",
      "[I 2025-04-06 17:07:31,216] Trial 12 finished with value: 13.03922195239013 and parameters: {'n_estimators': 492, 'max_depth': 7, 'learning_rate': 0.07657489370625098, 'subsample': 0.624217036097397, 'colsample_bytree': 0.6924763859734069, 'gamma': 3.6919229657831103, 'reg_alpha': 0.2531061224375255, 'reg_lambda': 3.781545816696705, 'min_child_weight': 7}. Best is trial 12 with value: 13.03922195239013.\n",
      "[I 2025-04-06 17:08:24,763] Trial 13 finished with value: 12.991372167264794 and parameters: {'n_estimators': 335, 'max_depth': 12, 'learning_rate': 0.06694223300229522, 'subsample': 0.5116087397219584, 'colsample_bytree': 0.6962324396666721, 'gamma': 3.767177476943593, 'reg_alpha': 0.1169525640660819, 'reg_lambda': 3.6497286308245585, 'min_child_weight': 7}. Best is trial 13 with value: 12.991372167264794.\n",
      "[I 2025-04-06 17:09:50,961] Trial 14 finished with value: 12.937000760720442 and parameters: {'n_estimators': 495, 'max_depth': 13, 'learning_rate': 0.051812260622377176, 'subsample': 0.6003136721770963, 'colsample_bytree': 0.6698076020250197, 'gamma': 3.89280611613916, 'reg_alpha': 0.06424254747141389, 'reg_lambda': 3.5781327939820384, 'min_child_weight': 4}. Best is trial 14 with value: 12.937000760720442.\n",
      "[I 2025-04-06 17:10:45,342] Trial 15 finished with value: 12.9725501575503 and parameters: {'n_estimators': 215, 'max_depth': 13, 'learning_rate': 0.04753513242194092, 'subsample': 0.5766227310843023, 'colsample_bytree': 0.5249822843190975, 'gamma': 4.904832183608183, 'reg_alpha': 0.06032756174863341, 'reg_lambda': 3.5958116534601587, 'min_child_weight': 3}. Best is trial 14 with value: 12.937000760720442.\n",
      "[I 2025-04-06 17:11:48,865] Trial 16 finished with value: 12.965619478740043 and parameters: {'n_estimators': 213, 'max_depth': 14, 'learning_rate': 0.04406404631192241, 'subsample': 0.5883734778298966, 'colsample_bytree': 0.5073765559260391, 'gamma': 4.758915164294231, 'reg_alpha': 1.220530144994984, 'reg_lambda': 2.4166710241454217, 'min_child_weight': 3}. Best is trial 14 with value: 12.937000760720442.\n",
      "[I 2025-04-06 17:12:47,648] Trial 17 finished with value: 13.108816807099197 and parameters: {'n_estimators': 207, 'max_depth': 14, 'learning_rate': 0.1346810611536025, 'subsample': 0.7131944997212055, 'colsample_bytree': 0.5031232541775268, 'gamma': 4.379355933665467, 'reg_alpha': 1.391731514683229, 'reg_lambda': 2.3167001838622663, 'min_child_weight': 3}. Best is trial 14 with value: 12.937000760720442.\n",
      "[I 2025-04-06 17:14:05,818] Trial 18 finished with value: 12.929161938871909 and parameters: {'n_estimators': 206, 'max_depth': 15, 'learning_rate': 0.03767981160797869, 'subsample': 0.6554589785659213, 'colsample_bytree': 0.6188824435793295, 'gamma': 4.300852746303461, 'reg_alpha': 1.0117364785052185, 'reg_lambda': 2.394572152186144, 'min_child_weight': 4}. Best is trial 18 with value: 12.929161938871909.\n",
      "[I 2025-04-06 17:15:17,105] Trial 19 finished with value: 13.093051408993455 and parameters: {'n_estimators': 183, 'max_depth': 16, 'learning_rate': 0.11733339888470025, 'subsample': 0.66443878774521, 'colsample_bytree': 0.622794662311303, 'gamma': 4.154385515074684, 'reg_alpha': 0.6553420435188722, 'reg_lambda': 3.148392282625203, 'min_child_weight': 5}. Best is trial 18 with value: 12.929161938871909.\n",
      "[I 2025-04-06 17:15:54,850] Trial 20 finished with value: 13.067685525315406 and parameters: {'n_estimators': 255, 'max_depth': 10, 'learning_rate': 0.17846945519714993, 'subsample': 0.9783018403904227, 'colsample_bytree': 0.6295264794363615, 'gamma': 3.3484204791316254, 'reg_alpha': 1.2294023017569546, 'reg_lambda': 1.6518778214677032, 'min_child_weight': 4}. Best is trial 18 with value: 12.929161938871909.\n",
      "[I 2025-04-06 17:17:02,756] Trial 21 finished with value: 12.947127907098208 and parameters: {'n_estimators': 230, 'max_depth': 14, 'learning_rate': 0.0475235464284525, 'subsample': 0.5878115668660078, 'colsample_bytree': 0.5595421956310077, 'gamma': 4.551623183192285, 'reg_alpha': 1.2826485998673827, 'reg_lambda': 2.5146729735726105, 'min_child_weight': 3}. Best is trial 18 with value: 12.929161938871909.\n",
      "[I 2025-04-06 17:18:52,522] Trial 22 finished with value: 12.900132123821237 and parameters: {'n_estimators': 299, 'max_depth': 15, 'learning_rate': 0.04554713352708816, 'subsample': 0.6501307665357166, 'colsample_bytree': 0.5669802887602609, 'gamma': 4.125559312635433, 'reg_alpha': 0.5814496296905367, 'reg_lambda': 2.7649739985945994, 'min_child_weight': 1}. Best is trial 22 with value: 12.900132123821237.\n",
      "[I 2025-04-06 17:21:54,824] Trial 23 finished with value: 13.235118276393516 and parameters: {'n_estimators': 312, 'max_depth': 17, 'learning_rate': 0.012893132452145434, 'subsample': 0.7017986433968993, 'colsample_bytree': 0.5859846315502373, 'gamma': 3.9999868972458272, 'reg_alpha': 0.5129950471001602, 'reg_lambda': 2.8698190598432354, 'min_child_weight': 1}. Best is trial 22 with value: 12.900132123821237.\n",
      "[I 2025-04-06 17:22:52,638] Trial 24 finished with value: 12.953271368428274 and parameters: {'n_estimators': 307, 'max_depth': 12, 'learning_rate': 0.05601481584638997, 'subsample': 0.6376361544599473, 'colsample_bytree': 0.6571014052970579, 'gamma': 3.5237332173978175, 'reg_alpha': 0.8459262395457863, 'reg_lambda': 2.0306194844663867, 'min_child_weight': 2}. Best is trial 22 with value: 12.900132123821237.\n",
      "[I 2025-04-06 17:24:00,815] Trial 25 finished with value: 12.99265361136626 and parameters: {'n_estimators': 179, 'max_depth': 15, 'learning_rate': 0.03446290993337851, 'subsample': 0.7628534473915616, 'colsample_bytree': 0.5540634275875483, 'gamma': 4.0298196861356566, 'reg_alpha': 0.4137905086780116, 'reg_lambda': 3.375877567473367, 'min_child_weight': 4}. Best is trial 22 with value: 12.900132123821237.\n",
      "[I 2025-04-06 17:25:41,134] Trial 26 finished with value: 13.08283861081375 and parameters: {'n_estimators': 100, 'max_depth': 20, 'learning_rate': 0.1091721501523535, 'subsample': 0.5664016965473099, 'colsample_bytree': 0.7858325468780649, 'gamma': 3.1852601534990623, 'reg_alpha': 1.5976928449312997, 'reg_lambda': 4.206454427085886, 'min_child_weight': 2}. Best is trial 22 with value: 12.900132123821237.\n",
      "[I 2025-04-06 17:26:30,167] Trial 27 finished with value: 12.976865499846383 and parameters: {'n_estimators': 346, 'max_depth': 11, 'learning_rate': 0.06570656115521445, 'subsample': 0.68895988993876, 'colsample_bytree': 0.6017702215343042, 'gamma': 2.2965189774949786, 'reg_alpha': 0.9377326955934049, 'reg_lambda': 1.040908296253607, 'min_child_weight': 6}. Best is trial 22 with value: 12.900132123821237.\n",
      "[I 2025-04-06 17:28:26,842] Trial 28 finished with value: 12.88170287889153 and parameters: {'n_estimators': 254, 'max_depth': 17, 'learning_rate': 0.03341035925275851, 'subsample': 0.6216418141250926, 'colsample_bytree': 0.6641747083854814, 'gamma': 4.479256141231669, 'reg_alpha': 2.7450013971893887, 'reg_lambda': 2.7543842204609894, 'min_child_weight': 5}. Best is trial 28 with value: 12.88170287889153.\n",
      "[I 2025-04-06 17:30:19,848] Trial 29 finished with value: 13.134784170890464 and parameters: {'n_estimators': 244, 'max_depth': 18, 'learning_rate': 0.1202132287651076, 'subsample': 0.7781121729461813, 'colsample_bytree': 0.5366667671936638, 'gamma': 1.783842790888253, 'reg_alpha': 2.9065852150196623, 'reg_lambda': 1.9633268291779382, 'min_child_weight': 5}. Best is trial 28 with value: 12.88170287889153.\n",
      "[I 2025-04-06 17:34:50,156] Trial 30 finished with value: 12.83520128897476 and parameters: {'n_estimators': 285, 'max_depth': 20, 'learning_rate': 0.03170531307514591, 'subsample': 0.6288169235901445, 'colsample_bytree': 0.6053741767721657, 'gamma': 4.9785779447269585, 'reg_alpha': 3.0808587033051404, 'reg_lambda': 2.765442480144559, 'min_child_weight': 1}. Best is trial 30 with value: 12.83520128897476.\n",
      "[I 2025-04-06 17:39:33,575] Trial 31 finished with value: 12.816624907412189 and parameters: {'n_estimators': 289, 'max_depth': 20, 'learning_rate': 0.035316741522906835, 'subsample': 0.7353182286722759, 'colsample_bytree': 0.6072532378317059, 'gamma': 4.517833251608919, 'reg_alpha': 3.078813139423222, 'reg_lambda': 2.642109693966602, 'min_child_weight': 1}. Best is trial 31 with value: 12.816624907412189.\n",
      "[I 2025-04-06 17:44:52,368] Trial 32 finished with value: 12.839985935789771 and parameters: {'n_estimators': 285, 'max_depth': 20, 'learning_rate': 0.021668002408411532, 'subsample': 0.8351010087150149, 'colsample_bytree': 0.6634703699681986, 'gamma': 4.960219333559592, 'reg_alpha': 3.097351701438213, 'reg_lambda': 2.7654027534638477, 'min_child_weight': 1}. Best is trial 31 with value: 12.816624907412189.\n",
      "[I 2025-04-06 17:49:44,979] Trial 33 finished with value: 12.832523552601264 and parameters: {'n_estimators': 268, 'max_depth': 20, 'learning_rate': 0.025926347619020088, 'subsample': 0.8257054326886492, 'colsample_bytree': 0.6568896645207304, 'gamma': 4.98409557817742, 'reg_alpha': 3.100792566744498, 'reg_lambda': 2.8869343136661585, 'min_child_weight': 1}. Best is trial 31 with value: 12.816624907412189.\n",
      "[I 2025-04-06 17:55:31,490] Trial 34 finished with value: 12.909623164091748 and parameters: {'n_estimators': 287, 'max_depth': 20, 'learning_rate': 0.015449552936631496, 'subsample': 0.8293700233341676, 'colsample_bytree': 0.7329193055405718, 'gamma': 4.933667915967983, 'reg_alpha': 3.1490648164702244, 'reg_lambda': 2.1217134308059213, 'min_child_weight': 1}. Best is trial 31 with value: 12.816624907412189.\n",
      "[I 2025-04-06 18:00:07,805] Trial 35 finished with value: 13.111012389338546 and parameters: {'n_estimators': 366, 'max_depth': 19, 'learning_rate': 0.010551912515639953, 'subsample': 0.8561155905743308, 'colsample_bytree': 0.655883867372675, 'gamma': 4.992519424314462, 'reg_alpha': 3.9852910755907924, 'reg_lambda': 3.100493387528096, 'min_child_weight': 2}. Best is trial 31 with value: 12.816624907412189.\n",
      "[I 2025-04-06 18:04:32,070] Trial 36 finished with value: 12.91919570484531 and parameters: {'n_estimators': 333, 'max_depth': 20, 'learning_rate': 0.07218606818324437, 'subsample': 0.8567026397294976, 'colsample_bytree': 0.6070783384586692, 'gamma': 4.676209479690041, 'reg_alpha': 2.2304597174858634, 'reg_lambda': 2.5869907317314684, 'min_child_weight': 1}. Best is trial 31 with value: 12.816624907412189.\n",
      "[I 2025-04-06 18:08:01,173] Trial 37 finished with value: 12.83386958342384 and parameters: {'n_estimators': 281, 'max_depth': 18, 'learning_rate': 0.03120548890283769, 'subsample': 0.7988514837823906, 'colsample_bytree': 0.7670876970309262, 'gamma': 4.557806303717013, 'reg_alpha': 4.998235536520516, 'reg_lambda': 1.2115913788615784, 'min_child_weight': 2}. Best is trial 31 with value: 12.816624907412189.\n",
      "[I 2025-04-06 18:11:19,893] Trial 38 finished with value: 13.130891054416338 and parameters: {'n_estimators': 399, 'max_depth': 18, 'learning_rate': 0.0937067811983825, 'subsample': 0.7933472021480029, 'colsample_bytree': 0.8019881735621417, 'gamma': 4.573913876561356, 'reg_alpha': 4.787926060140414, 'reg_lambda': 0.07942126677179528, 'min_child_weight': 2}. Best is trial 31 with value: 12.816624907412189.\n",
      "[I 2025-04-06 18:16:25,653] Trial 39 finished with value: 12.834714123050231 and parameters: {'n_estimators': 317, 'max_depth': 19, 'learning_rate': 0.028802637627184578, 'subsample': 0.7333436856372981, 'colsample_bytree': 0.8787433778794803, 'gamma': 0.10507206686550097, 'reg_alpha': 4.130872702179748, 'reg_lambda': 1.1092935348870943, 'min_child_weight': 2}. Best is trial 31 with value: 12.816624907412189.\n",
      "[I 2025-04-06 18:18:47,939] Trial 40 finished with value: 13.659770088975685 and parameters: {'n_estimators': 324, 'max_depth': 18, 'learning_rate': 0.27574752601426955, 'subsample': 0.8983410568518798, 'colsample_bytree': 0.9159993903678969, 'gamma': 0.5660071661271666, 'reg_alpha': 4.931037648343463, 'reg_lambda': 0.798597211603779, 'min_child_weight': 2}. Best is trial 31 with value: 12.816624907412189.\n",
      "[I 2025-04-06 18:23:45,369] Trial 41 finished with value: 12.857140374453792 and parameters: {'n_estimators': 268, 'max_depth': 19, 'learning_rate': 0.03295011743140906, 'subsample': 0.7453960287680474, 'colsample_bytree': 0.8740772199666131, 'gamma': 1.3580259963598773, 'reg_alpha': 4.232809869457989, 'reg_lambda': 0.6677214110005893, 'min_child_weight': 1}. Best is trial 31 with value: 12.816624907412189.\n",
      "[I 2025-04-06 18:28:43,472] Trial 42 finished with value: 12.98900650747328 and parameters: {'n_estimators': 353, 'max_depth': 19, 'learning_rate': 0.06084487891467776, 'subsample': 0.7410395354469301, 'colsample_bytree': 0.9654494772758944, 'gamma': 0.8461651415938454, 'reg_alpha': 4.5634993916116375, 'reg_lambda': 1.150807552627649, 'min_child_weight': 2}. Best is trial 31 with value: 12.816624907412189.\n",
      "[I 2025-04-06 18:33:12,980] Trial 43 finished with value: 12.830358222274953 and parameters: {'n_estimators': 290, 'max_depth': 18, 'learning_rate': 0.025211724969443173, 'subsample': 0.8012349675798417, 'colsample_bytree': 0.7651299255549875, 'gamma': 1.9189400234873026, 'reg_alpha': 2.4811420538630884, 'reg_lambda': 1.4352880180512217, 'min_child_weight': 1}. Best is trial 31 with value: 12.816624907412189.\n",
      "[I 2025-04-06 18:37:03,368] Trial 44 finished with value: 12.832116808539569 and parameters: {'n_estimators': 311, 'max_depth': 18, 'learning_rate': 0.02426496665297223, 'subsample': 0.7990924643154775, 'colsample_bytree': 0.7582516187229822, 'gamma': 0.007971659749406168, 'reg_alpha': 3.839292254112426, 'reg_lambda': 1.273955145524729, 'min_child_weight': 3}. Best is trial 31 with value: 12.816624907412189.\n",
      "[I 2025-04-06 18:39:59,395] Trial 45 finished with value: 13.031116917646115 and parameters: {'n_estimators': 297, 'max_depth': 18, 'learning_rate': 0.08520231144972501, 'subsample': 0.7937608268118113, 'colsample_bytree': 0.7655011390500531, 'gamma': 1.8427571211879994, 'reg_alpha': 2.59476905359183, 'reg_lambda': 1.387117813373322, 'min_child_weight': 3}. Best is trial 31 with value: 12.816624907412189.\n",
      "[I 2025-04-06 18:41:52,851] Trial 46 finished with value: 12.884484421466714 and parameters: {'n_estimators': 237, 'max_depth': 16, 'learning_rate': 0.024118275192437373, 'subsample': 0.8765371924109553, 'colsample_bytree': 0.8419412810583752, 'gamma': 1.2799113773262594, 'reg_alpha': 3.726235237774894, 'reg_lambda': 0.4657574073085219, 'min_child_weight': 8}. Best is trial 31 with value: 12.816624907412189.\n",
      "[I 2025-04-06 18:44:32,936] Trial 47 finished with value: 13.25848717998783 and parameters: {'n_estimators': 269, 'max_depth': 17, 'learning_rate': 0.15654538359817374, 'subsample': 0.8125348853648219, 'colsample_bytree': 0.773206425802865, 'gamma': 1.0039621906239726, 'reg_alpha': 3.4661310364004825, 'reg_lambda': 1.7427069664022703, 'min_child_weight': 1}. Best is trial 31 with value: 12.816624907412189.\n",
      "[I 2025-04-06 18:46:58,674] Trial 48 finished with value: 13.60077865876761 and parameters: {'n_estimators': 404, 'max_depth': 17, 'learning_rate': 0.21467129476103192, 'subsample': 0.7997667583926618, 'colsample_bytree': 0.7128547441332769, 'gamma': 2.0075601062484547, 'reg_alpha': 2.441364087974234, 'reg_lambda': 1.3827832063460732, 'min_child_weight': 2}. Best is trial 31 with value: 12.816624907412189.\n",
      "[I 2025-04-06 18:50:16,636] Trial 49 finished with value: 12.895922846414132 and parameters: {'n_estimators': 255, 'max_depth': 19, 'learning_rate': 0.0533362466445498, 'subsample': 0.7709238199767573, 'colsample_bytree': 0.8201343788651132, 'gamma': 0.009782224515908952, 'reg_alpha': 3.8382602882412438, 'reg_lambda': 1.8298251432368358, 'min_child_weight': 3}. Best is trial 31 with value: 12.816624907412189.\n",
      "Best RMSE: 12.816624907412189\n",
      "Best Hyperparameters: {'n_estimators': 289, 'max_depth': 20, 'learning_rate': 0.035316741522906835, 'subsample': 0.7353182286722759, 'colsample_bytree': 0.6072532378317059, 'gamma': 4.517833251608919, 'reg_alpha': 3.078813139423222, 'reg_lambda': 2.642109693966602, 'min_child_weight': 1}\n"
     ]
    }
   ],
   "source": [
    "import optuna\n",
    "import xgboost as xgb\n",
    "from sklearn.metrics import mean_squared_error\n",
    "from sklearn.model_selection import cross_val_score\n",
    "import numpy as np\n",
    "\n",
    "# Optuna objective function\n",
    "def objective(trial):\n",
    "    params = {\n",
    "        'n_estimators': trial.suggest_int('n_estimators', 100, 500),\n",
    "        'max_depth': trial.suggest_int('max_depth', 3, 20),\n",
    "        'learning_rate': trial.suggest_float('learning_rate', 0.01, 0.3),\n",
    "        'subsample': trial.suggest_float('subsample', 0.5, 1.0),\n",
    "        'colsample_bytree': trial.suggest_float('colsample_bytree', 0.5, 1.0),\n",
    "        'gamma': trial.suggest_float('gamma', 0, 5),\n",
    "        'reg_alpha': trial.suggest_float('reg_alpha', 0, 5),\n",
    "        'reg_lambda': trial.suggest_float('reg_lambda', 0, 5),\n",
    "        'min_child_weight': trial.suggest_int('min_child_weight', 1, 10),\n",
    "\n",
    "        # GPU settings\n",
    "        'tree_method': 'gpu_hist',\n",
    "        'predictor': 'gpu_predictor',\n",
    "        'random_state': 42,\n",
    "        'n_jobs': -1\n",
    "    }\n",
    "\n",
    "    model = xgb.XGBRegressor(**params)\n",
    "\n",
    "    # 3-fold CV, using negative RMSE for Optuna (minimization)\n",
    "    score = cross_val_score(model, X_train, y_train, cv=3, scoring='neg_root_mean_squared_error')\n",
    "    return -score.mean()\n",
    "\n",
    "# Create and run the Optuna study\n",
    "study = optuna.create_study(direction='minimize')\n",
    "study.optimize(objective, n_trials=50, show_progress_bar=True)\n",
    "\n",
    "# Best parameters and model\n",
    "print(\"Best RMSE:\", study.best_value)\n",
    "print(\"Best Hyperparameters:\", study.best_params)"
   ]
  },
  {
   "cell_type": "code",
   "execution_count": 34,
   "id": "dd0bd6d8",
   "metadata": {
    "execution": {
     "iopub.execute_input": "2025-04-06T18:50:16.744769Z",
     "iopub.status.busy": "2025-04-06T18:50:16.744467Z",
     "iopub.status.idle": "2025-04-06T18:50:16.749195Z",
     "shell.execute_reply": "2025-04-06T18:50:16.748316Z"
    },
    "papermill": {
     "duration": 0.074716,
     "end_time": "2025-04-06T18:50:16.750569",
     "exception": false,
     "start_time": "2025-04-06T18:50:16.675853",
     "status": "completed"
    },
    "tags": []
   },
   "outputs": [
    {
     "name": "stdout",
     "output_type": "stream",
     "text": [
      "Best Hyperparameters: {'n_estimators': 289, 'max_depth': 20, 'learning_rate': 0.035316741522906835, 'subsample': 0.7353182286722759, 'colsample_bytree': 0.6072532378317059, 'gamma': 4.517833251608919, 'reg_alpha': 3.078813139423222, 'reg_lambda': 2.642109693966602, 'min_child_weight': 1}\n",
      "Best RMSE: 12.816624907412189\n"
     ]
    }
   ],
   "source": [
    "print(\"Best Hyperparameters:\", study.best_params)\n",
    "print(\"Best RMSE:\", study.best_value)"
   ]
  },
  {
   "cell_type": "code",
   "execution_count": 35,
   "id": "9736b4b1",
   "metadata": {
    "execution": {
     "iopub.execute_input": "2025-04-06T18:50:16.784882Z",
     "iopub.status.busy": "2025-04-06T18:50:16.784677Z",
     "iopub.status.idle": "2025-04-06T18:52:38.192575Z",
     "shell.execute_reply": "2025-04-06T18:52:38.191871Z"
    },
    "papermill": {
     "duration": 141.426771,
     "end_time": "2025-04-06T18:52:38.194213",
     "exception": false,
     "start_time": "2025-04-06T18:50:16.767442",
     "status": "completed"
    },
    "tags": []
   },
   "outputs": [],
   "source": [
    "best_params = study.best_params\n",
    "\n",
    "model = xgb.XGBRegressor(\n",
    "    **best_params,\n",
    "    tree_method='gpu_hist',        # Use GPU for training\n",
    "    predictor='gpu_predictor',     # Use GPU for prediction\n",
    "    random_state=42,\n",
    "    n_jobs=-1\n",
    ")\n",
    "\n",
    "model.fit(X, y)\n",
    "y_pred = model.predict(X_test)"
   ]
  },
  {
   "cell_type": "code",
   "execution_count": 36,
   "id": "6733b823",
   "metadata": {
    "execution": {
     "iopub.execute_input": "2025-04-06T18:52:38.230774Z",
     "iopub.status.busy": "2025-04-06T18:52:38.230525Z",
     "iopub.status.idle": "2025-04-06T18:52:38.233167Z",
     "shell.execute_reply": "2025-04-06T18:52:38.232584Z"
    },
    "papermill": {
     "duration": 0.021923,
     "end_time": "2025-04-06T18:52:38.234374",
     "exception": false,
     "start_time": "2025-04-06T18:52:38.212451",
     "status": "completed"
    },
    "tags": []
   },
   "outputs": [],
   "source": [
    "# model = RandomForestRegressor(n_estimators=100, random_state=42)\n",
    "# model.fit(X, y)"
   ]
  },
  {
   "cell_type": "code",
   "execution_count": 37,
   "id": "060d48b2",
   "metadata": {
    "execution": {
     "iopub.execute_input": "2025-04-06T18:52:38.269093Z",
     "iopub.status.busy": "2025-04-06T18:52:38.268881Z",
     "iopub.status.idle": "2025-04-06T18:52:39.793001Z",
     "shell.execute_reply": "2025-04-06T18:52:39.792299Z"
    },
    "papermill": {
     "duration": 1.543118,
     "end_time": "2025-04-06T18:52:39.794692",
     "exception": false,
     "start_time": "2025-04-06T18:52:38.251574",
     "status": "completed"
    },
    "tags": []
   },
   "outputs": [],
   "source": [
    " y_pred_test = model.predict(df_encoded_test)"
   ]
  },
  {
   "cell_type": "code",
   "execution_count": 38,
   "id": "634c07b6",
   "metadata": {
    "execution": {
     "iopub.execute_input": "2025-04-06T18:52:39.830273Z",
     "iopub.status.busy": "2025-04-06T18:52:39.830016Z",
     "iopub.status.idle": "2025-04-06T18:52:39.834988Z",
     "shell.execute_reply": "2025-04-06T18:52:39.834422Z"
    },
    "papermill": {
     "duration": 0.023692,
     "end_time": "2025-04-06T18:52:39.836174",
     "exception": false,
     "start_time": "2025-04-06T18:52:39.812482",
     "status": "completed"
    },
    "tags": []
   },
   "outputs": [],
   "source": [
    "submission = pd.DataFrame(y_pred_test,index = df_encoded_test.index,columns=[\"Listening_Time_minutes\"]).reset_index()"
   ]
  },
  {
   "cell_type": "code",
   "execution_count": 39,
   "id": "4b056b23",
   "metadata": {
    "execution": {
     "iopub.execute_input": "2025-04-06T18:52:39.871043Z",
     "iopub.status.busy": "2025-04-06T18:52:39.870805Z",
     "iopub.status.idle": "2025-04-06T18:52:39.878204Z",
     "shell.execute_reply": "2025-04-06T18:52:39.877461Z"
    },
    "papermill": {
     "duration": 0.026221,
     "end_time": "2025-04-06T18:52:39.879444",
     "exception": false,
     "start_time": "2025-04-06T18:52:39.853223",
     "status": "completed"
    },
    "tags": []
   },
   "outputs": [
    {
     "data": {
      "text/html": [
       "<div>\n",
       "<style scoped>\n",
       "    .dataframe tbody tr th:only-of-type {\n",
       "        vertical-align: middle;\n",
       "    }\n",
       "\n",
       "    .dataframe tbody tr th {\n",
       "        vertical-align: top;\n",
       "    }\n",
       "\n",
       "    .dataframe thead th {\n",
       "        text-align: right;\n",
       "    }\n",
       "</style>\n",
       "<table border=\"1\" class=\"dataframe\">\n",
       "  <thead>\n",
       "    <tr style=\"text-align: right;\">\n",
       "      <th></th>\n",
       "      <th>id</th>\n",
       "      <th>Listening_Time_minutes</th>\n",
       "    </tr>\n",
       "  </thead>\n",
       "  <tbody>\n",
       "    <tr>\n",
       "      <th>0</th>\n",
       "      <td>750000</td>\n",
       "      <td>37.126629</td>\n",
       "    </tr>\n",
       "    <tr>\n",
       "      <th>1</th>\n",
       "      <td>750001</td>\n",
       "      <td>88.710060</td>\n",
       "    </tr>\n",
       "    <tr>\n",
       "      <th>2</th>\n",
       "      <td>750002</td>\n",
       "      <td>52.930035</td>\n",
       "    </tr>\n",
       "    <tr>\n",
       "      <th>3</th>\n",
       "      <td>750003</td>\n",
       "      <td>44.122414</td>\n",
       "    </tr>\n",
       "    <tr>\n",
       "      <th>4</th>\n",
       "      <td>750004</td>\n",
       "      <td>72.284676</td>\n",
       "    </tr>\n",
       "  </tbody>\n",
       "</table>\n",
       "</div>"
      ],
      "text/plain": [
       "       id  Listening_Time_minutes\n",
       "0  750000               37.126629\n",
       "1  750001               88.710060\n",
       "2  750002               52.930035\n",
       "3  750003               44.122414\n",
       "4  750004               72.284676"
      ]
     },
     "execution_count": 39,
     "metadata": {},
     "output_type": "execute_result"
    }
   ],
   "source": [
    "submission.head()"
   ]
  },
  {
   "cell_type": "code",
   "execution_count": 40,
   "id": "2ca7cb30",
   "metadata": {
    "execution": {
     "iopub.execute_input": "2025-04-06T18:52:39.914727Z",
     "iopub.status.busy": "2025-04-06T18:52:39.914525Z",
     "iopub.status.idle": "2025-04-06T18:52:40.207054Z",
     "shell.execute_reply": "2025-04-06T18:52:40.206422Z"
    },
    "papermill": {
     "duration": 0.311911,
     "end_time": "2025-04-06T18:52:40.208538",
     "exception": false,
     "start_time": "2025-04-06T18:52:39.896627",
     "status": "completed"
    },
    "tags": []
   },
   "outputs": [],
   "source": [
    "submission.to_csv(\"submission.csv\", index=False)"
   ]
  },
  {
   "cell_type": "code",
   "execution_count": null,
   "id": "ec945407",
   "metadata": {
    "papermill": {
     "duration": 0.016851,
     "end_time": "2025-04-06T18:52:40.243444",
     "exception": false,
     "start_time": "2025-04-06T18:52:40.226593",
     "status": "completed"
    },
    "tags": []
   },
   "outputs": [],
   "source": []
  }
 ],
 "metadata": {
  "kaggle": {
   "accelerator": "nvidiaTeslaT4",
   "dataSources": [
    {
     "databundleVersionId": 11351736,
     "sourceId": 91715,
     "sourceType": "competition"
    }
   ],
   "dockerImageVersionId": 30918,
   "isGpuEnabled": true,
   "isInternetEnabled": true,
   "language": "python",
   "sourceType": "notebook"
  },
  "kernelspec": {
   "display_name": "Python 3",
   "language": "python",
   "name": "python3"
  },
  "language_info": {
   "codemirror_mode": {
    "name": "ipython",
    "version": 3
   },
   "file_extension": ".py",
   "mimetype": "text/x-python",
   "name": "python",
   "nbconvert_exporter": "python",
   "pygments_lexer": "ipython3",
   "version": "3.10.12"
  },
  "papermill": {
   "default_parameters": {},
   "duration": 7933.423028,
   "end_time": "2025-04-06T18:52:41.187979",
   "environment_variables": {},
   "exception": null,
   "input_path": "__notebook__.ipynb",
   "output_path": "__notebook__.ipynb",
   "parameters": {},
   "start_time": "2025-04-06T16:40:27.764951",
   "version": "2.6.0"
  },
  "widgets": {
   "application/vnd.jupyter.widget-state+json": {
    "state": {
     "0d86c80680704d449724bd1b157fd6bf": {
      "model_module": "@jupyter-widgets/controls",
      "model_module_version": "2.0.0",
      "model_name": "HBoxModel",
      "state": {
       "_dom_classes": [],
       "_model_module": "@jupyter-widgets/controls",
       "_model_module_version": "2.0.0",
       "_model_name": "HBoxModel",
       "_view_count": null,
       "_view_module": "@jupyter-widgets/controls",
       "_view_module_version": "2.0.0",
       "_view_name": "HBoxView",
       "box_style": "",
       "children": [
        "IPY_MODEL_bead5c3a5b6e44adb915c5825d425c8d",
        "IPY_MODEL_22749b1192064f579910208dc36798f9",
        "IPY_MODEL_f6d1b5c94edc4a8fbcf0771fcdcdba34"
       ],
       "layout": "IPY_MODEL_0e0dcc6c5ae74270a643157f8b4a9135",
       "tabbable": null,
       "tooltip": null
      }
     },
     "0e0dcc6c5ae74270a643157f8b4a9135": {
      "model_module": "@jupyter-widgets/base",
      "model_module_version": "2.0.0",
      "model_name": "LayoutModel",
      "state": {
       "_model_module": "@jupyter-widgets/base",
       "_model_module_version": "2.0.0",
       "_model_name": "LayoutModel",
       "_view_count": null,
       "_view_module": "@jupyter-widgets/base",
       "_view_module_version": "2.0.0",
       "_view_name": "LayoutView",
       "align_content": null,
       "align_items": null,
       "align_self": null,
       "border_bottom": null,
       "border_left": null,
       "border_right": null,
       "border_top": null,
       "bottom": null,
       "display": null,
       "flex": null,
       "flex_flow": null,
       "grid_area": null,
       "grid_auto_columns": null,
       "grid_auto_flow": null,
       "grid_auto_rows": null,
       "grid_column": null,
       "grid_gap": null,
       "grid_row": null,
       "grid_template_areas": null,
       "grid_template_columns": null,
       "grid_template_rows": null,
       "height": null,
       "justify_content": null,
       "justify_items": null,
       "left": null,
       "margin": null,
       "max_height": null,
       "max_width": null,
       "min_height": null,
       "min_width": null,
       "object_fit": null,
       "object_position": null,
       "order": null,
       "overflow": null,
       "padding": null,
       "right": null,
       "top": null,
       "visibility": null,
       "width": null
      }
     },
     "22749b1192064f579910208dc36798f9": {
      "model_module": "@jupyter-widgets/controls",
      "model_module_version": "2.0.0",
      "model_name": "FloatProgressModel",
      "state": {
       "_dom_classes": [],
       "_model_module": "@jupyter-widgets/controls",
       "_model_module_version": "2.0.0",
       "_model_name": "FloatProgressModel",
       "_view_count": null,
       "_view_module": "@jupyter-widgets/controls",
       "_view_module_version": "2.0.0",
       "_view_name": "ProgressView",
       "bar_style": "success",
       "description": "",
       "description_allow_html": false,
       "layout": "IPY_MODEL_9153df8db1af41138f74b5779f8a69db",
       "max": 50.0,
       "min": 0.0,
       "orientation": "horizontal",
       "style": "IPY_MODEL_aab4238dab4e40f5946d3d8e21117dd0",
       "tabbable": null,
       "tooltip": null,
       "value": 50.0
      }
     },
     "7c7cd64541b94b89aefbffbe5dbb3b95": {
      "model_module": "@jupyter-widgets/controls",
      "model_module_version": "2.0.0",
      "model_name": "HTMLStyleModel",
      "state": {
       "_model_module": "@jupyter-widgets/controls",
       "_model_module_version": "2.0.0",
       "_model_name": "HTMLStyleModel",
       "_view_count": null,
       "_view_module": "@jupyter-widgets/base",
       "_view_module_version": "2.0.0",
       "_view_name": "StyleView",
       "background": null,
       "description_width": "",
       "font_size": null,
       "text_color": null
      }
     },
     "9153df8db1af41138f74b5779f8a69db": {
      "model_module": "@jupyter-widgets/base",
      "model_module_version": "2.0.0",
      "model_name": "LayoutModel",
      "state": {
       "_model_module": "@jupyter-widgets/base",
       "_model_module_version": "2.0.0",
       "_model_name": "LayoutModel",
       "_view_count": null,
       "_view_module": "@jupyter-widgets/base",
       "_view_module_version": "2.0.0",
       "_view_name": "LayoutView",
       "align_content": null,
       "align_items": null,
       "align_self": null,
       "border_bottom": null,
       "border_left": null,
       "border_right": null,
       "border_top": null,
       "bottom": null,
       "display": null,
       "flex": null,
       "flex_flow": null,
       "grid_area": null,
       "grid_auto_columns": null,
       "grid_auto_flow": null,
       "grid_auto_rows": null,
       "grid_column": null,
       "grid_gap": null,
       "grid_row": null,
       "grid_template_areas": null,
       "grid_template_columns": null,
       "grid_template_rows": null,
       "height": null,
       "justify_content": null,
       "justify_items": null,
       "left": null,
       "margin": null,
       "max_height": null,
       "max_width": null,
       "min_height": null,
       "min_width": null,
       "object_fit": null,
       "object_position": null,
       "order": null,
       "overflow": null,
       "padding": null,
       "right": null,
       "top": null,
       "visibility": null,
       "width": null
      }
     },
     "aab4238dab4e40f5946d3d8e21117dd0": {
      "model_module": "@jupyter-widgets/controls",
      "model_module_version": "2.0.0",
      "model_name": "ProgressStyleModel",
      "state": {
       "_model_module": "@jupyter-widgets/controls",
       "_model_module_version": "2.0.0",
       "_model_name": "ProgressStyleModel",
       "_view_count": null,
       "_view_module": "@jupyter-widgets/base",
       "_view_module_version": "2.0.0",
       "_view_name": "StyleView",
       "bar_color": null,
       "description_width": ""
      }
     },
     "b2f5d9e14ab04d2a8e21166af2305e7f": {
      "model_module": "@jupyter-widgets/controls",
      "model_module_version": "2.0.0",
      "model_name": "HTMLStyleModel",
      "state": {
       "_model_module": "@jupyter-widgets/controls",
       "_model_module_version": "2.0.0",
       "_model_name": "HTMLStyleModel",
       "_view_count": null,
       "_view_module": "@jupyter-widgets/base",
       "_view_module_version": "2.0.0",
       "_view_name": "StyleView",
       "background": null,
       "description_width": "",
       "font_size": null,
       "text_color": null
      }
     },
     "bead5c3a5b6e44adb915c5825d425c8d": {
      "model_module": "@jupyter-widgets/controls",
      "model_module_version": "2.0.0",
      "model_name": "HTMLModel",
      "state": {
       "_dom_classes": [],
       "_model_module": "@jupyter-widgets/controls",
       "_model_module_version": "2.0.0",
       "_model_name": "HTMLModel",
       "_view_count": null,
       "_view_module": "@jupyter-widgets/controls",
       "_view_module_version": "2.0.0",
       "_view_name": "HTMLView",
       "description": "",
       "description_allow_html": false,
       "layout": "IPY_MODEL_df83a67ee37e4ad79d810b767a9cecee",
       "placeholder": "​",
       "style": "IPY_MODEL_7c7cd64541b94b89aefbffbe5dbb3b95",
       "tabbable": null,
       "tooltip": null,
       "value": "Best trial: 31. Best value: 12.8166: 100%"
      }
     },
     "df83a67ee37e4ad79d810b767a9cecee": {
      "model_module": "@jupyter-widgets/base",
      "model_module_version": "2.0.0",
      "model_name": "LayoutModel",
      "state": {
       "_model_module": "@jupyter-widgets/base",
       "_model_module_version": "2.0.0",
       "_model_name": "LayoutModel",
       "_view_count": null,
       "_view_module": "@jupyter-widgets/base",
       "_view_module_version": "2.0.0",
       "_view_name": "LayoutView",
       "align_content": null,
       "align_items": null,
       "align_self": null,
       "border_bottom": null,
       "border_left": null,
       "border_right": null,
       "border_top": null,
       "bottom": null,
       "display": null,
       "flex": null,
       "flex_flow": null,
       "grid_area": null,
       "grid_auto_columns": null,
       "grid_auto_flow": null,
       "grid_auto_rows": null,
       "grid_column": null,
       "grid_gap": null,
       "grid_row": null,
       "grid_template_areas": null,
       "grid_template_columns": null,
       "grid_template_rows": null,
       "height": null,
       "justify_content": null,
       "justify_items": null,
       "left": null,
       "margin": null,
       "max_height": null,
       "max_width": null,
       "min_height": null,
       "min_width": null,
       "object_fit": null,
       "object_position": null,
       "order": null,
       "overflow": null,
       "padding": null,
       "right": null,
       "top": null,
       "visibility": null,
       "width": null
      }
     },
     "e1b88e1eeb6b4cfdad40e48e70834dfa": {
      "model_module": "@jupyter-widgets/base",
      "model_module_version": "2.0.0",
      "model_name": "LayoutModel",
      "state": {
       "_model_module": "@jupyter-widgets/base",
       "_model_module_version": "2.0.0",
       "_model_name": "LayoutModel",
       "_view_count": null,
       "_view_module": "@jupyter-widgets/base",
       "_view_module_version": "2.0.0",
       "_view_name": "LayoutView",
       "align_content": null,
       "align_items": null,
       "align_self": null,
       "border_bottom": null,
       "border_left": null,
       "border_right": null,
       "border_top": null,
       "bottom": null,
       "display": null,
       "flex": null,
       "flex_flow": null,
       "grid_area": null,
       "grid_auto_columns": null,
       "grid_auto_flow": null,
       "grid_auto_rows": null,
       "grid_column": null,
       "grid_gap": null,
       "grid_row": null,
       "grid_template_areas": null,
       "grid_template_columns": null,
       "grid_template_rows": null,
       "height": null,
       "justify_content": null,
       "justify_items": null,
       "left": null,
       "margin": null,
       "max_height": null,
       "max_width": null,
       "min_height": null,
       "min_width": null,
       "object_fit": null,
       "object_position": null,
       "order": null,
       "overflow": null,
       "padding": null,
       "right": null,
       "top": null,
       "visibility": null,
       "width": null
      }
     },
     "f6d1b5c94edc4a8fbcf0771fcdcdba34": {
      "model_module": "@jupyter-widgets/controls",
      "model_module_version": "2.0.0",
      "model_name": "HTMLModel",
      "state": {
       "_dom_classes": [],
       "_model_module": "@jupyter-widgets/controls",
       "_model_module_version": "2.0.0",
       "_model_name": "HTMLModel",
       "_view_count": null,
       "_view_module": "@jupyter-widgets/controls",
       "_view_module_version": "2.0.0",
       "_view_name": "HTMLView",
       "description": "",
       "description_allow_html": false,
       "layout": "IPY_MODEL_e1b88e1eeb6b4cfdad40e48e70834dfa",
       "placeholder": "​",
       "style": "IPY_MODEL_b2f5d9e14ab04d2a8e21166af2305e7f",
       "tabbable": null,
       "tooltip": null,
       "value": " 50/50 [1:55:11&lt;00:00, 180.52s/it]"
      }
     }
    },
    "version_major": 2,
    "version_minor": 0
   }
  }
 },
 "nbformat": 4,
 "nbformat_minor": 5
}
